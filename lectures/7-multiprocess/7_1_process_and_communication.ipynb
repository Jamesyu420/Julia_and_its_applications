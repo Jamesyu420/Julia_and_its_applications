{
 "cells": [
  {
   "cell_type": "markdown",
   "id": "0b96f791",
   "metadata": {},
   "source": [
    "# 并行计算简介 （二）\n",
    "\n",
    "日期： 10.21\n",
    "\n",
    "作者： 陈久宁\n",
    "\n",
    "大纲:\n",
    "\n",
    "- 进程模型\n",
    "- 进程间通信\n",
    "\n",
    "Julia 的多进程主要基于 [Distributed](https://docs.julialang.org/en/v1/manual/distributed-computing/) 这个标准库。"
   ]
  },
  {
   "cell_type": "code",
   "execution_count": 1,
   "id": "43cb22dd",
   "metadata": {},
   "outputs": [],
   "source": [
    "using Distributed, SharedArrays\n",
    "using BenchmarkTools"
   ]
  },
  {
   "cell_type": "markdown",
   "id": "69c86545",
   "metadata": {},
   "source": [
    "## 多进程\n",
    "\n",
    "每一个进程是一个独立的计算单元： 它有独立的计算资源和独立的内存资源。 不同于多线程互相共享内存的模式， 多进程的内存共享必须通过手动通信的方式来实现。\n",
    "\n",
    "通讯网络的拓扑模型可以很简单也可以很复杂，最简单的两种模型是：\n",
    "\n",
    "- all-to-all: 任意两个节点之间可以互相通信\n",
    "- master-worker: 存在中心节点 master， 其他所有节点都只能与 master 节点通信. Mapreduce 就是典型的 master-worker 模型\n",
    "\n",
    "![](master_worker_model.png)"
   ]
  },
  {
   "cell_type": "markdown",
   "id": "b533ef7e",
   "metadata": {},
   "source": [
    "一些查询进程状态的函数"
   ]
  },
  {
   "cell_type": "code",
   "execution_count": 3,
   "id": "dc4dcdd4",
   "metadata": {
    "scrolled": true
   },
   "outputs": [
    {
     "name": "stdout",
     "output_type": "stream",
     "text": [
      "Distributed.nprocs() = 1\n",
      "Distributed.procs() = [1]\n",
      "Distributed.workers() = [1]\n",
      "Distributed.myid() = 1\n"
     ]
    },
    {
     "data": {
      "text/plain": [
       "1"
      ]
     },
     "execution_count": 3,
     "metadata": {},
     "output_type": "execute_result"
    }
   ],
   "source": [
    "@show Distributed.nprocs()\n",
    "@show Distributed.procs()\n",
    "@show Distributed.workers()\n",
    "@show Distributed.myid()"
   ]
  },
  {
   "cell_type": "markdown",
   "id": "af0d4734",
   "metadata": {},
   "source": [
    "增加或者删除进程可以通过 `addprocs` 和 `rmprocs` 来实现. 在启动 Julia 的时候也可以通过 `-p` 参数来设定，例如 `julia -p 4` 或者 `julia -p auto`"
   ]
  },
  {
   "cell_type": "code",
   "execution_count": 4,
   "id": "1d310d33",
   "metadata": {
    "scrolled": true
   },
   "outputs": [
    {
     "data": {
      "text/plain": [
       "5-element Vector{Int64}:\n",
       " 2\n",
       " 3\n",
       " 4\n",
       " 5\n",
       " 6"
      ]
     },
     "execution_count": 4,
     "metadata": {},
     "output_type": "execute_result"
    }
   ],
   "source": [
    "Distributed.addprocs(5)"
   ]
  },
  {
   "cell_type": "code",
   "execution_count": 5,
   "id": "0819ace6",
   "metadata": {},
   "outputs": [
    {
     "name": "stdout",
     "output_type": "stream",
     "text": [
      "Distributed.nprocs() = 6\n",
      "Distributed.procs() = [1, 2, 3, 4, 5, 6]\n",
      "Distributed.workers() = [2, 3, 4, 5, 6]\n",
      "Distributed.myid() = 1\n"
     ]
    },
    {
     "data": {
      "text/plain": [
       "1"
      ]
     },
     "execution_count": 5,
     "metadata": {},
     "output_type": "execute_result"
    }
   ],
   "source": [
    "@show Distributed.nprocs()\n",
    "@show Distributed.procs()\n",
    "@show Distributed.workers()\n",
    "@show Distributed.myid()"
   ]
  },
  {
   "cell_type": "code",
   "execution_count": 6,
   "id": "cced0b42",
   "metadata": {},
   "outputs": [
    {
     "data": {
      "text/plain": [
       "Task (done) @0x000000017b9171f0"
      ]
     },
     "execution_count": 6,
     "metadata": {},
     "output_type": "execute_result"
    }
   ],
   "source": [
    "Distributed.rmprocs(2)"
   ]
  },
  {
   "cell_type": "code",
   "execution_count": 7,
   "id": "7821b478",
   "metadata": {},
   "outputs": [
    {
     "name": "stdout",
     "output_type": "stream",
     "text": [
      "Distributed.nprocs() = 5\n",
      "Distributed.procs() = [1, 3, 4, 5, 6]\n",
      "Distributed.workers() = [3, 4, 5, 6]\n",
      "Distributed.myid() = 1\n"
     ]
    },
    {
     "data": {
      "text/plain": [
       "1"
      ]
     },
     "execution_count": 7,
     "metadata": {},
     "output_type": "execute_result"
    }
   ],
   "source": [
    "@show Distributed.nprocs()\n",
    "@show Distributed.procs()\n",
    "@show Distributed.workers()\n",
    "@show Distributed.myid()"
   ]
  },
  {
   "cell_type": "markdown",
   "id": "7518b868",
   "metadata": {},
   "source": [
    "## `@distributed`、`SharedArray` 与 `@everywhere`\n",
    "\n",
    "类似于 `@threads`，存在 `@distributed` 来对 for 循环实现基本的多进程.\n",
    "\n",
    "由于内存不共享，所以像下面这种操作是无法正常工作的。这是因为每一个进程都保留了一份 `a` 的矩阵。"
   ]
  },
  {
   "cell_type": "code",
   "execution_count": 102,
   "id": "f762f9fa",
   "metadata": {
    "scrolled": false
   },
   "outputs": [
    {
     "name": "stdout",
     "output_type": "stream",
     "text": [
      "      From worker 6:\t6\n",
      "      From worker 6:\t6\n",
      "      From worker 5:\t5\n",
      "      From worker 3:\t3\n",
      "      From worker 5:\t5\n",
      "      From worker 3:\t3\n",
      "      From worker 4:\t4\n",
      "      From worker 3:\t3\n",
      "      From worker 4:\t4\n",
      "      From worker 4:\t4\n"
     ]
    },
    {
     "data": {
      "text/plain": [
       "10-element Vector{Float64}:\n",
       " 0.0\n",
       " 0.0\n",
       " 0.0\n",
       " 0.0\n",
       " 0.0\n",
       " 0.0\n",
       " 0.0\n",
       " 0.0\n",
       " 0.0\n",
       " 0.0"
      ]
     },
     "execution_count": 102,
     "metadata": {},
     "output_type": "execute_result"
    }
   ],
   "source": [
    "a = zeros(10)\n",
    "@distributed for i = 1:10\n",
    "    a[i] = Distributed.myid()\n",
    "end\n",
    "a"
   ]
  },
  {
   "cell_type": "markdown",
   "id": "7244ea09",
   "metadata": {},
   "source": [
    "可以使用 `SharedArray` 来共享：这个矩阵类型将具体的通讯细节隐藏在背后了"
   ]
  },
  {
   "cell_type": "code",
   "execution_count": 104,
   "id": "f4da3a0b",
   "metadata": {
    "scrolled": true
   },
   "outputs": [
    {
     "data": {
      "text/plain": [
       "10-element SharedVector{Float64}:\n",
       " 3.0\n",
       " 3.0\n",
       " 3.0\n",
       " 4.0\n",
       " 4.0\n",
       " 4.0\n",
       " 5.0\n",
       " 5.0\n",
       " 6.0\n",
       " 6.0"
      ]
     },
     "execution_count": 104,
     "metadata": {},
     "output_type": "execute_result"
    }
   ],
   "source": [
    "a = SharedArray{Float64}(10)\n",
    "t = @distributed for i = 1:10\n",
    "    a[i] = Distributed.myid()\n",
    "end\n",
    "wait(t)\n",
    "a"
   ]
  },
  {
   "cell_type": "markdown",
   "id": "f17f853a",
   "metadata": {},
   "source": [
    "Note:\n",
    "\n",
    "- `SharedArray`: 所有进程共享一个全局的内存空间，背后会发生隐式的数据同步。这其实\n",
    "- `DistributedArray`: 每个进程仅仅拥有一小块数据的写权限，以及其他所有数据的读权限。"
   ]
  },
  {
   "cell_type": "markdown",
   "id": "40d50f1d",
   "metadata": {},
   "source": [
    "对于典型的 `mapreduce` 运算来说，`@distributed` 也提供了简单的接口"
   ]
  },
  {
   "cell_type": "code",
   "execution_count": 32,
   "id": "2b035464",
   "metadata": {
    "scrolled": true
   },
   "outputs": [
    {
     "data": {
      "text/plain": [
       "true"
      ]
     },
     "execution_count": 32,
     "metadata": {},
     "output_type": "execute_result"
    }
   ],
   "source": [
    "rst = @distributed (+) for i = 1:10\n",
    "    i*i\n",
    "end\n",
    "\n",
    "rst == mapreduce(i->i*i, +, 1:10)"
   ]
  },
  {
   "cell_type": "markdown",
   "id": "49c1e337",
   "metadata": {},
   "source": [
    "不同于多线程计算， 多进程中因为内存数据不共享， 因此函数也需要在每个进程上都有定义才行。 `@everywhere` 宏的意思是在每个进程上都执行对应的操作。\n",
    "\n",
    "`@everywhere` 常用在函数定义和 `include` 上:\n",
    "\n",
    "```julia\n",
    "@everywhere function foo()\n",
    "    ...\n",
    "end\n",
    "\n",
    "@everywhere include(...)\n",
    "@everywhere using SomePackage\n",
    "```"
   ]
  },
  {
   "cell_type": "code",
   "execution_count": 106,
   "id": "a253b953",
   "metadata": {
    "scrolled": true
   },
   "outputs": [
    {
     "ename": "LoadError",
     "evalue": "TaskFailedException\n\n\u001b[91m    nested task error: \u001b[39mOn worker 3:\n    UndefVarError: #f1 not defined\n    Stacktrace:\n      [1] \u001b[0m\u001b[1mdeserialize_datatype\u001b[22m\n    \u001b[90m    @ \u001b[39m\u001b[90m/Applications/Julia-1.7.app/Contents/Resources/julia/share/julia/stdlib/v1.7/Serialization/src/\u001b[39m\u001b[90m\u001b[4mSerialization.jl:1332\u001b[24m\u001b[39m\n      [2] \u001b[0m\u001b[1mhandle_deserialize\u001b[22m\n    \u001b[90m    @ \u001b[39m\u001b[90m/Applications/Julia-1.7.app/Contents/Resources/julia/share/julia/stdlib/v1.7/Serialization/src/\u001b[39m\u001b[90m\u001b[4mSerialization.jl:854\u001b[24m\u001b[39m\n      [3] \u001b[0m\u001b[1mdeserialize\u001b[22m\n    \u001b[90m    @ \u001b[39m\u001b[90m/Applications/Julia-1.7.app/Contents/Resources/julia/share/julia/stdlib/v1.7/Serialization/src/\u001b[39m\u001b[90m\u001b[4mSerialization.jl:801\u001b[24m\u001b[39m\n      [4] \u001b[0m\u001b[1mhandle_deserialize\u001b[22m\n    \u001b[90m    @ \u001b[39m\u001b[90m/Applications/Julia-1.7.app/Contents/Resources/julia/share/julia/stdlib/v1.7/Serialization/src/\u001b[39m\u001b[90m\u001b[4mSerialization.jl:861\u001b[24m\u001b[39m\n      [5] \u001b[0m\u001b[1mdeserialize\u001b[22m\n    \u001b[90m    @ \u001b[39m\u001b[90m/Applications/Julia-1.7.app/Contents/Resources/julia/share/julia/stdlib/v1.7/Serialization/src/\u001b[39m\u001b[90m\u001b[4mSerialization.jl:801\u001b[24m\u001b[39m\u001b[90m [inlined]\u001b[39m\n      [6] \u001b[0m\u001b[1mdeserialize_global_from_main\u001b[22m\n    \u001b[90m    @ \u001b[39m\u001b[90m/Applications/Julia-1.7.app/Contents/Resources/julia/share/julia/stdlib/v1.7/Distributed/src/\u001b[39m\u001b[90m\u001b[4mclusterserialize.jl:160\u001b[24m\u001b[39m\n      [7] \u001b[0m\u001b[1m#3\u001b[22m\n    \u001b[90m    @ \u001b[39m\u001b[90m/Applications/Julia-1.7.app/Contents/Resources/julia/share/julia/stdlib/v1.7/Distributed/src/\u001b[39m\u001b[90m\u001b[4mclusterserialize.jl:72\u001b[24m\u001b[39m\u001b[90m [inlined]\u001b[39m\n      [8] \u001b[0m\u001b[1mforeach\u001b[22m\n    \u001b[90m    @ \u001b[39m\u001b[90m./\u001b[39m\u001b[90m\u001b[4mabstractarray.jl:2694\u001b[24m\u001b[39m\n      [9] \u001b[0m\u001b[1mdeserialize\u001b[22m\n    \u001b[90m    @ \u001b[39m\u001b[90m/Applications/Julia-1.7.app/Contents/Resources/julia/share/julia/stdlib/v1.7/Distributed/src/\u001b[39m\u001b[90m\u001b[4mclusterserialize.jl:72\u001b[24m\u001b[39m\n     [10] \u001b[0m\u001b[1mhandle_deserialize\u001b[22m\n    \u001b[90m    @ \u001b[39m\u001b[90m/Applications/Julia-1.7.app/Contents/Resources/julia/share/julia/stdlib/v1.7/Serialization/src/\u001b[39m\u001b[90m\u001b[4mSerialization.jl:947\u001b[24m\u001b[39m\n     [11] \u001b[0m\u001b[1mdeserialize\u001b[22m\n    \u001b[90m    @ \u001b[39m\u001b[90m/Applications/Julia-1.7.app/Contents/Resources/julia/share/julia/stdlib/v1.7/Serialization/src/\u001b[39m\u001b[90m\u001b[4mSerialization.jl:801\u001b[24m\u001b[39m\n     [12] \u001b[0m\u001b[1mhandle_deserialize\u001b[22m\n    \u001b[90m    @ \u001b[39m\u001b[90m/Applications/Julia-1.7.app/Contents/Resources/julia/share/julia/stdlib/v1.7/Serialization/src/\u001b[39m\u001b[90m\u001b[4mSerialization.jl:858\u001b[24m\u001b[39m\n     [13] \u001b[0m\u001b[1mdeserialize\u001b[22m\n    \u001b[90m    @ \u001b[39m\u001b[90m/Applications/Julia-1.7.app/Contents/Resources/julia/share/julia/stdlib/v1.7/Serialization/src/\u001b[39m\u001b[90m\u001b[4mSerialization.jl:801\u001b[24m\u001b[39m\n     [14] \u001b[0m\u001b[1mhandle_deserialize\u001b[22m\n    \u001b[90m    @ \u001b[39m\u001b[90m/Applications/Julia-1.7.app/Contents/Resources/julia/share/julia/stdlib/v1.7/Serialization/src/\u001b[39m\u001b[90m\u001b[4mSerialization.jl:861\u001b[24m\u001b[39m\n     [15] \u001b[0m\u001b[1mdeserialize\u001b[22m\n    \u001b[90m    @ \u001b[39m\u001b[90m/Applications/Julia-1.7.app/Contents/Resources/julia/share/julia/stdlib/v1.7/Serialization/src/\u001b[39m\u001b[90m\u001b[4mSerialization.jl:801\u001b[24m\u001b[39m\u001b[90m [inlined]\u001b[39m\n     [16] \u001b[0m\u001b[1mdeserialize_msg\u001b[22m\n    \u001b[90m    @ \u001b[39m\u001b[90m/Applications/Julia-1.7.app/Contents/Resources/julia/share/julia/stdlib/v1.7/Distributed/src/\u001b[39m\u001b[90m\u001b[4mmessages.jl:87\u001b[24m\u001b[39m\n     [17] \u001b[0m\u001b[1m#invokelatest#2\u001b[22m\n    \u001b[90m    @ \u001b[39m\u001b[90m./\u001b[39m\u001b[90m\u001b[4messentials.jl:716\u001b[24m\u001b[39m\u001b[90m [inlined]\u001b[39m\n     [18] \u001b[0m\u001b[1minvokelatest\u001b[22m\n    \u001b[90m    @ \u001b[39m\u001b[90m./\u001b[39m\u001b[90m\u001b[4messentials.jl:714\u001b[24m\u001b[39m\u001b[90m [inlined]\u001b[39m\n     [19] \u001b[0m\u001b[1mmessage_handler_loop\u001b[22m\n    \u001b[90m    @ \u001b[39m\u001b[90m/Applications/Julia-1.7.app/Contents/Resources/julia/share/julia/stdlib/v1.7/Distributed/src/\u001b[39m\u001b[90m\u001b[4mprocess_messages.jl:169\u001b[24m\u001b[39m\n     [20] \u001b[0m\u001b[1mprocess_tcp_streams\u001b[22m\n    \u001b[90m    @ \u001b[39m\u001b[90m/Applications/Julia-1.7.app/Contents/Resources/julia/share/julia/stdlib/v1.7/Distributed/src/\u001b[39m\u001b[90m\u001b[4mprocess_messages.jl:126\u001b[24m\u001b[39m\n     [21] \u001b[0m\u001b[1m#99\u001b[22m\n    \u001b[90m    @ \u001b[39m\u001b[90m./\u001b[39m\u001b[90m\u001b[4mtask.jl:411\u001b[24m\u001b[39m\n    Stacktrace:\n     [1] \u001b[0m\u001b[1mremotecall_fetch\u001b[22m\u001b[0m\u001b[1m(\u001b[22m::\u001b[0mFunction, ::\u001b[0mDistributed.Worker, ::\u001b[0mFunction, ::\u001b[0mVararg\u001b[90m{Any}\u001b[39m; \u001b[90mkwargs\u001b[39m::\u001b[0mBase.Pairs\u001b[90m{Symbol, Union{}, Tuple{}, NamedTuple{(), Tuple{}}}\u001b[39m\u001b[0m\u001b[1m)\u001b[22m\n    \u001b[90m   @ \u001b[39m\u001b[35mDistributed\u001b[39m \u001b[90m/Applications/Julia-1.7.app/Contents/Resources/julia/share/julia/stdlib/v1.7/Distributed/src/\u001b[39m\u001b[90m\u001b[4mremotecall.jl:449\u001b[24m\u001b[39m\n     [2] \u001b[0m\u001b[1mremotecall_fetch\u001b[22m\n    \u001b[90m   @ \u001b[39m\u001b[90m/Applications/Julia-1.7.app/Contents/Resources/julia/share/julia/stdlib/v1.7/Distributed/src/\u001b[39m\u001b[90m\u001b[4mremotecall.jl:441\u001b[24m\u001b[39m\u001b[90m [inlined]\u001b[39m\n     [3] \u001b[0m\u001b[1m#remotecall_fetch#158\u001b[22m\n    \u001b[90m   @ \u001b[39m\u001b[90m/Applications/Julia-1.7.app/Contents/Resources/julia/share/julia/stdlib/v1.7/Distributed/src/\u001b[39m\u001b[90m\u001b[4mremotecall.jl:476\u001b[24m\u001b[39m\u001b[90m [inlined]\u001b[39m\n     [4] \u001b[0m\u001b[1mremotecall_fetch\u001b[22m\n    \u001b[90m   @ \u001b[39m\u001b[90m/Applications/Julia-1.7.app/Contents/Resources/julia/share/julia/stdlib/v1.7/Distributed/src/\u001b[39m\u001b[90m\u001b[4mremotecall.jl:476\u001b[24m\u001b[39m\u001b[90m [inlined]\u001b[39m\n     [5] \u001b[0m\u001b[1m(::Distributed.var\"#169#170\"{typeof(+), var\"#167#168\", UnitRange{Int64}, Vector{UnitRange{Int64}}, Int64, Int64})\u001b[22m\u001b[0m\u001b[1m(\u001b[22m\u001b[0m\u001b[1m)\u001b[22m\n    \u001b[90m   @ \u001b[39m\u001b[35mDistributed\u001b[39m \u001b[90m/Applications/Julia-1.7.app/Contents/Resources/julia/share/julia/stdlib/v1.7/Distributed/src/\u001b[39m\u001b[90m\u001b[4mmacros.jl:270\u001b[24m\u001b[39m",
     "output_type": "error",
     "traceback": [
      "TaskFailedException\n\n\u001b[91m    nested task error: \u001b[39mOn worker 3:\n    UndefVarError: #f1 not defined\n    Stacktrace:\n      [1] \u001b[0m\u001b[1mdeserialize_datatype\u001b[22m\n    \u001b[90m    @ \u001b[39m\u001b[90m/Applications/Julia-1.7.app/Contents/Resources/julia/share/julia/stdlib/v1.7/Serialization/src/\u001b[39m\u001b[90m\u001b[4mSerialization.jl:1332\u001b[24m\u001b[39m\n      [2] \u001b[0m\u001b[1mhandle_deserialize\u001b[22m\n    \u001b[90m    @ \u001b[39m\u001b[90m/Applications/Julia-1.7.app/Contents/Resources/julia/share/julia/stdlib/v1.7/Serialization/src/\u001b[39m\u001b[90m\u001b[4mSerialization.jl:854\u001b[24m\u001b[39m\n      [3] \u001b[0m\u001b[1mdeserialize\u001b[22m\n    \u001b[90m    @ \u001b[39m\u001b[90m/Applications/Julia-1.7.app/Contents/Resources/julia/share/julia/stdlib/v1.7/Serialization/src/\u001b[39m\u001b[90m\u001b[4mSerialization.jl:801\u001b[24m\u001b[39m\n      [4] \u001b[0m\u001b[1mhandle_deserialize\u001b[22m\n    \u001b[90m    @ \u001b[39m\u001b[90m/Applications/Julia-1.7.app/Contents/Resources/julia/share/julia/stdlib/v1.7/Serialization/src/\u001b[39m\u001b[90m\u001b[4mSerialization.jl:861\u001b[24m\u001b[39m\n      [5] \u001b[0m\u001b[1mdeserialize\u001b[22m\n    \u001b[90m    @ \u001b[39m\u001b[90m/Applications/Julia-1.7.app/Contents/Resources/julia/share/julia/stdlib/v1.7/Serialization/src/\u001b[39m\u001b[90m\u001b[4mSerialization.jl:801\u001b[24m\u001b[39m\u001b[90m [inlined]\u001b[39m\n      [6] \u001b[0m\u001b[1mdeserialize_global_from_main\u001b[22m\n    \u001b[90m    @ \u001b[39m\u001b[90m/Applications/Julia-1.7.app/Contents/Resources/julia/share/julia/stdlib/v1.7/Distributed/src/\u001b[39m\u001b[90m\u001b[4mclusterserialize.jl:160\u001b[24m\u001b[39m\n      [7] \u001b[0m\u001b[1m#3\u001b[22m\n    \u001b[90m    @ \u001b[39m\u001b[90m/Applications/Julia-1.7.app/Contents/Resources/julia/share/julia/stdlib/v1.7/Distributed/src/\u001b[39m\u001b[90m\u001b[4mclusterserialize.jl:72\u001b[24m\u001b[39m\u001b[90m [inlined]\u001b[39m\n      [8] \u001b[0m\u001b[1mforeach\u001b[22m\n    \u001b[90m    @ \u001b[39m\u001b[90m./\u001b[39m\u001b[90m\u001b[4mabstractarray.jl:2694\u001b[24m\u001b[39m\n      [9] \u001b[0m\u001b[1mdeserialize\u001b[22m\n    \u001b[90m    @ \u001b[39m\u001b[90m/Applications/Julia-1.7.app/Contents/Resources/julia/share/julia/stdlib/v1.7/Distributed/src/\u001b[39m\u001b[90m\u001b[4mclusterserialize.jl:72\u001b[24m\u001b[39m\n     [10] \u001b[0m\u001b[1mhandle_deserialize\u001b[22m\n    \u001b[90m    @ \u001b[39m\u001b[90m/Applications/Julia-1.7.app/Contents/Resources/julia/share/julia/stdlib/v1.7/Serialization/src/\u001b[39m\u001b[90m\u001b[4mSerialization.jl:947\u001b[24m\u001b[39m\n     [11] \u001b[0m\u001b[1mdeserialize\u001b[22m\n    \u001b[90m    @ \u001b[39m\u001b[90m/Applications/Julia-1.7.app/Contents/Resources/julia/share/julia/stdlib/v1.7/Serialization/src/\u001b[39m\u001b[90m\u001b[4mSerialization.jl:801\u001b[24m\u001b[39m\n     [12] \u001b[0m\u001b[1mhandle_deserialize\u001b[22m\n    \u001b[90m    @ \u001b[39m\u001b[90m/Applications/Julia-1.7.app/Contents/Resources/julia/share/julia/stdlib/v1.7/Serialization/src/\u001b[39m\u001b[90m\u001b[4mSerialization.jl:858\u001b[24m\u001b[39m\n     [13] \u001b[0m\u001b[1mdeserialize\u001b[22m\n    \u001b[90m    @ \u001b[39m\u001b[90m/Applications/Julia-1.7.app/Contents/Resources/julia/share/julia/stdlib/v1.7/Serialization/src/\u001b[39m\u001b[90m\u001b[4mSerialization.jl:801\u001b[24m\u001b[39m\n     [14] \u001b[0m\u001b[1mhandle_deserialize\u001b[22m\n    \u001b[90m    @ \u001b[39m\u001b[90m/Applications/Julia-1.7.app/Contents/Resources/julia/share/julia/stdlib/v1.7/Serialization/src/\u001b[39m\u001b[90m\u001b[4mSerialization.jl:861\u001b[24m\u001b[39m\n     [15] \u001b[0m\u001b[1mdeserialize\u001b[22m\n    \u001b[90m    @ \u001b[39m\u001b[90m/Applications/Julia-1.7.app/Contents/Resources/julia/share/julia/stdlib/v1.7/Serialization/src/\u001b[39m\u001b[90m\u001b[4mSerialization.jl:801\u001b[24m\u001b[39m\u001b[90m [inlined]\u001b[39m\n     [16] \u001b[0m\u001b[1mdeserialize_msg\u001b[22m\n    \u001b[90m    @ \u001b[39m\u001b[90m/Applications/Julia-1.7.app/Contents/Resources/julia/share/julia/stdlib/v1.7/Distributed/src/\u001b[39m\u001b[90m\u001b[4mmessages.jl:87\u001b[24m\u001b[39m\n     [17] \u001b[0m\u001b[1m#invokelatest#2\u001b[22m\n    \u001b[90m    @ \u001b[39m\u001b[90m./\u001b[39m\u001b[90m\u001b[4messentials.jl:716\u001b[24m\u001b[39m\u001b[90m [inlined]\u001b[39m\n     [18] \u001b[0m\u001b[1minvokelatest\u001b[22m\n    \u001b[90m    @ \u001b[39m\u001b[90m./\u001b[39m\u001b[90m\u001b[4messentials.jl:714\u001b[24m\u001b[39m\u001b[90m [inlined]\u001b[39m\n     [19] \u001b[0m\u001b[1mmessage_handler_loop\u001b[22m\n    \u001b[90m    @ \u001b[39m\u001b[90m/Applications/Julia-1.7.app/Contents/Resources/julia/share/julia/stdlib/v1.7/Distributed/src/\u001b[39m\u001b[90m\u001b[4mprocess_messages.jl:169\u001b[24m\u001b[39m\n     [20] \u001b[0m\u001b[1mprocess_tcp_streams\u001b[22m\n    \u001b[90m    @ \u001b[39m\u001b[90m/Applications/Julia-1.7.app/Contents/Resources/julia/share/julia/stdlib/v1.7/Distributed/src/\u001b[39m\u001b[90m\u001b[4mprocess_messages.jl:126\u001b[24m\u001b[39m\n     [21] \u001b[0m\u001b[1m#99\u001b[22m\n    \u001b[90m    @ \u001b[39m\u001b[90m./\u001b[39m\u001b[90m\u001b[4mtask.jl:411\u001b[24m\u001b[39m\n    Stacktrace:\n     [1] \u001b[0m\u001b[1mremotecall_fetch\u001b[22m\u001b[0m\u001b[1m(\u001b[22m::\u001b[0mFunction, ::\u001b[0mDistributed.Worker, ::\u001b[0mFunction, ::\u001b[0mVararg\u001b[90m{Any}\u001b[39m; \u001b[90mkwargs\u001b[39m::\u001b[0mBase.Pairs\u001b[90m{Symbol, Union{}, Tuple{}, NamedTuple{(), Tuple{}}}\u001b[39m\u001b[0m\u001b[1m)\u001b[22m\n    \u001b[90m   @ \u001b[39m\u001b[35mDistributed\u001b[39m \u001b[90m/Applications/Julia-1.7.app/Contents/Resources/julia/share/julia/stdlib/v1.7/Distributed/src/\u001b[39m\u001b[90m\u001b[4mremotecall.jl:449\u001b[24m\u001b[39m\n     [2] \u001b[0m\u001b[1mremotecall_fetch\u001b[22m\n    \u001b[90m   @ \u001b[39m\u001b[90m/Applications/Julia-1.7.app/Contents/Resources/julia/share/julia/stdlib/v1.7/Distributed/src/\u001b[39m\u001b[90m\u001b[4mremotecall.jl:441\u001b[24m\u001b[39m\u001b[90m [inlined]\u001b[39m\n     [3] \u001b[0m\u001b[1m#remotecall_fetch#158\u001b[22m\n    \u001b[90m   @ \u001b[39m\u001b[90m/Applications/Julia-1.7.app/Contents/Resources/julia/share/julia/stdlib/v1.7/Distributed/src/\u001b[39m\u001b[90m\u001b[4mremotecall.jl:476\u001b[24m\u001b[39m\u001b[90m [inlined]\u001b[39m\n     [4] \u001b[0m\u001b[1mremotecall_fetch\u001b[22m\n    \u001b[90m   @ \u001b[39m\u001b[90m/Applications/Julia-1.7.app/Contents/Resources/julia/share/julia/stdlib/v1.7/Distributed/src/\u001b[39m\u001b[90m\u001b[4mremotecall.jl:476\u001b[24m\u001b[39m\u001b[90m [inlined]\u001b[39m\n     [5] \u001b[0m\u001b[1m(::Distributed.var\"#169#170\"{typeof(+), var\"#167#168\", UnitRange{Int64}, Vector{UnitRange{Int64}}, Int64, Int64})\u001b[22m\u001b[0m\u001b[1m(\u001b[22m\u001b[0m\u001b[1m)\u001b[22m\n    \u001b[90m   @ \u001b[39m\u001b[35mDistributed\u001b[39m \u001b[90m/Applications/Julia-1.7.app/Contents/Resources/julia/share/julia/stdlib/v1.7/Distributed/src/\u001b[39m\u001b[90m\u001b[4mmacros.jl:270\u001b[24m\u001b[39m",
      "",
      "Stacktrace:",
      " [1] wait",
      "   @ ./task.jl:322 [inlined]",
      " [2] fetch",
      "   @ ./task.jl:337 [inlined]",
      " [3] preduce(reducer::Function, f::Function, R::UnitRange{Int64})",
      "   @ Distributed /Applications/Julia-1.7.app/Contents/Resources/julia/share/julia/stdlib/v1.7/Distributed/src/macros.jl:274",
      " [4] top-level scope",
      "   @ /Applications/Julia-1.7.app/Contents/Resources/julia/share/julia/stdlib/v1.7/Distributed/src/macros.jl:286",
      " [5] eval",
      "   @ ./boot.jl:373 [inlined]",
      " [6] include_string(mapexpr::typeof(REPL.softscope), mod::Module, code::String, filename::String)",
      "   @ Base ./loading.jl:1196"
     ]
    }
   ],
   "source": [
    "f1(x) = x*x # f1 仅在 master node 上有定义\n",
    "rst = @distributed (+) for i = 1:10\n",
    "    f1(i)\n",
    "end"
   ]
  },
  {
   "cell_type": "code",
   "execution_count": 113,
   "id": "8c74caca",
   "metadata": {
    "scrolled": false
   },
   "outputs": [
    {
     "name": "stdout",
     "output_type": "stream",
     "text": [
      "      From worker 4:\ttmp = 0.9308592623868832\n"
     ]
    },
    {
     "data": {
      "text/plain": [
       "385"
      ]
     },
     "execution_count": 113,
     "metadata": {},
     "output_type": "execute_result"
    }
   ],
   "source": [
    "@everywhere f2(x) = x*x # 在每个进程上都定义 f2\n",
    "rst = @distributed (+) for i = 1:10\n",
    "    f2(i)\n",
    "end"
   ]
  },
  {
   "cell_type": "markdown",
   "id": "9cbbd316",
   "metadata": {},
   "source": [
    "## 多进程任务模型\n",
    "\n",
    "[MPI (message passing interface)](https://en.wikipedia.org/wiki/Message_Passing_Interface) 是一个典型的基于消息传递的通讯协议，在其他语言的多进程计算中使用的比较广泛。\n",
    "\n",
    "Julia 的多进程计算则是基于 Remote References `Future` 和 Remote call (`remotecall`/`@spawnat`) 的机制：\n",
    "\n",
    "- 利用 `remotecall`/`@spawnat` 创建任务并分配出去，然后返回一个 `Future` 对象\n",
    "- 利用 `wait`/`fetch` 来等待 `Future` 对象对应的任务执行完成"
   ]
  },
  {
   "cell_type": "markdown",
   "id": "e3e87e20",
   "metadata": {},
   "source": [
    "`remotecall` 或 `@spawnat` 会立刻返回一个 `Future` 对象，它并不含有真正的值：仅仅只是表明有一个异步任务被分配出去了。"
   ]
  },
  {
   "cell_type": "code",
   "execution_count": 114,
   "id": "ca6b74e6",
   "metadata": {},
   "outputs": [
    {
     "data": {
      "text/plain": [
       "Future(3, 1, 466, nothing)"
      ]
     },
     "execution_count": 114,
     "metadata": {},
     "output_type": "execute_result"
    }
   ],
   "source": [
    "# 在 3 这个进程上执行 rand(2, 2)\n",
    "r = remotecall(rand, 3, 2, 2)"
   ]
  },
  {
   "cell_type": "markdown",
   "id": "62798175",
   "metadata": {},
   "source": [
    "`@spawnat` 是对 `remotecall` 的一个宏包装，本质上没有太大差别"
   ]
  },
  {
   "cell_type": "code",
   "execution_count": 143,
   "id": "98838cfd",
   "metadata": {},
   "outputs": [
    {
     "data": {
      "text/plain": [
       "4"
      ]
     },
     "execution_count": 143,
     "metadata": {},
     "output_type": "execute_result"
    }
   ],
   "source": [
    "r = @spawn Distributed.myid()\n",
    "fetch(r)"
   ]
  },
  {
   "cell_type": "code",
   "execution_count": 121,
   "id": "2d9ca2c9",
   "metadata": {},
   "outputs": [
    {
     "data": {
      "text/plain": [
       "Future(3, 1, 479, nothing)"
      ]
     },
     "execution_count": 121,
     "metadata": {},
     "output_type": "execute_result"
    }
   ],
   "source": [
    "# 在 3 这个进程上执行 rand(2, 2)\n",
    "r = @spawnat 3 rand(2, 2)"
   ]
  },
  {
   "cell_type": "markdown",
   "id": "3db9a061",
   "metadata": {},
   "source": [
    "可以使用 `wait` 或者 `fetch` 来等待一个 `Future` 对象背后的任务执行完成。唯一的差别在于 `fetch` 会拿到返回值。"
   ]
  },
  {
   "cell_type": "code",
   "execution_count": 119,
   "id": "fe778c13",
   "metadata": {},
   "outputs": [
    {
     "name": "stdout",
     "output_type": "stream",
     "text": [
      "  0.000108 seconds (27 allocations: 752 bytes)\n",
      "  0.000342 seconds (40 allocations: 1.547 KiB)\n"
     ]
    },
    {
     "data": {
      "text/plain": [
       "Future(3, 1, 475, nothing)"
      ]
     },
     "execution_count": 119,
     "metadata": {},
     "output_type": "execute_result"
    }
   ],
   "source": [
    "r = @time remotecall(rand, 3, 1000, 1000)\n",
    "@time wait(r)"
   ]
  },
  {
   "cell_type": "code",
   "execution_count": 145,
   "id": "c57dbf9d",
   "metadata": {
    "scrolled": false
   },
   "outputs": [
    {
     "name": "stdout",
     "output_type": "stream",
     "text": [
      "  0.000394 seconds (66 allocations: 3.141 KiB)\n"
     ]
    },
    {
     "data": {
      "text/plain": [
       "2×2 Matrix{Float64}:\n",
       " 0.628516  0.147178\n",
       " 0.283362  0.960999"
      ]
     },
     "execution_count": 145,
     "metadata": {},
     "output_type": "execute_result"
    }
   ],
   "source": [
    "r = remotecall(rand, 3, 2, 2)\n",
    "@time fetch(r)"
   ]
  },
  {
   "cell_type": "markdown",
   "id": "c9f3223b",
   "metadata": {},
   "source": [
    "因为分布式计算的通讯开销一般比较大，`fetch` 是带有缓存机制的：多次 `fetch` 只会触发一次通讯。"
   ]
  },
  {
   "cell_type": "code",
   "execution_count": 64,
   "id": "d908fdb2",
   "metadata": {
    "scrolled": true
   },
   "outputs": [
    {
     "name": "stdout",
     "output_type": "stream",
     "text": [
      "  0.000003 seconds\n"
     ]
    },
    {
     "data": {
      "text/plain": [
       "2×2 Matrix{Float64}:\n",
       " 0.54678    0.0249949\n",
       " 0.0988617  0.971928"
      ]
     },
     "execution_count": 64,
     "metadata": {},
     "output_type": "execute_result"
    }
   ],
   "source": [
    "@time fetch(r) # 拿到的是同样的结果，时间开销也更低"
   ]
  },
  {
   "cell_type": "markdown",
   "id": "b5b73cab",
   "metadata": {},
   "source": [
    "问：下面的代码背后发生了什么？"
   ]
  },
  {
   "cell_type": "code",
   "execution_count": 153,
   "id": "52a358e3",
   "metadata": {
    "scrolled": true
   },
   "outputs": [
    {
     "name": "stdout",
     "output_type": "stream",
     "text": [
      "  0.000603 seconds (281 allocations: 16.781 KiB)\n",
      "  0.000520 seconds (292 allocations: 17.548 KiB)\n",
      "  1.305822 seconds (974 allocations: 762.962 MiB, 8.93% gc time)\n"
     ]
    }
   ],
   "source": [
    "r = @time @spawnat 3 rand(10000,10000)\n",
    "s = @time @spawnat 3 1 .+ fetch(r)\n",
    "@time fetch(s);"
   ]
  },
  {
   "cell_type": "code",
   "execution_count": 169,
   "id": "f7774651",
   "metadata": {
    "scrolled": false
   },
   "outputs": [
    {
     "name": "stdout",
     "output_type": "stream",
     "text": [
      "  0.002683 seconds (1.32 k allocations: 80.766 KiB)\n",
      "  0.013692 seconds (38.17 k allocations: 2.184 MiB, 93.42% compilation time)\n",
      "  2.340958 seconds (1.54 k allocations: 762.995 MiB, 10.83% gc time)\n"
     ]
    }
   ],
   "source": [
    "r = @time @spawnat 3 rand(10000,10000)\n",
    "s = @time @spawnat 4 1 .+ fetch(r)\n",
    "@time fetch(s);"
   ]
  },
  {
   "cell_type": "code",
   "execution_count": 170,
   "id": "00bd09c9",
   "metadata": {},
   "outputs": [
    {
     "name": "stdout",
     "output_type": "stream",
     "text": [
      "  0.000593 seconds (320 allocations: 19.016 KiB)\n",
      "  0.000633 seconds (354 allocations: 20.610 KiB)\n",
      "  1.472900 seconds (1.01 k allocations: 762.962 MiB)\n"
     ]
    }
   ],
   "source": [
    "r = @time @spawnat 3 rand(10000,10000)\n",
    "wait(r)\n",
    "s = @time @spawnat 4 1 .+ fetch(r)\n",
    "@time fetch(s);"
   ]
  },
  {
   "cell_type": "code",
   "execution_count": 159,
   "id": "dcb90d2f",
   "metadata": {},
   "outputs": [
    {
     "data": {
      "text/plain": [
       "1×1000 Matrix{Float64}:\n",
       " 500375.0  5.00346e5  4.99814e5  …  5.00228e5  5.00602e5  5.00038e5"
      ]
     },
     "execution_count": 159,
     "metadata": {},
     "output_type": "execute_result"
    }
   ],
   "source": [
    "A = SharedArray{Float64}(1000, 1000)\n",
    "A .= rand(1000, 1000)\n",
    "\n",
    "rst = @distributed (+) for i in 1:1000\n",
    "    sum(A, dims=1)\n",
    "end"
   ]
  },
  {
   "cell_type": "markdown",
   "id": "bfee1e78",
   "metadata": {},
   "source": [
    "## Actor 模型\n",
    "\n",
    "https://github.com/JuliaActors/Actors.jl"
   ]
  },
  {
   "cell_type": "markdown",
   "id": "63793a9e",
   "metadata": {},
   "source": [
    "## LoopVectorization\n",
    "\n",
    "将 for 循环重写成更高效的版本，从而更好地利用 CPU 缓存、SIMD/AVX 等硬件资源，来达到更高的计算效率。"
   ]
  },
  {
   "cell_type": "code",
   "execution_count": 2,
   "id": "9de01ab9",
   "metadata": {},
   "outputs": [],
   "source": [
    "using LoopVectorization"
   ]
  },
  {
   "cell_type": "code",
   "execution_count": 9,
   "id": "ae46c1ca",
   "metadata": {},
   "outputs": [
    {
     "data": {
      "text/plain": [
       "A_mul_B! (generic function with 1 method)"
      ]
     },
     "execution_count": 9,
     "metadata": {},
     "output_type": "execute_result"
    }
   ],
   "source": [
    "function A_mul_B!(C, A, B)\n",
    "    # C = A * B\n",
    "    @inbounds for n ∈ indices((C,B), 2), m ∈ indices((C,A), 1)\n",
    "        Cmn = zero(eltype(C))\n",
    "        @simd for k ∈ indices((A,B), (2,1))\n",
    "            Cmn += A[m,k] * B[k,n]\n",
    "        end\n",
    "        C[m,n] = Cmn\n",
    "    end\n",
    "end"
   ]
  },
  {
   "cell_type": "code",
   "execution_count": 10,
   "id": "27ee267d",
   "metadata": {},
   "outputs": [
    {
     "name": "stdout",
     "output_type": "stream",
     "text": [
      "  38.646 μs (0 allocations: 0 bytes)\n"
     ]
    }
   ],
   "source": [
    "A = rand(40, 40)\n",
    "B = rand(40, 40)\n",
    "C = similar(A)\n",
    "@btime A_mul_B!($C, $A, $B);"
   ]
  },
  {
   "cell_type": "code",
   "execution_count": 11,
   "id": "f2889bd0",
   "metadata": {},
   "outputs": [
    {
     "data": {
      "text/plain": [
       "A_mul_B_t! (generic function with 1 method)"
      ]
     },
     "execution_count": 11,
     "metadata": {},
     "output_type": "execute_result"
    }
   ],
   "source": [
    "function A_mul_B_t!(C, A, B)\n",
    "    # C = A * B\n",
    "    @turbo for n ∈ indices((C,B), 2), m ∈ indices((C,A), 1)\n",
    "        Cmn = zero(eltype(C))\n",
    "        for k ∈ indices((A,B), (2,1))\n",
    "            Cmn += A[m,k] * B[k,n]\n",
    "        end\n",
    "        C[m,n] = Cmn\n",
    "    end\n",
    "end"
   ]
  },
  {
   "cell_type": "code",
   "execution_count": 12,
   "id": "4a62eb25",
   "metadata": {},
   "outputs": [
    {
     "name": "stdout",
     "output_type": "stream",
     "text": [
      "  2.099 μs (0 allocations: 0 bytes)\n"
     ]
    }
   ],
   "source": [
    "A = rand(40, 40)\n",
    "B = rand(40, 40)\n",
    "C = similar(A)\n",
    "@btime A_mul_B_t!($C, $A, $B);"
   ]
  },
  {
   "cell_type": "code",
   "execution_count": 13,
   "id": "137d6ffd",
   "metadata": {},
   "outputs": [
    {
     "name": "stdout",
     "output_type": "stream",
     "text": [
      "  129.903 ns (1 allocation: 12.62 KiB)\n",
      "  4.228 μs (1 allocation: 12.62 KiB)\n"
     ]
    }
   ],
   "source": [
    "@btime similar(A)\n",
    "@btime $A * $B;"
   ]
  },
  {
   "cell_type": "code",
   "execution_count": null,
   "id": "cae30413",
   "metadata": {},
   "outputs": [],
   "source": []
  }
 ],
 "metadata": {
  "kernelspec": {
   "display_name": "Julia 1.7.0-rc2",
   "language": "julia",
   "name": "julia-1.7"
  },
  "language_info": {
   "file_extension": ".jl",
   "mimetype": "application/julia",
   "name": "julia",
   "version": "1.7.0"
  }
 },
 "nbformat": 4,
 "nbformat_minor": 5
}
