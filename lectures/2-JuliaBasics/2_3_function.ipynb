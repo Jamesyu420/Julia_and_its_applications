{
 "cells": [
  {
   "cell_type": "markdown",
   "id": "c468b2b9-f88a-4183-b84f-d9d8581b9b2e",
   "metadata": {},
   "source": [
    "# 2.2 函数\n",
    "\n",
    "日期： 2021.10.17\n",
    "\n",
    "作者：陈久宁\n",
    "\n",
    "大纲：\n",
    "\n",
    "- 函数的定义方式\n",
    "- 高阶函数\n",
    "- `do` 语法\n",
    "\n",
    "如果你有其他语言的基础的话，不妨先阅读文档 [Julia 与其他语言的差异](https://docs.julialang.org/en/v1/manual/noteworthy-differences/)"
   ]
  },
  {
   "cell_type": "markdown",
   "id": "2729d4f3-de5e-45ef-b266-dc0211d1001b",
   "metadata": {},
   "source": [
    "### 函数的标准定义"
   ]
  },
  {
   "cell_type": "code",
   "execution_count": 8,
   "id": "626fa2e2-9d5f-4309-ada9-323a232838a3",
   "metadata": {},
   "outputs": [
    {
     "data": {
      "text/plain": [
       "addmul (generic function with 1 method)"
      ]
     },
     "execution_count": 8,
     "metadata": {},
     "output_type": "execute_result"
    }
   ],
   "source": [
    "function addmul(x, y, z)\n",
    "    tmp = x + y\n",
    "    return tmp * z\n",
    "end"
   ]
  },
  {
   "cell_type": "code",
   "execution_count": 9,
   "id": "3012c178-575a-4511-8f46-51d43b513aa6",
   "metadata": {},
   "outputs": [
    {
     "data": {
      "text/plain": [
       "9"
      ]
     },
     "execution_count": 9,
     "metadata": {},
     "output_type": "execute_result"
    }
   ],
   "source": [
    "addmul(1, 2, 3)"
   ]
  },
  {
   "cell_type": "markdown",
   "id": "e6903ea9-97be-45ba-b6a3-bf93d55504c4",
   "metadata": {},
   "source": [
    "不写 `return` 时，默认返回最后一行的结果"
   ]
  },
  {
   "cell_type": "code",
   "execution_count": 10,
   "id": "64490325-b737-43d2-86ac-0ab85fe2a874",
   "metadata": {},
   "outputs": [
    {
     "data": {
      "text/plain": [
       "addmul (generic function with 1 method)"
      ]
     },
     "execution_count": 10,
     "metadata": {},
     "output_type": "execute_result"
    }
   ],
   "source": [
    "function addmul(x, y, z)\n",
    "    tmp = x + y\n",
    "    tmp * z\n",
    "end"
   ]
  },
  {
   "cell_type": "code",
   "execution_count": 11,
   "id": "118d88ee-6208-4f1b-887e-0747da4d76fe",
   "metadata": {},
   "outputs": [
    {
     "data": {
      "text/plain": [
       "9"
      ]
     },
     "execution_count": 11,
     "metadata": {},
     "output_type": "execute_result"
    }
   ],
   "source": [
    "addmul(1, 2, 3)"
   ]
  },
  {
   "cell_type": "markdown",
   "id": "445b1964-70b7-4ad5-9b0a-797a05268da1",
   "metadata": {},
   "source": [
    "### 单行函数 one liner\n",
    "\n",
    "Julia 下有很大部分的函数都是单行函数"
   ]
  },
  {
   "cell_type": "code",
   "execution_count": 31,
   "id": "dd7d13aa-1127-49a9-96bc-49a362bea48a",
   "metadata": {},
   "outputs": [
    {
     "data": {
      "text/plain": [
       "addmul (generic function with 1 method)"
      ]
     },
     "execution_count": 31,
     "metadata": {},
     "output_type": "execute_result"
    }
   ],
   "source": [
    "addmul(x, y, z) = (x + y) * z"
   ]
  },
  {
   "cell_type": "code",
   "execution_count": 32,
   "id": "b7686409-2b9c-4a8e-9640-a1d56f46839e",
   "metadata": {},
   "outputs": [
    {
     "data": {
      "text/plain": [
       "9"
      ]
     },
     "execution_count": 32,
     "metadata": {},
     "output_type": "execute_result"
    }
   ],
   "source": [
    "addmul(1, 2, 3)"
   ]
  },
  {
   "cell_type": "markdown",
   "id": "1200562b-fcd5-4aac-a661-aec32d2abbf6",
   "metadata": {},
   "source": [
    "### 位置参数默认值\n",
    "\n",
    "位置参数的默认值通过 `=` 给出"
   ]
  },
  {
   "cell_type": "code",
   "execution_count": 37,
   "id": "6bca463e-10c1-4f6f-a3a3-8e29c49c1197",
   "metadata": {},
   "outputs": [
    {
     "data": {
      "text/plain": [
       "clamp (generic function with 3 methods)"
      ]
     },
     "execution_count": 37,
     "metadata": {},
     "output_type": "execute_result"
    }
   ],
   "source": [
    "function clamp(x, lo, hi) # [lo, hi]\n",
    "    # 将输入 x 裁剪到 [lo, hi] 范围内\n",
    "    if x < lo\n",
    "        return lo\n",
    "    elseif x > hi\n",
    "        return hi\n",
    "    else\n",
    "        return x\n",
    "    end\n",
    "end"
   ]
  },
  {
   "cell_type": "code",
   "execution_count": 38,
   "id": "f0d7a229-60d2-417a-9947-fbd2ace4643d",
   "metadata": {},
   "outputs": [
    {
     "name": "stdout",
     "output_type": "stream",
     "text": [
      "clamp(0.3, 0, 1) = 0.3\n",
      "clamp(-0.3, 0, 1) = 0\n",
      "clamp(1.3, 0, 1) = 1\n"
     ]
    },
    {
     "data": {
      "text/plain": [
       "1"
      ]
     },
     "execution_count": 38,
     "metadata": {},
     "output_type": "execute_result"
    }
   ],
   "source": [
    "@show clamp(0.3, 0, 1)\n",
    "@show clamp(-0.3, 0, 1)\n",
    "@show clamp(1.3, 0, 1)"
   ]
  },
  {
   "cell_type": "markdown",
   "id": "22f4c504-fcaf-4b63-8218-94885a032df2",
   "metadata": {},
   "source": [
    "三元表达式\n",
    "```julia\n",
    "cond ? true_rst : false_rst\n",
    "```\n",
    "\n",
    "等价于\n",
    "\n",
    "```julia\n",
    "if cond\n",
    "    true_rst\n",
    "else\n",
    "    false_rst\n",
    "end\n",
    "```"
   ]
  },
  {
   "cell_type": "code",
   "execution_count": 39,
   "id": "12b2aafc-99d7-4ed7-b350-924203f43b46",
   "metadata": {},
   "outputs": [
    {
     "data": {
      "text/plain": [
       "clamp (generic function with 3 methods)"
      ]
     },
     "execution_count": 39,
     "metadata": {},
     "output_type": "execute_result"
    }
   ],
   "source": [
    "clamp(x, lo=0, hi=1) = x < lo ? lo : x > hi ? hi : x"
   ]
  },
  {
   "cell_type": "code",
   "execution_count": 40,
   "id": "b642a1b7-ad56-4040-a5d1-afb96e4caa97",
   "metadata": {},
   "outputs": [
    {
     "name": "stdout",
     "output_type": "stream",
     "text": [
      "clamp(0.3) = 0.3\n",
      "clamp(-0.3) = 0\n",
      "clamp(1.3) = 1\n"
     ]
    },
    {
     "data": {
      "text/plain": [
       "1"
      ]
     },
     "execution_count": 40,
     "metadata": {},
     "output_type": "execute_result"
    }
   ],
   "source": [
    "@show clamp(0.3)\n",
    "@show clamp(-0.3)\n",
    "@show clamp(1.3)"
   ]
  },
  {
   "cell_type": "markdown",
   "id": "77689051-b048-4f11-92b1-1bf6d7e88d73",
   "metadata": {},
   "source": [
    "广播:\n",
    "\n",
    "Rule 1: 任意函数和运算符加上 `.` 表示逐元素的运算"
   ]
  },
  {
   "cell_type": "code",
   "execution_count": 45,
   "id": "d160c0fe-76b2-4f6b-ba68-366ee1749785",
   "metadata": {},
   "outputs": [
    {
     "data": {
      "text/plain": [
       "11-element Vector{Real}:\n",
       " 0\n",
       " 0\n",
       " 0\n",
       " 0.1\n",
       " 0.3\n",
       " 0.5\n",
       " 0.7\n",
       " 0.9\n",
       " 1\n",
       " 1\n",
       " 1"
      ]
     },
     "execution_count": 45,
     "metadata": {},
     "output_type": "execute_result"
    }
   ],
   "source": [
    "clamp.(-0.5:0.2:1.5) # what happens if you do `clamp(-0.5:0.1:1.5)`?"
   ]
  },
  {
   "cell_type": "markdown",
   "id": "8220c110-1d4e-4ca1-ba2a-6bce45f0f264",
   "metadata": {},
   "source": [
    "对于这种简单的场景来说，广播也可以等价地用列表表达式 (list comprehension) 来写"
   ]
  },
  {
   "cell_type": "code",
   "execution_count": 46,
   "id": "cbc547bc-3256-431d-a01c-82aaf35d2a38",
   "metadata": {},
   "outputs": [
    {
     "data": {
      "text/plain": [
       "11-element Vector{Real}:\n",
       " 0\n",
       " 0\n",
       " 0\n",
       " 0.1\n",
       " 0.3\n",
       " 0.5\n",
       " 0.7\n",
       " 0.9\n",
       " 1\n",
       " 1\n",
       " 1"
      ]
     },
     "execution_count": 46,
     "metadata": {},
     "output_type": "execute_result"
    }
   ],
   "source": [
    "[clamp(x) for x in -0.5:0.2:1.5] # list comprehension"
   ]
  },
  {
   "cell_type": "markdown",
   "id": "91a5ffd6-d185-4041-9106-5e7bf24aa347",
   "metadata": {},
   "source": [
    "如果用 `()` 的话，拿到的就是一个迭代器：具体的数值会在真正使用的时候才计算出来"
   ]
  },
  {
   "cell_type": "code",
   "execution_count": 47,
   "id": "167df4ce-e5ab-47af-91c7-c04d24ec9daa",
   "metadata": {},
   "outputs": [
    {
     "data": {
      "text/plain": [
       "Base.Generator{StepRangeLen{Float64, Base.TwicePrecision{Float64}, Base.TwicePrecision{Float64}}, typeof(clamp)}(clamp, -0.5:0.2:1.5)"
      ]
     },
     "execution_count": 47,
     "metadata": {},
     "output_type": "execute_result"
    }
   ],
   "source": [
    "(clamp(x) for x in -0.5:0.2:1.5)"
   ]
  },
  {
   "cell_type": "markdown",
   "id": "717516fd-18ac-4dff-8298-58ef3dde2c01",
   "metadata": {},
   "source": [
    "与 `=>` 结合，构造字典等类型的时候会非常方便"
   ]
  },
  {
   "cell_type": "code",
   "execution_count": 48,
   "id": "1cf4ee90-986e-49ab-bc9f-789078cf1271",
   "metadata": {},
   "outputs": [
    {
     "data": {
      "text/plain": [
       "Dict{Float64, Real} with 11 entries:\n",
       "  0.3  => 0.3\n",
       "  -0.3 => 0\n",
       "  0.7  => 0.7\n",
       "  1.1  => 1\n",
       "  -0.1 => 0\n",
       "  0.9  => 0.9\n",
       "  -0.5 => 0\n",
       "  1.3  => 1\n",
       "  0.5  => 0.5\n",
       "  1.5  => 1\n",
       "  0.1  => 0.1"
      ]
     },
     "execution_count": 48,
     "metadata": {},
     "output_type": "execute_result"
    }
   ],
   "source": [
    "Dict((x => clamp(x) for x in -0.5:0.2:1.5))"
   ]
  },
  {
   "cell_type": "code",
   "execution_count": 50,
   "id": "b10b5281-0692-428a-8790-f6c60bea77cf",
   "metadata": {},
   "outputs": [
    {
     "name": "stdout",
     "output_type": "stream",
     "text": [
      "  3.836 μs (51 allocations: 4.38 KiB)\n",
      "  1.462 μs (25 allocations: 3.41 KiB)\n"
     ]
    }
   ],
   "source": [
    "f_list() = Dict([x => clamp(x) for x in -0.5:0.2:1.5])\n",
    "f_generator() = Dict((x => clamp(x) for x in -0.5:0.2:1.5))\n",
    "\n",
    "# 利用 Generator 的话，并不需要创建一个中间变量来存储所有的结果，\n",
    "# 因此在内存使用上是比较高效的\n",
    "@btime f_list()\n",
    "@btime f_generator()\n",
    "nothing"
   ]
  },
  {
   "cell_type": "markdown",
   "id": "3a26e359-76da-47c4-a105-16c3694ad73a",
   "metadata": {},
   "source": [
    "与 Python 的差别：Julia 函数的默认值发生在函数调用的时候"
   ]
  },
  {
   "cell_type": "code",
   "execution_count": 161,
   "id": "ae448197-be96-43ad-b3c1-77fa58195e63",
   "metadata": {},
   "outputs": [
    {
     "data": {
      "text/plain": [
       "push_to_list (generic function with 2 methods)"
      ]
     },
     "execution_count": 161,
     "metadata": {},
     "output_type": "execute_result"
    }
   ],
   "source": [
    "function push_to_list(x, l = [])\n",
    "    @show l\n",
    "    push!(l, x)\n",
    "end"
   ]
  },
  {
   "cell_type": "markdown",
   "id": "f5f5eaeb-1220-428f-b265-0ba9bc337916",
   "metadata": {},
   "source": [
    "默认值的创建发生在函数调用的时候意味着多次调用拿到的是相同的结果："
   ]
  },
  {
   "cell_type": "code",
   "execution_count": 163,
   "id": "be227596-c611-479d-ac65-7551c988898d",
   "metadata": {},
   "outputs": [
    {
     "name": "stdout",
     "output_type": "stream",
     "text": [
      "l = Any[]\n",
      "l = Any[]\n"
     ]
    }
   ],
   "source": [
    "push_to_list(1)\n",
    "push_to_list(1);"
   ]
  },
  {
   "cell_type": "markdown",
   "id": "cfa42233-6772-4d08-bf70-7b68243ac7fa",
   "metadata": {},
   "source": [
    "注：纯函数：`X==Y` 能够推出 `f(X) == f(Y)` 成立。函数的默认值发生在函数调用的时候能够实现纯函数式的代码。"
   ]
  },
  {
   "cell_type": "markdown",
   "id": "fbaa481f-0da0-4a4c-af65-844e873e8668",
   "metadata": {},
   "source": [
    "### 可变参数"
   ]
  },
  {
   "cell_type": "code",
   "execution_count": 51,
   "id": "1a8f2a01-8cce-4887-a93c-16160cb41b90",
   "metadata": {},
   "outputs": [
    {
     "data": {
      "text/plain": [
       "mysum (generic function with 2 methods)"
      ]
     },
     "execution_count": 51,
     "metadata": {},
     "output_type": "execute_result"
    }
   ],
   "source": [
    "mysum(t::Tuple) = mysum(t...)\n",
    "function mysum(x, y...)\n",
    "    z = copy(x)\n",
    "    for i in y\n",
    "        z += i\n",
    "    end\n",
    "    return z\n",
    "end"
   ]
  },
  {
   "cell_type": "code",
   "execution_count": 52,
   "id": "b2f7a59f-4b31-4359-acf1-4e92e0290a45",
   "metadata": {},
   "outputs": [
    {
     "data": {
      "text/plain": [
       "6"
      ]
     },
     "execution_count": 52,
     "metadata": {},
     "output_type": "execute_result"
    }
   ],
   "source": [
    "mysum((1, 2, 3))"
   ]
  },
  {
   "cell_type": "code",
   "execution_count": 53,
   "id": "3713c7bf-6ce2-4fe0-adf1-20485d322a64",
   "metadata": {},
   "outputs": [
    {
     "data": {
      "text/plain": [
       "6"
      ]
     },
     "execution_count": 53,
     "metadata": {},
     "output_type": "execute_result"
    }
   ],
   "source": [
    "mysum(1, 2, 3)"
   ]
  },
  {
   "cell_type": "code",
   "execution_count": 54,
   "id": "147ecf50-da2b-46d8-aaac-666c1dbd1771",
   "metadata": {},
   "outputs": [
    {
     "name": "stdout",
     "output_type": "stream",
     "text": [
      "mysum(1) = 1\n",
      "mysum(1, 2) = 3\n",
      "mysum(1, 2, 3) = 6\n"
     ]
    },
    {
     "data": {
      "text/plain": [
       "6"
      ]
     },
     "execution_count": 54,
     "metadata": {},
     "output_type": "execute_result"
    }
   ],
   "source": [
    "@show mysum(1)\n",
    "@show mysum(1, 2)\n",
    "@show mysum(1, 2, 3)"
   ]
  },
  {
   "cell_type": "markdown",
   "id": "003370c7-3ba5-4890-bde8-7647778ef928",
   "metadata": {},
   "source": [
    "### 关键词参数\n",
    "\n",
    "以 `;` 分隔位置参数和关键词参数"
   ]
  },
  {
   "cell_type": "code",
   "execution_count": 55,
   "id": "ed773cdd-38f3-4e8b-9144-0a0748a20a56",
   "metadata": {},
   "outputs": [
    {
     "data": {
      "text/plain": [
       "clamp (generic function with 3 methods)"
      ]
     },
     "execution_count": 55,
     "metadata": {},
     "output_type": "execute_result"
    }
   ],
   "source": [
    "clamp(x; lo::Real=0, hi::Real=1) = clamp(x, lo, hi)"
   ]
  },
  {
   "cell_type": "code",
   "execution_count": 56,
   "id": "b69ce39a-87a2-4bab-973d-5039d4dbfa4d",
   "metadata": {},
   "outputs": [
    {
     "data": {
      "text/plain": [
       "8-element Vector{Float64}:\n",
       " 1.0\n",
       " 1.0\n",
       " 1.0\n",
       " 1.0\n",
       " 1.0\n",
       " 1.0\n",
       " 1.0\n",
       " 1.0"
      ]
     },
     "execution_count": 56,
     "metadata": {},
     "output_type": "execute_result"
    }
   ],
   "source": [
    "clamp.(0.0:0.1:0.7, lo=1.0, hi=0.5)"
   ]
  },
  {
   "cell_type": "markdown",
   "id": "958447ad-82fc-476a-9f89-c6c220245651",
   "metadata": {},
   "source": [
    "注：Julia 将位置参数和关键字参数划分的非常清楚，背后的一个原因是因为 Julia 的关键字参数不参与多重派发"
   ]
  },
  {
   "cell_type": "code",
   "execution_count": 57,
   "id": "52aa70a8-0280-4b4f-9439-b4d3704a4105",
   "metadata": {},
   "outputs": [
    {
     "data": {
      "text/plain": [
       "mul (generic function with 2 methods)"
      ]
     },
     "execution_count": 57,
     "metadata": {},
     "output_type": "execute_result"
    }
   ],
   "source": [
    "mul(x, y) = x * y\n",
    "mul(x; z) = x * z"
   ]
  },
  {
   "cell_type": "code",
   "execution_count": 61,
   "id": "a666e075-810b-4b43-8d04-9a8e96d3b9b2",
   "metadata": {},
   "outputs": [
    {
     "data": {
      "text/plain": [
       "6"
      ]
     },
     "execution_count": 61,
     "metadata": {},
     "output_type": "execute_result"
    }
   ],
   "source": [
    "mul(2, 3)"
   ]
  },
  {
   "cell_type": "code",
   "execution_count": 63,
   "id": "11727f83-3335-438b-b804-fe3f065b8c8f",
   "metadata": {},
   "outputs": [
    {
     "data": {
      "text/plain": [
       "6"
      ]
     },
     "execution_count": 63,
     "metadata": {},
     "output_type": "execute_result"
    }
   ],
   "source": [
    "mul(2; z=3)"
   ]
  },
  {
   "cell_type": "code",
   "execution_count": 66,
   "id": "7135062e-7a19-44d6-b02c-f27fea9709fa",
   "metadata": {},
   "outputs": [
    {
     "ename": "LoadError",
     "evalue": "MethodError: no method matching mul(::Int64, ::Int64; z=4)\n\u001b[0mClosest candidates are:\n\u001b[0m  mul(::Any, ::Any) at In[57]:1\u001b[91m got unsupported keyword argument \"z\"\u001b[39m\n\u001b[0m  mul(::Any; z) at In[57]:2",
     "output_type": "error",
     "traceback": [
      "MethodError: no method matching mul(::Int64, ::Int64; z=4)\n\u001b[0mClosest candidates are:\n\u001b[0m  mul(::Any, ::Any) at In[57]:1\u001b[91m got unsupported keyword argument \"z\"\u001b[39m\n\u001b[0m  mul(::Any; z) at In[57]:2",
      "",
      "Stacktrace:",
      " [1] top-level scope",
      "   @ In[66]:1",
      " [2] eval",
      "   @ ./boot.jl:360 [inlined]",
      " [3] include_string(mapexpr::typeof(REPL.softscope), mod::Module, code::String, filename::String)",
      "   @ Base ./loading.jl:1094"
     ]
    }
   ],
   "source": [
    "mul(2, 3; z=4) # mul(x, y) 方法不存在关键字参数"
   ]
  },
  {
   "cell_type": "markdown",
   "id": "90e84bc0-bb62-4e6b-835d-0d7ae21fce1f",
   "metadata": {},
   "source": [
    "覆盖 `mul(x)` 方法的话，就不能再使用 `z` 关键字了"
   ]
  },
  {
   "cell_type": "code",
   "execution_count": 68,
   "id": "5b04a2a4-b2ff-46d2-a6ae-a541455d5a1e",
   "metadata": {},
   "outputs": [
    {
     "data": {
      "text/plain": [
       "mul (generic function with 2 methods)"
      ]
     },
     "execution_count": 68,
     "metadata": {},
     "output_type": "execute_result"
    }
   ],
   "source": [
    "mul(x; y) = x * y"
   ]
  },
  {
   "cell_type": "code",
   "execution_count": 69,
   "id": "faab144d-63fa-4ca5-a6de-f1d2f89cd957",
   "metadata": {},
   "outputs": [
    {
     "data": {
      "text/plain": [
       "6"
      ]
     },
     "execution_count": 69,
     "metadata": {},
     "output_type": "execute_result"
    }
   ],
   "source": [
    "mul(2; y=3)"
   ]
  },
  {
   "cell_type": "code",
   "execution_count": 71,
   "id": "8b4718e3-8a94-4b52-ab5f-beef39f2302c",
   "metadata": {},
   "outputs": [
    {
     "ename": "LoadError",
     "evalue": "UndefKeywordError: keyword argument y not assigned",
     "output_type": "error",
     "traceback": [
      "UndefKeywordError: keyword argument y not assigned",
      "",
      "Stacktrace:",
      " [1] top-level scope",
      "   @ In[71]:1",
      " [2] eval",
      "   @ ./boot.jl:360 [inlined]",
      " [3] include_string(mapexpr::typeof(REPL.softscope), mod::Module, code::String, filename::String)",
      "   @ Base ./loading.jl:1094"
     ]
    }
   ],
   "source": [
    "mul(2; z=3) # 原来的 mul(x; z) 方法被新的 mul(x; y) 方法覆盖了"
   ]
  },
  {
   "cell_type": "markdown",
   "id": "499a372a-a226-4e2d-af0b-0fb05122896e",
   "metadata": {},
   "source": [
    "### 运算符也是函数"
   ]
  },
  {
   "cell_type": "code",
   "execution_count": 72,
   "id": "0d748b60-9bea-42f1-b609-1119db5c1e1e",
   "metadata": {},
   "outputs": [
    {
     "data": {
      "text/plain": [
       "3"
      ]
     },
     "execution_count": 72,
     "metadata": {},
     "output_type": "execute_result"
    }
   ],
   "source": [
    "+(1, 2) # 1 + 2"
   ]
  },
  {
   "cell_type": "markdown",
   "id": "04f795b1-dce3-4381-8ef0-aa9915ee598e",
   "metadata": {},
   "source": [
    "### 参数传递时是传引用"
   ]
  },
  {
   "cell_type": "code",
   "execution_count": 73,
   "id": "517e8e15-0f77-44ec-91a4-1389ac3f956c",
   "metadata": {},
   "outputs": [
    {
     "data": {
      "text/plain": [
       "3-element Vector{Int64}:\n",
       " 0\n",
       " 2\n",
       " 3"
      ]
     },
     "execution_count": 73,
     "metadata": {},
     "output_type": "execute_result"
    }
   ],
   "source": [
    "function change_first!(x)\n",
    "    x[1] = 0\n",
    "    return x\n",
    "end\n",
    "\n",
    "x = [1, 2, 3]\n",
    "change_first!(x)\n",
    "x # [1, 2, 3] or [0, 2, 3]?"
   ]
  },
  {
   "cell_type": "markdown",
   "id": "dd46a4de-220e-424d-9cc2-2fb78755c5a1",
   "metadata": {},
   "source": [
    "关于函数名后面的 `!`: 这是一个[命名上的约定](https://docs.julialang.org/en/v1/manual/variables/#Stylistic-Conventions) 用来告诉其他程序员：这个函数可能会修改输入的类型。\n",
    "\n",
    "比如说：`sort!`/`sort`"
   ]
  },
  {
   "cell_type": "markdown",
   "id": "762e1fce-5680-4aaa-addc-f63be53d93b3",
   "metadata": {},
   "source": [
    "### 高阶函数 `map`, `reduce`, `mapreduce`"
   ]
  },
  {
   "cell_type": "markdown",
   "id": "66f80da0-1ae8-446e-8b76-5b0912e07153",
   "metadata": {},
   "source": [
    "`map(f, X, Y, ...)` 在一定程度上上等价于\n",
    "\n",
    "```julia\n",
    "function trivial_map(f, X, Y)\n",
    "    n = min(length(X), length(Y))\n",
    "    out = zeros(n)\n",
    "    for i in 1:n\n",
    "        out[i] = f(X[i], Y[i])\n",
    "    end\n",
    "    return out\n",
    "end\n",
    "```"
   ]
  },
  {
   "cell_type": "code",
   "execution_count": 75,
   "id": "8a64cbbc-7014-4de1-be11-f9ff1f812d5c",
   "metadata": {},
   "outputs": [
    {
     "data": {
      "text/plain": [
       "9-element Vector{Real}:\n",
       " 0\n",
       " 0\n",
       " 0.1\n",
       " 0.3\n",
       " 0.5\n",
       " 0.7\n",
       " 0.9\n",
       " 1\n",
       " 1"
      ]
     },
     "execution_count": 75,
     "metadata": {},
     "output_type": "execute_result"
    }
   ],
   "source": [
    "map(clamp, -0.3:0.2:1.3)"
   ]
  },
  {
   "cell_type": "code",
   "execution_count": 76,
   "id": "26afb5ea-3a5f-4c29-81db-b2e75c0b7e29",
   "metadata": {},
   "outputs": [
    {
     "data": {
      "text/plain": [
       "5-element Vector{Int64}:\n",
       "  3\n",
       "  5\n",
       "  7\n",
       "  9\n",
       " 11"
      ]
     },
     "execution_count": 76,
     "metadata": {},
     "output_type": "execute_result"
    }
   ],
   "source": [
    "map(+, 1:5, 2:6)"
   ]
  },
  {
   "cell_type": "markdown",
   "id": "d6813c76-c1a3-4109-9819-998030a683b7",
   "metadata": {},
   "source": [
    "`reduce` 在一定程度上等价于\n",
    "\n",
    "```julia\n",
    "function trivial_reduce(f, X)\n",
    "    out = zero(eltype(X))\n",
    "    for i in 1:length(X)\n",
    "        out = f(out, X[i])\n",
    "    end\n",
    "    return out\n",
    "end\n",
    "```"
   ]
  },
  {
   "cell_type": "code",
   "execution_count": 72,
   "id": "9c3f17b0-99d4-409f-9264-084a0433f88f",
   "metadata": {},
   "outputs": [
    {
     "data": {
      "text/plain": [
       "6"
      ]
     },
     "execution_count": 72,
     "metadata": {},
     "output_type": "execute_result"
    }
   ],
   "source": [
    "reduce(+, [1, 2, 3]) # sum([1, 2, 3])"
   ]
  },
  {
   "cell_type": "code",
   "execution_count": 73,
   "id": "fd2d6f10-bbdd-46ed-a8ae-c602f7d437bb",
   "metadata": {},
   "outputs": [
    {
     "data": {
      "text/plain": [
       "14"
      ]
     },
     "execution_count": 73,
     "metadata": {},
     "output_type": "execute_result"
    }
   ],
   "source": [
    "mapreduce(abs2, +, [1, 2, 3]) # sum(abs2.([1, 2, 3]))"
   ]
  },
  {
   "cell_type": "markdown",
   "id": "d71f5ca2-0a0d-4a7a-9836-aa2070391700",
   "metadata": {},
   "source": [
    "Julia 下还存在很多这种将函数作为输入的函数"
   ]
  },
  {
   "cell_type": "code",
   "execution_count": 78,
   "id": "686183cf-ced1-4b4e-9979-e38da40b2ed8",
   "metadata": {},
   "outputs": [
    {
     "data": {
      "text/plain": [
       "14"
      ]
     },
     "execution_count": 78,
     "metadata": {},
     "output_type": "execute_result"
    }
   ],
   "source": [
    "sum(abs2, [1, 2, 3])"
   ]
  },
  {
   "cell_type": "markdown",
   "id": "c64ca773-f24f-483f-be97-a4e5f07edbd2",
   "metadata": {},
   "source": [
    "`foreach(f, X)` 等价于\n",
    "\n",
    "```julia\n",
    "for x in X\n",
    "    f(x)\n",
    "end\n",
    "```"
   ]
  },
  {
   "cell_type": "code",
   "execution_count": 82,
   "id": "5856ce65-0d87-4993-b047-67523f495c98",
   "metadata": {},
   "outputs": [
    {
     "name": "stdout",
     "output_type": "stream",
     "text": [
      "1\n",
      "2\n",
      "3\n"
     ]
    }
   ],
   "source": [
    "foreach(println, [1, 2, 3])"
   ]
  },
  {
   "cell_type": "markdown",
   "id": "b0566a41-dc88-41bc-a857-2833b93aa045",
   "metadata": {},
   "source": [
    "`filter(f, X)` 等价于\n",
    "\n",
    "```julia\n",
    "rst = []\n",
    "for x in X\n",
    "    if f(x)\n",
    "        push!(rst, x)\n",
    "    end\n",
    "end\n",
    "```"
   ]
  },
  {
   "cell_type": "code",
   "execution_count": 83,
   "id": "a5fc2e22-6cc4-4253-b697-fe1d124ae97f",
   "metadata": {},
   "outputs": [
    {
     "data": {
      "text/plain": [
       "5-element Vector{Int64}:\n",
       " 1\n",
       " 3\n",
       " 5\n",
       " 7\n",
       " 9"
      ]
     },
     "execution_count": 83,
     "metadata": {},
     "output_type": "execute_result"
    }
   ],
   "source": [
    "filter(isodd, 1:9)"
   ]
  },
  {
   "cell_type": "markdown",
   "id": "5ee360a5-f97e-4dc5-a3bb-8ccf0a413ebe",
   "metadata": {},
   "source": []
  },
  {
   "cell_type": "markdown",
   "id": "64c29e73-819a-4088-9b55-7dd810de2725",
   "metadata": {},
   "source": [
    "### 匿名函数\n",
    "\n",
    "Julia 下各种函数都可以作为另一个函数的输入，因此匿名函数变得十分有用\n",
    "\n",
    "`x -> f(x)` 等价于 `g(x) = f(x)`\n",
    "\n",
    "唯一的差别在于函数名是不确定的（由系统生成）"
   ]
  },
  {
   "cell_type": "code",
   "execution_count": 85,
   "id": "81069fc0-292a-4153-b7eb-cc692540aff0",
   "metadata": {},
   "outputs": [
    {
     "data": {
      "text/plain": [
       "f2 (generic function with 1 method)"
      ]
     },
     "execution_count": 85,
     "metadata": {},
     "output_type": "execute_result"
    }
   ],
   "source": [
    "f2(x) = x^2 # 名字为 f2"
   ]
  },
  {
   "cell_type": "code",
   "execution_count": 86,
   "id": "6446e846-04f9-4809-aced-62405c86cbf5",
   "metadata": {},
   "outputs": [
    {
     "data": {
      "text/plain": [
       "#36 (generic function with 1 method)"
      ]
     },
     "execution_count": 86,
     "metadata": {},
     "output_type": "execute_result"
    }
   ],
   "source": [
    "f = x-> x^2 # 名字 #?? 由系统生成, f 只是变量名 （并非是函数名）"
   ]
  },
  {
   "cell_type": "code",
   "execution_count": 89,
   "id": "d28a2197-8dcb-4a4c-8f59-6fd5b65b0d23",
   "metadata": {},
   "outputs": [
    {
     "data": {
      "text/plain": [
       "6-element Vector{Float64}:\n",
       " 0.0\n",
       " 0.0\n",
       " 0.0\n",
       " 1.0\n",
       " 1.0\n",
       " 1.0"
      ]
     },
     "execution_count": 89,
     "metadata": {},
     "output_type": "execute_result"
    }
   ],
   "source": [
    "map(x -> x>0.5 ? 1.0 : 0.0, 0.0:0.2:1.0)"
   ]
  },
  {
   "cell_type": "markdown",
   "id": "91006a0a-02f9-4432-aa8f-750a66ed1e84",
   "metadata": {},
   "source": [
    "### `do`-block"
   ]
  },
  {
   "cell_type": "markdown",
   "id": "68efd213-436d-45bc-bbff-0529b49f4ede",
   "metadata": {},
   "source": [
    "有时候匿名函数写的太长了也不好，所以 Julia 提供了 `do` 语法\n",
    "\n",
    "```julia\n",
    "f(X) do i\n",
    "   g(i)\n",
    "end\n",
    "```\n",
    "\n",
    "等价于\n",
    "\n",
    "```julia\n",
    "f(i->g(i), X)\n",
    "```"
   ]
  },
  {
   "cell_type": "code",
   "execution_count": 92,
   "id": "07024a9d-25d3-496e-9717-50280745ab8f",
   "metadata": {},
   "outputs": [
    {
     "data": {
      "text/plain": [
       "6-element Vector{Float64}:\n",
       " 0.0\n",
       " 0.0\n",
       " 0.0\n",
       " 1.0\n",
       " 1.0\n",
       " 1.0"
      ]
     },
     "execution_count": 92,
     "metadata": {},
     "output_type": "execute_result"
    }
   ],
   "source": [
    "# 以下两者等价\n",
    "map(x -> x > 0.5 ? 1.0 : 0.0, 0.0:0.2:1.0)\n",
    "map(0.0:0.2:1.0) do x\n",
    "    if x > 0.5\n",
    "        return 1.0\n",
    "    else\n",
    "        return 0.0\n",
    "    end\n",
    "end"
   ]
  },
  {
   "cell_type": "markdown",
   "id": "6fbaff7c-b998-47dc-b237-0c8d4a0ed0df",
   "metadata": {},
   "source": [
    "最佳实践：关于 `do` 的一个典型用法是用来处理文件读写，保证文件在处理完之后被正常关闭。\n",
    "\n",
    "```julia\n",
    "fio = open(filename, \"w\")\n",
    "do_something(fio)\n",
    "close(fio\n",
    "```\n",
    "\n",
    "以上这种写法并不能够保证文件一定被正常关闭：比如`do_something` 执行到一半报错了。\n",
    "\n",
    "See also [RAII(Resource acquisition is initialization)](https://en.wikipedia.org/wiki/Resource_acquisition_is_initialization)"
   ]
  },
  {
   "cell_type": "markdown",
   "id": "dd8f9bd9-d8e0-49bc-abf4-60395803f41f",
   "metadata": {},
   "source": [
    "`python` 为此引入了一个特殊的语法格式：\n",
    "\n",
    "```python\n",
    "with open(\"out.txt\", \"w\") as fio:\n",
    "    print(fio, \"hello\")\n",
    "    error(\"...\")\n",
    "```"
   ]
  },
  {
   "cell_type": "markdown",
   "id": "4157d8cd-16c2-4f31-9916-d1b301ce709f",
   "metadata": {},
   "source": [
    "而在 Julia 下通过 `do` 就可以实现"
   ]
  },
  {
   "cell_type": "code",
   "execution_count": 96,
   "id": "9ce182cc-deae-4ad3-9e6e-8ef216a8cd2a",
   "metadata": {},
   "outputs": [],
   "source": [
    "# do 里面的内容执行完之后，文件会自动被关闭\n",
    "open(\"out.txt\", \"w\") do io\n",
    "    println(io, \"hello\")\n",
    "    println(io, \"world\")\n",
    "end"
   ]
  },
  {
   "cell_type": "markdown",
   "id": "74264863-ee53-4331-8f92-a26c01b6c3a9",
   "metadata": {},
   "source": [
    "shell mode `;`"
   ]
  },
  {
   "cell_type": "code",
   "execution_count": 88,
   "id": "9a102204-9557-441e-8759-13dda83093e6",
   "metadata": {},
   "outputs": [
    {
     "name": "stdout",
     "output_type": "stream",
     "text": [
      "hello\n",
      "world\n"
     ]
    }
   ],
   "source": [
    ";cat out.txt"
   ]
  },
  {
   "cell_type": "markdown",
   "id": "b13c6037-0434-4df6-b4b7-a2bbe1a92324",
   "metadata": {},
   "source": [
    "这背后实际上是也是构造了一个高阶函数："
   ]
  },
  {
   "cell_type": "code",
   "execution_count": 99,
   "id": "b90f59f3-5702-40db-a3f3-6c705aad3678",
   "metadata": {},
   "outputs": [
    {
     "data": {
      "text/plain": [
       "myopen (generic function with 1 method)"
      ]
     },
     "execution_count": 99,
     "metadata": {},
     "output_type": "execute_result"
    }
   ],
   "source": [
    "function myopen(f, filename, mode)\n",
    "    local fio\n",
    "    try\n",
    "        fio = open(filename, mode)\n",
    "        f(fio)\n",
    "    finally\n",
    "        close(fio)\n",
    "    end\n",
    "end"
   ]
  },
  {
   "cell_type": "code",
   "execution_count": 101,
   "id": "d4fe910a-c7e5-4f18-99ca-c119f4ce4a9e",
   "metadata": {},
   "outputs": [],
   "source": [
    "myopen(\"out.txt\", \"w\") do io\n",
    "    println(io, \"world\")\n",
    "    println(io, \"hello\")\n",
    "end"
   ]
  },
  {
   "cell_type": "code",
   "execution_count": 94,
   "id": "4d4885d2-7403-4de3-aaac-908dc54e5620",
   "metadata": {},
   "outputs": [
    {
     "name": "stdout",
     "output_type": "stream",
     "text": [
      "world\n",
      "hello\n"
     ]
    }
   ],
   "source": [
    ";cat out.txt"
   ]
  },
  {
   "cell_type": "markdown",
   "id": "e729b122-a11a-4d3f-b2a4-b9b5303326f8",
   "metadata": {},
   "source": [
    "换句话说，并不需要像 Python 一样的 `with` 来处理，而只需要符合 `do` 语法就可以了."
   ]
  },
  {
   "cell_type": "markdown",
   "id": "ccb5f471-59ee-423d-91d8-27cbf6979617",
   "metadata": {},
   "source": [
    "`do` 后面加哪些变量以及每个变量的意义，取决于高阶函数的具体设计"
   ]
  },
  {
   "cell_type": "code",
   "execution_count": 102,
   "id": "a0b2bec4-4674-4f65-a62a-bc7552fef0f8",
   "metadata": {},
   "outputs": [
    {
     "data": {
      "text/plain": [
       "5-element Vector{Int64}:\n",
       "  3\n",
       "  5\n",
       "  7\n",
       "  9\n",
       " 11"
      ]
     },
     "execution_count": 102,
     "metadata": {},
     "output_type": "execute_result"
    }
   ],
   "source": [
    "map(+, 1:5, 2:6)"
   ]
  },
  {
   "cell_type": "code",
   "execution_count": 103,
   "id": "9efb11a6-32ac-46e2-95aa-6979f8bffb76",
   "metadata": {},
   "outputs": [
    {
     "data": {
      "text/plain": [
       "5-element Vector{Int64}:\n",
       "  3\n",
       "  5\n",
       "  7\n",
       "  9\n",
       " 11"
      ]
     },
     "execution_count": 103,
     "metadata": {},
     "output_type": "execute_result"
    }
   ],
   "source": [
    "map(1:5, 2:6) do x, y\n",
    "    x + y\n",
    "end"
   ]
  },
  {
   "cell_type": "markdown",
   "id": "872d28e7-20fa-483a-965c-b35beff92452",
   "metadata": {},
   "source": [
    "### Julia 没有类方法，也不存在面向对象编程的代码风格\n",
    "\n",
    "类方法本质上可以理解成单重派发，而 Julia 的多重派发是一种更一般化的编程模式。"
   ]
  },
  {
   "cell_type": "code",
   "execution_count": 145,
   "id": "1b506fa5-f6ab-49ec-a289-efe90ddc6eda",
   "metadata": {},
   "outputs": [],
   "source": [
    "struct Point{T}\n",
    "    x::T\n",
    "    y::T\n",
    "end\n",
    "struct Point3D{T}\n",
    "    x::T\n",
    "    y::T\n",
    "    z::T\n",
    "end"
   ]
  },
  {
   "cell_type": "code",
   "execution_count": 146,
   "id": "2ef50ff8-559f-416c-bb39-e27d8122e8c7",
   "metadata": {},
   "outputs": [
    {
     "data": {
      "text/plain": [
       "(Point3D{Int64}(1, 2, 1), Point3D{Int64}(1, 5, 5))"
      ]
     },
     "execution_count": 146,
     "metadata": {},
     "output_type": "execute_result"
    }
   ],
   "source": [
    "p2, q2 = Point(3, 4), Point(0, 0)\n",
    "p3, q3 = Point3D(1, 2, 1), Point3D(1, 5, 5)"
   ]
  },
  {
   "cell_type": "markdown",
   "id": "8cdbf1ce-a6bd-40e8-9d6a-b91548d8b2d4",
   "metadata": {},
   "source": [
    "如果需要实现一个函数 `dist`，来计算所有不同可能组合：\n",
    "\n",
    "- `dist(p2, q2)`\n",
    "- `dist(p2, p3)`\n",
    "- `dist(p3, p2)`\n",
    "- `dist(p3, q3)`\n",
    "\n",
    "在 Python 下会如何实现？在 Julia 下会如何实现？"
   ]
  },
  {
   "cell_type": "markdown",
   "id": "34b27fa2-f749-4dee-ac9d-fc5dd5cf733a",
   "metadata": {},
   "source": [
    "Julia 实现方式 1: 针对每一种组合写一个方法"
   ]
  },
  {
   "cell_type": "code",
   "execution_count": 147,
   "id": "caa649cc-c2d4-421d-b3b0-47d3cd059556",
   "metadata": {},
   "outputs": [
    {
     "data": {
      "text/plain": [
       "dist (generic function with 4 methods)"
      ]
     },
     "execution_count": 147,
     "metadata": {},
     "output_type": "execute_result"
    }
   ],
   "source": [
    "dist(p::Point, q::Point) = sqrt((p.x-q.x)^2+(p.y-q.y)^2)\n",
    "dist(p::Point, q::Point3D) = sqrt((p.x-q.x)^2+(p.y-q.y)^2 + q.z^2)\n",
    "dist(p::Point3D, q::Point) = sqrt((p.x-q.x)^2+(p.y-q.y)^2 + p.z^2)\n",
    "dist(p::Point3D, q::Point3D) = sqrt((p.x-q.x)^2+(p.y-q.y)^2 + (p.z-q.z)^2)"
   ]
  },
  {
   "cell_type": "code",
   "execution_count": 148,
   "id": "1e539a35-2b5e-41c8-b2c1-ddf98eb5a1df",
   "metadata": {},
   "outputs": [
    {
     "name": "stdout",
     "output_type": "stream",
     "text": [
      "dist(p2, q2) = 5.0\n",
      "dist(p2, p3) = 3.0\n",
      "dist(p3, p2) = 3.0\n",
      "dist(p3, q3) = 5.0\n"
     ]
    },
    {
     "data": {
      "text/plain": [
       "5.0"
      ]
     },
     "execution_count": 148,
     "metadata": {},
     "output_type": "execute_result"
    }
   ],
   "source": [
    "@show dist(p2, q2)\n",
    "@show dist(p2, p3)\n",
    "@show dist(p3, p2)\n",
    "@show dist(p3, q3)"
   ]
  },
  {
   "cell_type": "markdown",
   "id": "22d148f4-ff8a-467d-a3f2-4a14f9d7c946",
   "metadata": {},
   "source": [
    "假如出现了第三个类..."
   ]
  },
  {
   "cell_type": "code",
   "execution_count": 149,
   "id": "02020054-0fea-4987-a2d7-cbd900375193",
   "metadata": {},
   "outputs": [],
   "source": [
    "struct Point1D{T}\n",
    "    x::T\n",
    "end"
   ]
  },
  {
   "cell_type": "code",
   "execution_count": 150,
   "id": "e0eada77-5066-495f-99b8-7dcdeccb9d02",
   "metadata": {},
   "outputs": [
    {
     "data": {
      "text/plain": [
       "(Point1D{Int64}(1), Point1D{Int64}(3))"
      ]
     },
     "execution_count": 150,
     "metadata": {},
     "output_type": "execute_result"
    }
   ],
   "source": [
    "p1, q1 = Point1D(1), Point1D(3)"
   ]
  },
  {
   "cell_type": "markdown",
   "id": "9df5a42e-f491-4f52-a50f-53365ed159b0",
   "metadata": {},
   "source": [
    "难道要写 M^N (M为函数参数类型的可能性，N为函数参数的数目）个方法？(在这里是 3^2==9 个)"
   ]
  },
  {
   "cell_type": "markdown",
   "id": "59815206-db45-4361-9b17-656d9e0e6c0c",
   "metadata": {},
   "source": [
    "Julia 实现方式 2: 拆分成两个正交的阶段"
   ]
  },
  {
   "cell_type": "code",
   "execution_count": 151,
   "id": "0fd6a16c-0eba-4cdb-9b08-1eb48b5d68a2",
   "metadata": {},
   "outputs": [
    {
     "data": {
      "text/plain": [
       "promote_point (generic function with 5 methods)"
      ]
     },
     "execution_count": 151,
     "metadata": {},
     "output_type": "execute_result"
    }
   ],
   "source": [
    "promote_point(p::Point1D, q::Point) = Point(p.x, 0), q\n",
    "promote_point(p::Point1D, q::Point3D) = Point3D(p.x, 0, 0), q\n",
    "promote_point(p::Point, q::Point3D) = Point3D(p.x, 0, 0), q\n",
    "\n",
    "promote_point(p::T, q::T) where T = p, q\n",
    "promote_point(p, q) = promote_point(q, p)"
   ]
  },
  {
   "cell_type": "code",
   "execution_count": 152,
   "id": "a391dea9-f712-40e2-bde6-fb27c6af52bd",
   "metadata": {},
   "outputs": [
    {
     "data": {
      "text/plain": [
       "dist2 (generic function with 4 methods)"
      ]
     },
     "execution_count": 152,
     "metadata": {},
     "output_type": "execute_result"
    }
   ],
   "source": [
    "dist2(p::Point1D, q::Point1D) = p.x - q.x\n",
    "dist2(p::Point, q::Point) = sqrt((p.x-q.x)^2+(p.y-q.y)^2)\n",
    "dist2(p::Point3D, q::Point3D) = sqrt((p.x-q.x)^2+(p.y-q.y)^2+(p.z-q.z)^2)\n",
    "dist2(p, q) = dist2(promote_point(p, q)...)"
   ]
  },
  {
   "cell_type": "markdown",
   "id": "512d7a08-a57a-4908-92f3-e3bb237734fc",
   "metadata": {},
   "source": [
    "因此只需要 4 个 `dist` 方法就可以定义完整的功能，并且实际上代码结构也会更加简洁。\n",
    "\n",
    "这里 `promote_point` 没有算进去，是可以它被其他相似的方法复用，比如说某一天需要再实现一个支持各种类型的 `point_add`，就不需要再写一遍了。\n",
    "\n",
    "基于这个原因，Julia 中随处可以见到这种代码风格，并且也作为最佳实践记录在文档中 [将代码设计正交化](https://docs.julialang.org/en/v1/manual/methods/#man-methods-orthogonalize)"
   ]
  },
  {
   "cell_type": "code",
   "execution_count": 153,
   "id": "353d2fcc-10f2-4995-8def-f81353000967",
   "metadata": {},
   "outputs": [
    {
     "name": "stdout",
     "output_type": "stream",
     "text": [
      "dist2(p1, q1) = -2\n",
      "dist2(p1, p2) = 4.47213595499958\n",
      "dist2(p1, p3) = 2.23606797749979\n",
      "dist2(p2, p1) = 4.47213595499958\n",
      "dist2(p2, q2) = 5.0\n",
      "dist2(p2, p3) = 3.0\n",
      "dist2(p3, p1) = 2.23606797749979\n",
      "dist2(p3, p2) = 3.0\n",
      "dist2(p3, q3) = 5.0\n"
     ]
    },
    {
     "data": {
      "text/plain": [
       "5.0"
      ]
     },
     "execution_count": 153,
     "metadata": {},
     "output_type": "execute_result"
    }
   ],
   "source": [
    "@show dist2(p1, q1)\n",
    "@show dist2(p1, p2)\n",
    "@show dist2(p1, p3)\n",
    "\n",
    "@show dist2(p2, p1)\n",
    "@show dist2(p2, q2)\n",
    "@show dist2(p2, p3)\n",
    "\n",
    "@show dist2(p3, p1)\n",
    "@show dist2(p3, p2)\n",
    "@show dist2(p3, q3)"
   ]
  }
 ],
 "metadata": {
  "kernelspec": {
   "display_name": "Julia 1.6.3",
   "language": "julia",
   "name": "julia-1.6"
  },
  "language_info": {
   "file_extension": ".jl",
   "mimetype": "application/julia",
   "name": "julia",
   "version": "1.6.3"
  }
 },
 "nbformat": 4,
 "nbformat_minor": 5
}
