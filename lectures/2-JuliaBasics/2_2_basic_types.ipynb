{
 "cells": [
  {
   "cell_type": "markdown",
   "id": "1185ce6b-2559-40b3-bdd2-fe0d25a83e7e",
   "metadata": {
    "slideshow": {
     "slide_type": "slide"
    },
    "tags": []
   },
   "source": [
    "# 2.2 基本数据类型\n",
    "\n",
    "日期： 2021.10.17\n",
    "\n",
    "作者：陈久宁\n",
    "\n",
    "如果你有其他语言的基础的话，不妨先阅读文档 [Julia 与其他语言的差异](https://docs.julialang.org/en/v1/manual/noteworthy-differences/)\n",
    "\n",
    "这部分只是一个非常简略的介绍，如果想要更详细的阅读的话，请参考文档的以下几个部分：\n",
    "\n",
    "- [变量](https://docs.julialang.org/en/v1/manual/variables/)\n",
    "- [整数与浮点数](https://docs.julialang.org/en/v1/manual/integers-and-floating-point-numbers/)\n",
    "- [有理数与复数](https://docs.julialang.org/en/v1/manual/complex-and-rational-numbers/)\n",
    "- [多维数组](https://docs.julialang.org/en/v1/manual/arrays/)\n",
    "\n",
    "---"
   ]
  },
  {
   "cell_type": "markdown",
   "id": "08f1bf43-15d4-4c3c-a306-0512f66b350f",
   "metadata": {},
   "source": [
    "### 加载包使用 `using` 命令"
   ]
  },
  {
   "cell_type": "code",
   "execution_count": 1,
   "id": "c5c0f6f9-84f0-4b35-877e-a323d1172fba",
   "metadata": {},
   "outputs": [],
   "source": [
    "using BenchmarkTools"
   ]
  },
  {
   "cell_type": "markdown",
   "id": "dae029f4-f3aa-4ea8-9b0a-db37d00e8319",
   "metadata": {
    "slideshow": {
     "slide_type": "slide"
    },
    "tags": []
   },
   "source": [
    "## 2.1 变量和基本数据类型\n",
    "\n",
    "Read more:\n",
    "\n",
    "- https://docs.julialang.org/en/v1/manual/variables/\n",
    "- https://docs.julialang.org/en/v1/manual/integers-and-floating-point-numbers/#Integers-and-Floating-Point-Numbers"
   ]
  },
  {
   "cell_type": "markdown",
   "id": "02756c9b-d414-4181-8b75-b18e981a10a5",
   "metadata": {},
   "source": [
    "### 整型 `Int`"
   ]
  },
  {
   "cell_type": "code",
   "execution_count": 2,
   "id": "7e4ac2ca-8aa3-4acf-9981-9bf58393eaf9",
   "metadata": {},
   "outputs": [
    {
     "data": {
      "text/plain": [
       "1"
      ]
     },
     "execution_count": 2,
     "metadata": {},
     "output_type": "execute_result"
    }
   ],
   "source": [
    "x = 1"
   ]
  },
  {
   "cell_type": "code",
   "execution_count": 3,
   "id": "1af92b90-3461-452e-acd9-8150c49ed283",
   "metadata": {},
   "outputs": [
    {
     "data": {
      "text/plain": [
       "Int64"
      ]
     },
     "execution_count": 3,
     "metadata": {},
     "output_type": "execute_result"
    }
   ],
   "source": [
    "typeof(x)"
   ]
  },
  {
   "cell_type": "markdown",
   "id": "74b03677-6ab0-4dde-8047-71b3a822820d",
   "metadata": {},
   "source": [
    "### 浮点数类型 `Float64`\n",
    "\n",
    "每日小知识： Julia 允许 Unicode 符号来命名变量，可以通过 latex 输入: `\\lambda<TAB>`"
   ]
  },
  {
   "cell_type": "code",
   "execution_count": 4,
   "id": "f9641945-08f3-482d-bf54-1d64dc2a8276",
   "metadata": {},
   "outputs": [
    {
     "data": {
      "text/plain": [
       "0.1"
      ]
     },
     "execution_count": 4,
     "metadata": {},
     "output_type": "execute_result"
    }
   ],
   "source": [
    "λ = 0.1 # \\lambda<TAB>"
   ]
  },
  {
   "cell_type": "code",
   "execution_count": 5,
   "id": "844531f1-893c-4375-bb83-46df83b40a0c",
   "metadata": {},
   "outputs": [
    {
     "data": {
      "text/plain": [
       "Float64"
      ]
     },
     "execution_count": 5,
     "metadata": {},
     "output_type": "execute_result"
    }
   ],
   "source": [
    "typeof(λ)"
   ]
  },
  {
   "cell_type": "markdown",
   "id": "d85d039c-b220-48b1-bf72-57c2396cc1aa",
   "metadata": {},
   "source": [
    "### 复数 `Complex64`"
   ]
  },
  {
   "cell_type": "code",
   "execution_count": 6,
   "id": "3cc44d5e-d2db-4708-b5d8-72cf4863cfea",
   "metadata": {},
   "outputs": [
    {
     "data": {
      "text/plain": [
       "1.0 + 0.1im"
      ]
     },
     "execution_count": 6,
     "metadata": {},
     "output_type": "execute_result"
    }
   ],
   "source": [
    "cᵢ = 1.0 + 0.1im # c\\_i<TAB>"
   ]
  },
  {
   "cell_type": "code",
   "execution_count": 7,
   "id": "d0d21002-1985-494f-9692-ebe992173920",
   "metadata": {
    "slideshow": {
     "slide_type": "subslide"
    },
    "tags": []
   },
   "outputs": [
    {
     "data": {
      "text/plain": [
       "ComplexF64 (alias for Complex{Float64})"
      ]
     },
     "execution_count": 7,
     "metadata": {},
     "output_type": "execute_result"
    }
   ],
   "source": [
    "typeof(cᵢ)"
   ]
  },
  {
   "cell_type": "markdown",
   "id": "9ddd9995-f0aa-49c4-b573-cf0aa7ed8657",
   "metadata": {},
   "source": [
    "### Julia 浮点数的特殊值： `Inf` 和 `NaN`\n",
    "\n",
    "- Inf: Infinity\n",
    "- NaN: Not-A-Number\n",
    "\n",
    "Read more: https://docs.julialang.org/en/v1/manual/integers-and-floating-point-numbers/#Special-floating-point-values"
   ]
  },
  {
   "cell_type": "code",
   "execution_count": 8,
   "id": "563e5e52-b634-4ab8-b4ac-71cbde8c0fba",
   "metadata": {},
   "outputs": [
    {
     "data": {
      "text/plain": [
       "Inf"
      ]
     },
     "execution_count": 8,
     "metadata": {},
     "output_type": "execute_result"
    }
   ],
   "source": [
    "1/0"
   ]
  },
  {
   "cell_type": "code",
   "execution_count": 9,
   "id": "4503a340-e0fe-4231-b842-2263fc438973",
   "metadata": {},
   "outputs": [
    {
     "data": {
      "text/plain": [
       "Float64"
      ]
     },
     "execution_count": 9,
     "metadata": {},
     "output_type": "execute_result"
    }
   ],
   "source": [
    "typeof(Inf)"
   ]
  },
  {
   "cell_type": "code",
   "execution_count": 10,
   "id": "d1f2eeb8-96a1-4c1d-aea1-d12aeb78ef01",
   "metadata": {},
   "outputs": [
    {
     "data": {
      "text/plain": [
       "NaN"
      ]
     },
     "execution_count": 10,
     "metadata": {},
     "output_type": "execute_result"
    }
   ],
   "source": [
    "0 * Inf"
   ]
  },
  {
   "cell_type": "code",
   "execution_count": 11,
   "id": "e774d061-d5dc-40bd-af54-8bba64bc66aa",
   "metadata": {},
   "outputs": [
    {
     "data": {
      "text/plain": [
       "NaN"
      ]
     },
     "execution_count": 11,
     "metadata": {},
     "output_type": "execute_result"
    }
   ],
   "source": [
    "0/0"
   ]
  },
  {
   "cell_type": "code",
   "execution_count": 12,
   "id": "25661110-37fd-4323-92c4-90d1087fb5a4",
   "metadata": {},
   "outputs": [
    {
     "data": {
      "text/plain": [
       "Float64"
      ]
     },
     "execution_count": 12,
     "metadata": {},
     "output_type": "execute_result"
    }
   ],
   "source": [
    "typeof(NaN)"
   ]
  },
  {
   "cell_type": "markdown",
   "id": "6060db50-5e62-4c9b-a03d-1c99f94af1ff",
   "metadata": {},
   "source": [
    "### 缺失值 `missing`\n",
    "\n",
    "常用于统计类的工具箱中"
   ]
  },
  {
   "cell_type": "code",
   "execution_count": 13,
   "id": "2d4d4cae-0408-4a2e-af87-52931a2c1a8e",
   "metadata": {},
   "outputs": [
    {
     "data": {
      "text/plain": [
       "missing"
      ]
     },
     "execution_count": 13,
     "metadata": {},
     "output_type": "execute_result"
    }
   ],
   "source": [
    "1 * missing"
   ]
  },
  {
   "cell_type": "code",
   "execution_count": 14,
   "id": "29ae197b-214c-42d3-8ba4-c3094d5122fb",
   "metadata": {},
   "outputs": [
    {
     "data": {
      "text/plain": [
       "Missing"
      ]
     },
     "execution_count": 14,
     "metadata": {},
     "output_type": "execute_result"
    }
   ],
   "source": [
    "typeof(missing)"
   ]
  },
  {
   "cell_type": "markdown",
   "id": "03c13a85-19c1-4392-9321-d1446bef3fb4",
   "metadata": {},
   "source": [
    "### `nothing`\n",
    "\n",
    "`nothing` 则是另一回事，常用于表达函数没有返回值（等价于 Python 的 `None`)"
   ]
  },
  {
   "cell_type": "code",
   "execution_count": 15,
   "id": "bfd2a94f-8fc6-48b1-bd11-7633a11a9344",
   "metadata": {},
   "outputs": [
    {
     "data": {
      "text/plain": [
       "Nothing"
      ]
     },
     "execution_count": 15,
     "metadata": {},
     "output_type": "execute_result"
    }
   ],
   "source": [
    "typeof(nothing)"
   ]
  },
  {
   "cell_type": "code",
   "execution_count": 16,
   "id": "c0cc873a-b28e-4b5b-97e1-176e11ad326f",
   "metadata": {},
   "outputs": [
    {
     "data": {
      "text/plain": [
       "Nothing"
      ]
     },
     "execution_count": 16,
     "metadata": {},
     "output_type": "execute_result"
    }
   ],
   "source": [
    "function f()\n",
    "    return # 等价于 return nothing\n",
    "end\n",
    "typeof(f())"
   ]
  },
  {
   "cell_type": "markdown",
   "id": "9af839f9-4d0c-459d-881c-7218f86593a2",
   "metadata": {},
   "source": [
    "### 无理数\n",
    "\n",
    "Julia 有专门的无理数类型来保证在任意精度下的准确性"
   ]
  },
  {
   "cell_type": "code",
   "execution_count": 17,
   "id": "a6fd97e9-361a-4bad-9d41-55e6f24fb41a",
   "metadata": {},
   "outputs": [
    {
     "data": {
      "text/plain": [
       "π = 3.1415926535897..."
      ]
     },
     "execution_count": 17,
     "metadata": {},
     "output_type": "execute_result"
    }
   ],
   "source": [
    "pi # or π"
   ]
  },
  {
   "cell_type": "code",
   "execution_count": 18,
   "id": "d31b788b-cb38-49e3-961f-568bbdc24192",
   "metadata": {},
   "outputs": [
    {
     "data": {
      "text/plain": [
       "Irrational{:π}"
      ]
     },
     "execution_count": 18,
     "metadata": {},
     "output_type": "execute_result"
    }
   ],
   "source": [
    "typeof(pi)"
   ]
  },
  {
   "cell_type": "code",
   "execution_count": 19,
   "id": "358a4945-d4be-4a80-ac20-b3d733bf5d16",
   "metadata": {},
   "outputs": [
    {
     "data": {
      "text/plain": [
       "(3.141592653589793, 3.141592653589793238462643383279502884197169399375105820974944592307816406286198)"
      ]
     },
     "execution_count": 19,
     "metadata": {},
     "output_type": "execute_result"
    }
   ],
   "source": [
    "Float64(pi), BigFloat(pi)"
   ]
  },
  {
   "cell_type": "markdown",
   "id": "ef3a1cfe-b1c5-4454-8f71-21aa843679bb",
   "metadata": {},
   "source": [
    "Julia 非常在意数值精度，甚至还有专门的 `sin`/`cos`"
   ]
  },
  {
   "cell_type": "code",
   "execution_count": 20,
   "id": "d094ef12-dfca-4222-ac9d-3eb0768f3bf0",
   "metadata": {},
   "outputs": [
    {
     "data": {
      "text/plain": [
       "(0.0, -1.0)"
      ]
     },
     "execution_count": 20,
     "metadata": {},
     "output_type": "execute_result"
    }
   ],
   "source": [
    "sinpi(1), cospi(1)"
   ]
  },
  {
   "cell_type": "code",
   "execution_count": 21,
   "id": "6401d337-3f22-4635-b94c-e96fdd167bf3",
   "metadata": {},
   "outputs": [
    {
     "data": {
      "text/plain": [
       "(1.2246467991473532e-16, -1.0)"
      ]
     },
     "execution_count": 21,
     "metadata": {},
     "output_type": "execute_result"
    }
   ],
   "source": [
    "sin(pi), cos(pi)"
   ]
  },
  {
   "cell_type": "markdown",
   "id": "3aae5b82-07e1-4c75-94c3-6c653bd86006",
   "metadata": {},
   "source": [
    "字面量常数可以和变量或者括号结合在一起作为乘法"
   ]
  },
  {
   "cell_type": "code",
   "execution_count": 22,
   "id": "055e9cc2-d068-40aa-84e2-1d19dafc7d29",
   "metadata": {},
   "outputs": [
    {
     "data": {
      "text/plain": [
       "6.283185307179586"
      ]
     },
     "execution_count": 22,
     "metadata": {},
     "output_type": "execute_result"
    }
   ],
   "source": [
    "θ = 1.0\n",
    "y = 2π*θ"
   ]
  },
  {
   "cell_type": "code",
   "execution_count": 23,
   "id": "d6341722-37d5-4eda-bf99-717618183560",
   "metadata": {},
   "outputs": [
    {
     "data": {
      "text/plain": [
       "14.566370614359172"
      ]
     },
     "execution_count": 23,
     "metadata": {},
     "output_type": "execute_result"
    }
   ],
   "source": [
    "2(y+1)"
   ]
  },
  {
   "cell_type": "markdown",
   "id": "8337a641-9502-4036-9138-72109bb0802e",
   "metadata": {},
   "source": [
    "### 抑制输出\n",
    "\n",
    "每日小知识：在交互式 REPL 模式下，可以通过在行末尾添加 `;` 来抑制输出"
   ]
  },
  {
   "cell_type": "code",
   "execution_count": 24,
   "id": "8b64989d-af63-450e-b254-81746b71f343",
   "metadata": {},
   "outputs": [
    {
     "data": {
      "text/plain": [
       "3"
      ]
     },
     "execution_count": 24,
     "metadata": {},
     "output_type": "execute_result"
    }
   ],
   "source": [
    "x = 1\n",
    "y = x + 2"
   ]
  },
  {
   "cell_type": "markdown",
   "id": "47fdb110-6ad8-4620-8884-44eda2993ac5",
   "metadata": {},
   "source": [
    "macro"
   ]
  },
  {
   "cell_type": "code",
   "execution_count": 25,
   "id": "51d3f6fb-509b-497b-8f92-a17be9ce5e7e",
   "metadata": {},
   "outputs": [
    {
     "name": "stdout",
     "output_type": "stream",
     "text": [
      "x = 0.8406384738422907\n"
     ]
    },
    {
     "name": "stderr",
     "output_type": "stream",
     "text": [
      "┌ Info: 0.8406384738422907\n",
      "└ @ Main In[25]:4\n",
      "┌ Info: 一些中间结果\n",
      "│   x = 0.8406384738422907\n",
      "│   x ^ 2 = 0.7066730437038957\n",
      "└ @ Main In[25]:5\n"
     ]
    }
   ],
   "source": [
    "x = rand() # Julia 默认只会输出每一个代码块最后一行的结果\n",
    "# 如果想要输出中间结果的话，可以通过 `print`/`println`, `@show`, `@info` 来得到\n",
    "@show x\n",
    "@info x\n",
    "@info \"一些中间结果\" x x^2\n",
    "y = x + 2;"
   ]
  },
  {
   "cell_type": "markdown",
   "id": "de485f46-960c-4c84-b597-6edb9b95df0f",
   "metadata": {},
   "source": [
    "### 字符 `Char` 与字符串 `String`"
   ]
  },
  {
   "cell_type": "markdown",
   "id": "4d8be111-6711-4494-aed2-d414580db7c0",
   "metadata": {},
   "source": [
    "单引号为字符 `''`"
   ]
  },
  {
   "cell_type": "code",
   "execution_count": 26,
   "id": "545f37bc-57f1-4e55-936e-275ef08f8b1a",
   "metadata": {},
   "outputs": [
    {
     "data": {
      "text/plain": [
       "'c': ASCII/Unicode U+0063 (category Ll: Letter, lowercase)"
      ]
     },
     "execution_count": 26,
     "metadata": {},
     "output_type": "execute_result"
    }
   ],
   "source": [
    "char = 'c'"
   ]
  },
  {
   "cell_type": "code",
   "execution_count": 27,
   "id": "6176cb65-71c6-4889-883a-dc2964eeb855",
   "metadata": {},
   "outputs": [
    {
     "data": {
      "text/plain": [
       "Char"
      ]
     },
     "execution_count": 27,
     "metadata": {},
     "output_type": "execute_result"
    }
   ],
   "source": [
    "typeof(char)"
   ]
  },
  {
   "cell_type": "markdown",
   "id": "10e6f6c4-bd24-4fba-becc-438aff8bef13",
   "metadata": {},
   "source": [
    "双引号 `\"\"`为字符串"
   ]
  },
  {
   "cell_type": "code",
   "execution_count": 28,
   "id": "11683deb-1fda-46b7-a7fa-6ab82bbd8d53",
   "metadata": {},
   "outputs": [
    {
     "data": {
      "text/plain": [
       "\"Hello\""
      ]
     },
     "execution_count": 28,
     "metadata": {},
     "output_type": "execute_result"
    }
   ],
   "source": [
    "str = \"Hello\""
   ]
  },
  {
   "cell_type": "code",
   "execution_count": 29,
   "id": "2be264eb-fbcd-4070-8f08-daf07aee6c10",
   "metadata": {},
   "outputs": [
    {
     "data": {
      "text/plain": [
       "String"
      ]
     },
     "execution_count": 29,
     "metadata": {},
     "output_type": "execute_result"
    }
   ],
   "source": [
    "typeof(str)"
   ]
  },
  {
   "cell_type": "code",
   "execution_count": 30,
   "id": "7bfe0eb9-6abd-45d9-9960-4764cd4cf65c",
   "metadata": {},
   "outputs": [
    {
     "data": {
      "text/plain": [
       "false"
      ]
     },
     "execution_count": 30,
     "metadata": {},
     "output_type": "execute_result"
    }
   ],
   "source": [
    "'c' == \"c\""
   ]
  },
  {
   "cell_type": "code",
   "execution_count": 31,
   "id": "77bc6509-f393-4fbe-8df3-993f526d6ccc",
   "metadata": {},
   "outputs": [
    {
     "data": {
      "text/plain": [
       "true"
      ]
     },
     "execution_count": 31,
     "metadata": {},
     "output_type": "execute_result"
    }
   ],
   "source": [
    "\"c\"[1] == 'c'"
   ]
  },
  {
   "cell_type": "markdown",
   "id": "8b471881-5846-48c6-97fa-38c7912abf08",
   "metadata": {},
   "source": [
    "三重双引号为多行字符串 (自动补充换行符 `\\n`）"
   ]
  },
  {
   "cell_type": "code",
   "execution_count": 32,
   "id": "243d3453-9cb6-4532-8a81-015de90b0fbf",
   "metadata": {},
   "outputs": [
    {
     "data": {
      "text/plain": [
       "\"This is\\na\\nmultiline\\nstring\\n\""
      ]
     },
     "execution_count": 32,
     "metadata": {},
     "output_type": "execute_result"
    }
   ],
   "source": [
    "s = \"\"\"\n",
    "This is\n",
    "a\n",
    "multiline\n",
    "string\n",
    "\"\"\""
   ]
  },
  {
   "cell_type": "markdown",
   "id": "3aff39e1-5e68-40e4-bd82-e2cce150286d",
   "metadata": {},
   "source": [
    "字符串的插值使用 `$`"
   ]
  },
  {
   "cell_type": "code",
   "execution_count": 33,
   "id": "53ee8815-a238-42bd-af72-ac780d77a2d8",
   "metadata": {},
   "outputs": [
    {
     "data": {
      "text/plain": [
       "\"hello world\""
      ]
     },
     "execution_count": 33,
     "metadata": {},
     "output_type": "execute_result"
    }
   ],
   "source": [
    "msg = \"world\"\n",
    "\"hello $msg\" # f\"hello {msg}\""
   ]
  },
  {
   "cell_type": "markdown",
   "id": "a95e08cc-849a-4280-ae6d-e0332a276bc9",
   "metadata": {},
   "source": [
    "`$` 中也可以是函数"
   ]
  },
  {
   "cell_type": "code",
   "execution_count": 34,
   "id": "5346bc45-de0f-47fd-b08c-ab0b197cc789",
   "metadata": {},
   "outputs": [
    {
     "data": {
      "text/plain": [
       "\"x^2 = 4\""
      ]
     },
     "execution_count": 34,
     "metadata": {},
     "output_type": "execute_result"
    }
   ],
   "source": [
    "x = 2\n",
    "\"x^2 = $(x^2)\""
   ]
  },
  {
   "cell_type": "markdown",
   "id": "fb90bb59-a947-4834-a486-d671f4c21e64",
   "metadata": {},
   "source": [
    "字符串的拼接用 `*` 而不是 `+`"
   ]
  },
  {
   "cell_type": "code",
   "execution_count": 35,
   "id": "4d3222aa-3244-47c2-8e81-e8853052af98",
   "metadata": {},
   "outputs": [
    {
     "data": {
      "text/plain": [
       "\"hello, world\""
      ]
     },
     "execution_count": 35,
     "metadata": {},
     "output_type": "execute_result"
    }
   ],
   "source": [
    "\"hello, \" * \"world\" # surprise"
   ]
  },
  {
   "cell_type": "markdown",
   "id": "16ce7f45-50e5-4a56-8edf-fd15f5e64cb4",
   "metadata": {},
   "source": [
    "注解：字符串的拼接并不可以交换，这一点在代数上对应于一个群而不是交换群。"
   ]
  },
  {
   "cell_type": "markdown",
   "id": "08679407-018d-4812-a81a-4cf89b1bf609",
   "metadata": {},
   "source": [
    "字符串转换为数值类型使用 `parse`"
   ]
  },
  {
   "cell_type": "code",
   "execution_count": 36,
   "id": "8511e806-ac48-46d6-8f3d-097f331f4651",
   "metadata": {},
   "outputs": [
    {
     "name": "stdout",
     "output_type": "stream",
     "text": [
      "parse(Int, \"1\") = 1\n",
      "parse(Float64, \"1.23\") = 1.23\n"
     ]
    },
    {
     "data": {
      "text/plain": [
       "1.23"
      ]
     },
     "execution_count": 36,
     "metadata": {},
     "output_type": "execute_result"
    }
   ],
   "source": [
    "@show parse(Int, \"1\") # int(\"1\")\n",
    "@show parse(Float64, \"1.23\")"
   ]
  },
  {
   "cell_type": "markdown",
   "id": "75543f86-af1c-481a-95b5-614e755f1c2e",
   "metadata": {},
   "source": [
    "## 2.2 常用的内置容器类型\n",
    "\n",
    "列表类型：\n",
    "\n",
    "- 矩阵 `Array`：可变\n",
    "- 元组 `Tuple`：不可变\n",
    "\n",
    "集合类型：\n",
    "\n",
    "- 字典 `Dict`：可变\n",
    "- 命名元组 `NamedTuple`：不可变\n",
    "- 集合 `Set`：不包含重复元素\n",
    "\n",
    "More:\n",
    "\n",
    "- [StaticArrays.jl](https://github.com/JuliaArrays/StaticArrays.jl) 将尺寸信息记录在类型中，从而对于小矩阵来说可以拿到比 `Array` 更好的计算效率\n",
    "- 矩阵并不是一定要以 1 作为下标起点，[OffsetArrays.jl](https://github.com/JuliaArrays/OffsetArrays.jl) 允许构造任意下标起点的矩阵\n",
    "- 更多的典型数据类型可以在 [DataStructures.jl](https://github.com/JuliaCollections/DataStructures.jl) 找到"
   ]
  },
  {
   "cell_type": "markdown",
   "id": "84844a2a-fe33-4633-bee0-f11ef5eed675",
   "metadata": {},
   "source": [
    "### 矩阵 `Array`"
   ]
  },
  {
   "cell_type": "markdown",
   "id": "cfe70561-a451-4e0d-b02a-043bd2d48fb5",
   "metadata": {},
   "source": [
    "Julia 默认情况下是按列存储的，并且通过 `[]` 来构造"
   ]
  },
  {
   "cell_type": "code",
   "execution_count": 37,
   "id": "e74db021-4e2e-4dee-a744-1e7621d6a97d",
   "metadata": {},
   "outputs": [
    {
     "name": "stdout",
     "output_type": "stream",
     "text": [
      "typeof(x) = Vector{Int64}\n"
     ]
    },
    {
     "data": {
      "text/plain": [
       "3-element Vector{Int64}:\n",
       " 1\n",
       " 2\n",
       " 3"
      ]
     },
     "execution_count": 37,
     "metadata": {},
     "output_type": "execute_result"
    }
   ],
   "source": [
    "x = [1, 2, 3] # Vector (column vector)\n",
    "\n",
    "@show typeof(x)\n",
    "x"
   ]
  },
  {
   "cell_type": "markdown",
   "id": "d016a799-3fb1-4eb3-aef8-cfad2e7bf9c9",
   "metadata": {},
   "source": [
    "矩阵以 `1` 作为下标起点，用 `[]` 进行下标取值"
   ]
  },
  {
   "cell_type": "code",
   "execution_count": 38,
   "id": "f0569070-e612-4a05-b2d7-676e9540a3fb",
   "metadata": {},
   "outputs": [
    {
     "data": {
      "text/plain": [
       "1"
      ]
     },
     "execution_count": 38,
     "metadata": {},
     "output_type": "execute_result"
    }
   ],
   "source": [
    "x[1]"
   ]
  },
  {
   "cell_type": "code",
   "execution_count": 39,
   "id": "89853fd3-a685-4a4c-a281-40e68f5e45a3",
   "metadata": {},
   "outputs": [
    {
     "data": {
      "text/plain": [
       "2-element Vector{Int64}:\n",
       " 1\n",
       " 2"
      ]
     },
     "execution_count": 39,
     "metadata": {},
     "output_type": "execute_result"
    }
   ],
   "source": [
    "x[1:2] # 取值范围是左闭右闭 []"
   ]
  },
  {
   "cell_type": "markdown",
   "id": "75535439-3827-478b-8d9d-57c38fb30998",
   "metadata": {},
   "source": [
    "查询基本属性用的函数：\n",
    "\n",
    "- `size(x)`: 尺寸\n",
    "- `length(x)`: 长度 (等价于 `prod(size(x)`)\n",
    "- `axes(x)`: 带坐标的尺寸\n",
    "- `ndims(x)`: 维度\n",
    "- `eltype(x)`: 元素类型"
   ]
  },
  {
   "cell_type": "code",
   "execution_count": 40,
   "id": "9f557da6-21b0-4bf0-b44f-b7a19e1f692b",
   "metadata": {},
   "outputs": [
    {
     "name": "stdout",
     "output_type": "stream",
     "text": [
      "size(x) = (4, 4)\n",
      "length(x) = 16\n",
      "axes(x) = (Base.OneTo(4), Base.OneTo(4))\n",
      "ndims(x) = 2\n",
      "eltype(x) = Float64\n",
      "typeof(x) = Matrix{Float64}\n"
     ]
    }
   ],
   "source": [
    "x = rand(4, 4)\n",
    "@show size(x)\n",
    "@show length(x) # prod(size(x))\n",
    "@show axes(x) # OneTo(4) 等价于 1:4\n",
    "@show ndims(x)\n",
    "@show eltype(x)\n",
    "@show typeof(x);"
   ]
  },
  {
   "cell_type": "markdown",
   "id": "77e45496-39ae-4e63-84db-35b473fa8984",
   "metadata": {},
   "source": [
    "行向量"
   ]
  },
  {
   "cell_type": "code",
   "execution_count": 41,
   "id": "e2f7e91c-fbb6-478e-9aff-4f264d6b8405",
   "metadata": {},
   "outputs": [
    {
     "data": {
      "text/plain": [
       "3-element Vector{Int64}:\n",
       " 1\n",
       " 2\n",
       " 3"
      ]
     },
     "execution_count": 41,
     "metadata": {},
     "output_type": "execute_result"
    }
   ],
   "source": [
    "x = [1, 2, 3] # column vector"
   ]
  },
  {
   "cell_type": "code",
   "execution_count": 42,
   "id": "ff147b75-f04a-410d-80e9-7f583785fac0",
   "metadata": {},
   "outputs": [
    {
     "data": {
      "text/plain": [
       "1×3 Matrix{Int64}:\n",
       " 1  2  3"
      ]
     },
     "execution_count": 42,
     "metadata": {},
     "output_type": "execute_result"
    }
   ],
   "source": [
    "y = [1 2 3] # Matrix (row vector)"
   ]
  },
  {
   "cell_type": "markdown",
   "id": "8823b72c-b11c-4ad3-98c7-9e0bdb51d97e",
   "metadata": {},
   "source": [
    "矩阵的尺寸不相同时无法直接比较"
   ]
  },
  {
   "cell_type": "code",
   "execution_count": 43,
   "id": "a9f9b292-f0ee-4038-8c67-5d3323538df2",
   "metadata": {},
   "outputs": [
    {
     "data": {
      "text/plain": [
       "false"
      ]
     },
     "execution_count": 43,
     "metadata": {},
     "output_type": "execute_result"
    }
   ],
   "source": [
    "x == y # surprise!"
   ]
  },
  {
   "cell_type": "code",
   "execution_count": 44,
   "id": "c834f011-1151-4492-9c15-d6408a59d137",
   "metadata": {},
   "outputs": [
    {
     "data": {
      "text/plain": [
       "((3,), (1, 3))"
      ]
     },
     "execution_count": 44,
     "metadata": {},
     "output_type": "execute_result"
    }
   ],
   "source": [
    "size(x), size(y)"
   ]
  },
  {
   "cell_type": "markdown",
   "id": "9fbcc183-669d-463d-992c-cb73e25548f4",
   "metadata": {},
   "source": [
    "即使表面上看起来一样，他们也并不一样"
   ]
  },
  {
   "cell_type": "code",
   "execution_count": 45,
   "id": "07fd354f-2c9f-4cfe-868c-1ea9815949d0",
   "metadata": {},
   "outputs": [
    {
     "data": {
      "text/plain": [
       "3×1 adjoint(::Matrix{Int64}) with eltype Int64:\n",
       " 1\n",
       " 2\n",
       " 3"
      ]
     },
     "execution_count": 45,
     "metadata": {},
     "output_type": "execute_result"
    }
   ],
   "source": [
    "y'"
   ]
  },
  {
   "cell_type": "code",
   "execution_count": 46,
   "id": "d1e7cb74-c014-4818-9a15-8919d4ca66f4",
   "metadata": {},
   "outputs": [
    {
     "data": {
      "text/plain": [
       "3-element Vector{Int64}:\n",
       " 1\n",
       " 2\n",
       " 3"
      ]
     },
     "execution_count": 46,
     "metadata": {},
     "output_type": "execute_result"
    }
   ],
   "source": [
    "x"
   ]
  },
  {
   "cell_type": "code",
   "execution_count": 47,
   "id": "70318105-1a67-43e4-963f-28b3c80d4c45",
   "metadata": {},
   "outputs": [
    {
     "data": {
      "text/plain": [
       "false"
      ]
     },
     "execution_count": 47,
     "metadata": {},
     "output_type": "execute_result"
    }
   ],
   "source": [
    "x == y' # surprise"
   ]
  },
  {
   "cell_type": "markdown",
   "id": "86ed0a5e-32bb-44c3-a95b-1862da7043fb",
   "metadata": {},
   "source": [
    "因为他们的维度并不相同"
   ]
  },
  {
   "cell_type": "code",
   "execution_count": 48,
   "id": "72545fcb-6ebf-447f-b3f3-45fc4bd41f5a",
   "metadata": {},
   "outputs": [
    {
     "data": {
      "text/plain": [
       "(1, 2)"
      ]
     },
     "execution_count": 48,
     "metadata": {},
     "output_type": "execute_result"
    }
   ],
   "source": [
    "ndims(x), ndims(y')"
   ]
  },
  {
   "cell_type": "markdown",
   "id": "4f0ca5ec-96d8-48f7-a591-dacc0ba3719c",
   "metadata": {},
   "source": [
    "注解： 之所以这样做，是因为 Julia 希望能够根据数据类型上的不同 `Vector`, `Matrix` 来构造不同的实现从而得到最佳性能。对于 `Vector` 来说，遍历完整的数据的方式是唯一的，而 `Matrix` 则可能有多种可能方式（比如按行遍历，或者按列遍历）。"
   ]
  },
  {
   "cell_type": "markdown",
   "id": "585d7f2c-f4df-4cb1-92fa-55326c45a5f1",
   "metadata": {},
   "source": [
    "如果你坚持的话，那就手动转换成合适的尺寸"
   ]
  },
  {
   "cell_type": "code",
   "execution_count": 49,
   "id": "00347b9e-effe-4fd9-828c-32dfe64fc4c4",
   "metadata": {},
   "outputs": [
    {
     "data": {
      "text/plain": [
       "true"
      ]
     },
     "execution_count": 49,
     "metadata": {},
     "output_type": "execute_result"
    }
   ],
   "source": [
    "x' == y"
   ]
  },
  {
   "cell_type": "code",
   "execution_count": 50,
   "id": "a81e9636-be1c-4f20-9f7b-70d5855410e8",
   "metadata": {},
   "outputs": [
    {
     "data": {
      "text/plain": [
       "true"
      ]
     },
     "execution_count": 50,
     "metadata": {},
     "output_type": "execute_result"
    }
   ],
   "source": [
    "reshape(x, size(y')) == y'"
   ]
  },
  {
   "cell_type": "markdown",
   "id": "d1e3014a-ddd6-42cc-a4fa-1dbe07390997",
   "metadata": {},
   "source": [
    "### 多维矩阵的构造\n",
    "\n",
    "- 利用 `;` 进行分割\n",
    "- 利用换行进行分割"
   ]
  },
  {
   "cell_type": "code",
   "execution_count": 51,
   "id": "d78d3ad2-32d7-44c7-8e6d-1f7f5fd3c96a",
   "metadata": {},
   "outputs": [
    {
     "data": {
      "text/plain": [
       "2×4 Matrix{Int64}:\n",
       " 1  2  3  4\n",
       " 5  6  7  8"
      ]
     },
     "execution_count": 51,
     "metadata": {},
     "output_type": "execute_result"
    }
   ],
   "source": [
    "[1 2 3 4; 5 6 7 8]"
   ]
  },
  {
   "cell_type": "code",
   "execution_count": 52,
   "id": "fb6d8836-7730-4a92-8605-d88e4e8de961",
   "metadata": {},
   "outputs": [
    {
     "data": {
      "text/plain": [
       "2×4 Matrix{Int64}:\n",
       " 1  2  3  4\n",
       " 5  6  7  8"
      ]
     },
     "execution_count": 52,
     "metadata": {},
     "output_type": "execute_result"
    }
   ],
   "source": [
    "[1 2 3 4\n",
    " 5 6 7 8]"
   ]
  },
  {
   "cell_type": "markdown",
   "id": "5c07435f-e91d-4c7b-9c70-3ee4cd604842",
   "metadata": {},
   "source": [
    "当然，矩阵是可变的"
   ]
  },
  {
   "cell_type": "code",
   "execution_count": 53,
   "id": "36319720-ee4d-44a8-ba2f-2c715f421e89",
   "metadata": {},
   "outputs": [
    {
     "data": {
      "text/plain": [
       "0"
      ]
     },
     "execution_count": 53,
     "metadata": {},
     "output_type": "execute_result"
    }
   ],
   "source": [
    "x = [1, 2, 3]\n",
    "x[1] = 0"
   ]
  },
  {
   "cell_type": "markdown",
   "id": "a96ed2d8-a857-4f52-9a65-720beab12dbf",
   "metadata": {},
   "source": [
    "### 元组 `Tuple`"
   ]
  },
  {
   "cell_type": "markdown",
   "id": "01701ec2-13a6-4eff-a424-31fcb116f8a2",
   "metadata": {},
   "source": [
    "元组的构造使用小括号 `()`"
   ]
  },
  {
   "cell_type": "code",
   "execution_count": 54,
   "id": "1da2a7e4-61e2-4d79-847d-4d2cf2cc331a",
   "metadata": {},
   "outputs": [
    {
     "data": {
      "text/plain": [
       "(1, 2, 3)"
      ]
     },
     "execution_count": 54,
     "metadata": {},
     "output_type": "execute_result"
    }
   ],
   "source": [
    "x = (1, 2, 3)"
   ]
  },
  {
   "cell_type": "code",
   "execution_count": 55,
   "id": "bc9a2f50-2f04-4f79-bf23-34e9687eb73f",
   "metadata": {},
   "outputs": [
    {
     "data": {
      "text/plain": [
       "Tuple{Int64, Int64, Int64}"
      ]
     },
     "execution_count": 55,
     "metadata": {},
     "output_type": "execute_result"
    }
   ],
   "source": [
    "typeof(x)"
   ]
  },
  {
   "cell_type": "markdown",
   "id": "dd187189-8f14-4fe7-856f-e85ee7dbbb13",
   "metadata": {},
   "source": [
    "不同于矩阵中只定义元素类型，在元组中，每一项的类型都是单独确定的，因为元组常常用来将多个数据整合在一起，这样做可以传递足够的类型信息给编译器"
   ]
  },
  {
   "cell_type": "markdown",
   "id": "cbae49cc-79ad-49c3-93c8-637803e3cbe9",
   "metadata": {},
   "source": [
    "元组在构造时也经常省略括号"
   ]
  },
  {
   "cell_type": "code",
   "execution_count": 56,
   "id": "ba07bb5a-9140-4867-b224-61523bdf0d37",
   "metadata": {},
   "outputs": [
    {
     "data": {
      "text/plain": [
       "(1, 2, 3)"
      ]
     },
     "execution_count": 56,
     "metadata": {},
     "output_type": "execute_result"
    }
   ],
   "source": [
    "x = 1, 2, 3"
   ]
  },
  {
   "cell_type": "code",
   "execution_count": 57,
   "id": "f35e2d7f-34a4-4ecb-996b-9d786414e602",
   "metadata": {},
   "outputs": [
    {
     "data": {
      "text/plain": [
       "Tuple{Int64, Int64, Int64}"
      ]
     },
     "execution_count": 57,
     "metadata": {},
     "output_type": "execute_result"
    }
   ],
   "source": [
    "typeof(x)"
   ]
  },
  {
   "cell_type": "markdown",
   "id": "c232920b-254c-49f9-a40d-acde59519f90",
   "metadata": {},
   "source": [
    "元组的拆解"
   ]
  },
  {
   "cell_type": "code",
   "execution_count": 58,
   "id": "b76be153-a91e-4be0-b08f-b4ae76bb7e51",
   "metadata": {},
   "outputs": [
    {
     "name": "stdout",
     "output_type": "stream",
     "text": [
      "x = 1\n",
      "y = 2\n"
     ]
    },
    {
     "data": {
      "text/plain": [
       "2"
      ]
     },
     "execution_count": 58,
     "metadata": {},
     "output_type": "execute_result"
    }
   ],
   "source": [
    "t = (1, 2)\n",
    "x, y = t\n",
    "@show x y"
   ]
  },
  {
   "cell_type": "markdown",
   "id": "0d49d8a1-b037-4d78-a2c1-ab340a2081de",
   "metadata": {},
   "source": [
    "不同于 Python，Julia 下多余的值会直接丢弃"
   ]
  },
  {
   "cell_type": "code",
   "execution_count": 59,
   "id": "e63279e5-19d4-43ac-9dca-cf670ab0f67c",
   "metadata": {},
   "outputs": [
    {
     "name": "stdout",
     "output_type": "stream",
     "text": [
      "x = 1\n",
      "y = 2\n"
     ]
    },
    {
     "data": {
      "text/plain": [
       "2"
      ]
     },
     "execution_count": 59,
     "metadata": {},
     "output_type": "execute_result"
    }
   ],
   "source": [
    "x, y = 1, 2, 3, 4, 5\n",
    "@show x y"
   ]
  },
  {
   "cell_type": "markdown",
   "id": "a5857a0e-de04-4ab2-9a03-7f02d29e86c0",
   "metadata": {},
   "source": [
    "省略括号并且进行拆解的话，就经常出现下面这种写法"
   ]
  },
  {
   "cell_type": "code",
   "execution_count": 60,
   "id": "801ffb5b-00c5-43eb-baa9-2a7e60e8309a",
   "metadata": {},
   "outputs": [
    {
     "name": "stdout",
     "output_type": "stream",
     "text": [
      "x = 1\n",
      "y = 2\n"
     ]
    },
    {
     "data": {
      "text/plain": [
       "2"
      ]
     },
     "execution_count": 60,
     "metadata": {},
     "output_type": "execute_result"
    }
   ],
   "source": [
    "x, y = 1, 2\n",
    "@show x y"
   ]
  },
  {
   "cell_type": "markdown",
   "id": "58ca2569-cdaa-48cd-a585-4fe26d5a7e13",
   "metadata": {},
   "source": [
    "元组是不可修改的"
   ]
  },
  {
   "cell_type": "code",
   "execution_count": 61,
   "id": "287e29ec-5546-4a2c-ac3b-0128ff7a9f2a",
   "metadata": {},
   "outputs": [
    {
     "ename": "LoadError",
     "evalue": "MethodError: no method matching setindex!(::Tuple{Int64, Int64, Int64}, ::Int64, ::Int64)",
     "output_type": "error",
     "traceback": [
      "MethodError: no method matching setindex!(::Tuple{Int64, Int64, Int64}, ::Int64, ::Int64)",
      "",
      "Stacktrace:",
      " [1] top-level scope",
      "   @ In[61]:2",
      " [2] eval",
      "   @ ./boot.jl:360 [inlined]",
      " [3] include_string(mapexpr::typeof(REPL.softscope), mod::Module, code::String, filename::String)",
      "   @ Base ./loading.jl:1094"
     ]
    }
   ],
   "source": [
    "x = (1, 2, 3)\n",
    "x[1] = 0 # error!"
   ]
  },
  {
   "cell_type": "markdown",
   "id": "bd2b6886-4871-4beb-b7b4-69e89db24b97",
   "metadata": {},
   "source": [
    "一般来说，修改一个元组等于重新构造一个新的"
   ]
  },
  {
   "cell_type": "code",
   "execution_count": 62,
   "id": "f2e42428-6bf4-4bcb-a106-d98e58e4ee05",
   "metadata": {},
   "outputs": [
    {
     "data": {
      "text/plain": [
       "(0, 2, 3)"
      ]
     },
     "execution_count": 62,
     "metadata": {},
     "output_type": "execute_result"
    }
   ],
   "source": [
    "(0, x[2:end]...)"
   ]
  },
  {
   "cell_type": "markdown",
   "id": "f1317607-4ea0-4e91-83d3-d090c14b3209",
   "metadata": {},
   "source": [
    "编译器足够聪明，因此不需要担心对元组的拆分组合操作会导致性能降低"
   ]
  },
  {
   "cell_type": "code",
   "execution_count": 63,
   "id": "7bab643c-e11e-4da4-b946-ea14115c420e",
   "metadata": {},
   "outputs": [
    {
     "name": "stdout",
     "output_type": "stream",
     "text": [
      "  0.020 ns (0 allocations: 0 bytes)\n"
     ]
    },
    {
     "data": {
      "text/plain": [
       "(0, 2, 3)"
      ]
     },
     "execution_count": 63,
     "metadata": {},
     "output_type": "execute_result"
    }
   ],
   "source": [
    "modify_first!(t::Tuple, x) = (x, t[2:end]...)\n",
    "\n",
    "t = (1, 2, 3)\n",
    "@btime modify_first!($t, 0)"
   ]
  },
  {
   "cell_type": "markdown",
   "id": "36ab9396-a1a0-45c9-b3f5-f50648b087f7",
   "metadata": {},
   "source": [
    "字典 `Dict`\n",
    "\n",
    "字典是构造了一种映射结构\n",
    "\n",
    "Julia 不使用 `{}`+`:` 构造字典，而是使用 `Dict` + `=>`"
   ]
  },
  {
   "cell_type": "code",
   "execution_count": 64,
   "id": "6ea667ac-f81c-45bd-b646-303338571952",
   "metadata": {},
   "outputs": [
    {
     "data": {
      "text/plain": [
       "Dict{Any, String} with 3 entries:\n",
       "  \"2\"    => \"second item\"\n",
       "  (3, 4) => \"3rd, 4th items\"\n",
       "  1      => \"first item\""
      ]
     },
     "execution_count": 64,
     "metadata": {},
     "output_type": "execute_result"
    }
   ],
   "source": [
    "d = Dict(\n",
    "    1 => \"first item\",\n",
    "    \"2\" => \"second item\",\n",
    "    (3, 4) => \"3rd, 4th items\"\n",
    ")"
   ]
  },
  {
   "cell_type": "code",
   "execution_count": 65,
   "id": "291fb778-dfe2-47ac-ba13-2833dc9528ec",
   "metadata": {},
   "outputs": [
    {
     "data": {
      "text/plain": [
       "\"first item\""
      ]
     },
     "execution_count": 65,
     "metadata": {},
     "output_type": "execute_result"
    }
   ],
   "source": [
    "d[1]"
   ]
  },
  {
   "cell_type": "code",
   "execution_count": 66,
   "id": "7167556f-0c1d-4b9c-93e3-4c99de93c6c4",
   "metadata": {},
   "outputs": [
    {
     "data": {
      "text/plain": [
       "\"second item\""
      ]
     },
     "execution_count": 66,
     "metadata": {},
     "output_type": "execute_result"
    }
   ],
   "source": [
    "d[\"2\"]"
   ]
  },
  {
   "cell_type": "code",
   "execution_count": 67,
   "id": "5eec1b8a-3552-478f-82cb-65d4b857998c",
   "metadata": {},
   "outputs": [
    {
     "data": {
      "text/plain": [
       "\"3rd, 4th items\""
      ]
     },
     "execution_count": 67,
     "metadata": {},
     "output_type": "execute_result"
    }
   ],
   "source": [
    "d[(3, 4)]"
   ]
  },
  {
   "cell_type": "markdown",
   "id": "2ba81e71-0031-4fef-9652-5f6246f543c0",
   "metadata": {},
   "source": [
    "字典也是可以修改的"
   ]
  },
  {
   "cell_type": "code",
   "execution_count": 68,
   "id": "b7af6eb4-4927-478a-95a2-95c04c4bda91",
   "metadata": {},
   "outputs": [
    {
     "data": {
      "text/plain": [
       "\"something\""
      ]
     },
     "execution_count": 68,
     "metadata": {},
     "output_type": "execute_result"
    }
   ],
   "source": [
    "d[\"a new entry\"] = \"something\""
   ]
  },
  {
   "cell_type": "code",
   "execution_count": 69,
   "id": "d091d431-192e-48f7-8026-bde26515d14d",
   "metadata": {},
   "outputs": [
    {
     "data": {
      "text/plain": [
       "Dict{Any, String} with 4 entries:\n",
       "  \"a new entry\" => \"something\"\n",
       "  \"2\"           => \"second item\"\n",
       "  (3, 4)        => \"3rd, 4th items\"\n",
       "  1             => \"first item\""
      ]
     },
     "execution_count": 69,
     "metadata": {},
     "output_type": "execute_result"
    }
   ],
   "source": [
    "d"
   ]
  },
  {
   "cell_type": "markdown",
   "id": "b6820efb-58a6-4a8c-a058-3db6fc425cd5",
   "metadata": {},
   "source": [
    "实际上，`=>` 也构造了一个数据类型"
   ]
  },
  {
   "cell_type": "code",
   "execution_count": 70,
   "id": "df64ee3b-8b6e-4257-8966-59587d5d801c",
   "metadata": {},
   "outputs": [
    {
     "data": {
      "text/plain": [
       "1 => 2"
      ]
     },
     "execution_count": 70,
     "metadata": {},
     "output_type": "execute_result"
    }
   ],
   "source": [
    "x = 1=>2"
   ]
  },
  {
   "cell_type": "code",
   "execution_count": 71,
   "id": "7ff2bc74-4d4f-4101-b832-f73ffe5a69e8",
   "metadata": {},
   "outputs": [
    {
     "data": {
      "text/plain": [
       "Pair{Int64, Int64}"
      ]
     },
     "execution_count": 71,
     "metadata": {},
     "output_type": "execute_result"
    }
   ],
   "source": [
    "typeof(x)"
   ]
  },
  {
   "cell_type": "markdown",
   "id": "c883dfd1-f390-4f91-a38b-8080ffd8acec",
   "metadata": {},
   "source": [
    "因此可以将字典的构造拆分成两个阶段：1) 数据的构造和 2) 转换成字典"
   ]
  },
  {
   "cell_type": "code",
   "execution_count": 72,
   "id": "40a36a29-d96a-4a79-ad54-7bc9c4a3dc72",
   "metadata": {},
   "outputs": [
    {
     "data": {
      "text/plain": [
       "Dict{Int64, Int64} with 10 entries:\n",
       "  5  => 25\n",
       "  4  => 16\n",
       "  6  => 36\n",
       "  7  => 49\n",
       "  2  => 4\n",
       "  10 => 100\n",
       "  9  => 81\n",
       "  8  => 64\n",
       "  3  => 9\n",
       "  1  => 1"
      ]
     },
     "execution_count": 72,
     "metadata": {},
     "output_type": "execute_result"
    }
   ],
   "source": [
    "items = (x=>x^2 for x in 1:10)\n",
    "d = Dict(items)"
   ]
  },
  {
   "cell_type": "markdown",
   "id": "58873fa1-f78d-46d7-b7ac-0c303a1d3067",
   "metadata": {},
   "source": [
    "### 命名元组 `NamedTuple`\n",
    "\n",
    "可以简单理解成不可变的字典类型"
   ]
  },
  {
   "cell_type": "code",
   "execution_count": 73,
   "id": "3e95b9a0-2dc1-4e20-ac1f-9cc6eb16359b",
   "metadata": {},
   "outputs": [
    {
     "data": {
      "text/plain": [
       "(x = \"first item\", y = \"second item\")"
      ]
     },
     "execution_count": 73,
     "metadata": {},
     "output_type": "execute_result"
    }
   ],
   "source": [
    "d = (\n",
    "    x = \"first item\",\n",
    "    y = \"second item\"\n",
    ")"
   ]
  },
  {
   "cell_type": "code",
   "execution_count": 74,
   "id": "8d2ea932-989e-4596-9e59-563e30a60a75",
   "metadata": {},
   "outputs": [
    {
     "data": {
      "text/plain": [
       "\"first item\""
      ]
     },
     "execution_count": 74,
     "metadata": {},
     "output_type": "execute_result"
    }
   ],
   "source": [
    "d[:x]"
   ]
  },
  {
   "cell_type": "markdown",
   "id": "b133d1cd-2d58-47f7-93db-62eaca154cbd",
   "metadata": {},
   "source": [
    "或者更常用的方式是"
   ]
  },
  {
   "cell_type": "code",
   "execution_count": 75,
   "id": "2252e24f-8b3f-4918-8d0b-a2bd721242e4",
   "metadata": {},
   "outputs": [
    {
     "data": {
      "text/plain": [
       "\"first item\""
      ]
     },
     "execution_count": 75,
     "metadata": {},
     "output_type": "execute_result"
    }
   ],
   "source": [
    "d.x"
   ]
  },
  {
   "cell_type": "markdown",
   "id": "1fcbc985-fa8c-47a5-bc5f-fa16aa132452",
   "metadata": {},
   "source": [
    "同样的，`NamedTuple` 中每一项的类型是单独确定的"
   ]
  },
  {
   "cell_type": "code",
   "execution_count": 76,
   "id": "7a460dcd-9e59-4bce-b716-ccde548d0701",
   "metadata": {},
   "outputs": [
    {
     "data": {
      "text/plain": [
       "NamedTuple{(:x, :y), Tuple{String, String}}"
      ]
     },
     "execution_count": 76,
     "metadata": {},
     "output_type": "execute_result"
    }
   ],
   "source": [
    "typeof(d)"
   ]
  },
  {
   "cell_type": "markdown",
   "id": "17979561-9a2d-4425-9d73-b051ccfeebcb",
   "metadata": {},
   "source": [
    "## 集合 `Set` 与集合操作\n",
    "\n",
    "集合不包含重复元素"
   ]
  },
  {
   "cell_type": "code",
   "execution_count": 77,
   "id": "4119afd0-9b75-4862-b6fc-e518b2c67f1a",
   "metadata": {},
   "outputs": [
    {
     "data": {
      "text/plain": [
       "6-element Vector{Int64}:\n",
       " 1\n",
       " 2\n",
       " 3\n",
       " 1\n",
       " 2\n",
       " 3"
      ]
     },
     "execution_count": 77,
     "metadata": {},
     "output_type": "execute_result"
    }
   ],
   "source": [
    "x = [1, 2, 3, 1, 2, 3]"
   ]
  },
  {
   "cell_type": "code",
   "execution_count": 78,
   "id": "573627d1-d825-4fa1-9834-4f869915f8f7",
   "metadata": {},
   "outputs": [
    {
     "data": {
      "text/plain": [
       "Set{Int64} with 3 elements:\n",
       "  2\n",
       "  3\n",
       "  1"
      ]
     },
     "execution_count": 78,
     "metadata": {},
     "output_type": "execute_result"
    }
   ],
   "source": [
    "Set(x)"
   ]
  },
  {
   "cell_type": "code",
   "execution_count": 79,
   "id": "3ff55c1a-68b0-4c7e-9bb8-bda554f79520",
   "metadata": {},
   "outputs": [
    {
     "name": "stdout",
     "output_type": "stream",
     "text": [
      "setdiff(x, y) = [1]\n",
      "union(x, y) = [1, 2, 3, 4]\n",
      "intersect(x, y) = [2, 3]\n"
     ]
    },
    {
     "data": {
      "text/plain": [
       "2-element Vector{Int64}:\n",
       " 2\n",
       " 3"
      ]
     },
     "execution_count": 79,
     "metadata": {},
     "output_type": "execute_result"
    }
   ],
   "source": [
    "x = [1, 2, 3]\n",
    "y = [2, 3, 4]\n",
    "@show setdiff(x, y)\n",
    "@show union(x, y)\n",
    "@show intersect(x, y)"
   ]
  },
  {
   "cell_type": "code",
   "execution_count": null,
   "id": "51f33295-008f-491c-a9fc-54ac565d4930",
   "metadata": {},
   "outputs": [],
   "source": []
  }
 ],
 "metadata": {
  "kernelspec": {
   "display_name": "Julia 1.6.3",
   "language": "julia",
   "name": "julia-1.6"
  },
  "language_info": {
   "file_extension": ".jl",
   "mimetype": "application/julia",
   "name": "julia",
   "version": "1.6.3"
  }
 },
 "nbformat": 4,
 "nbformat_minor": 5
}
