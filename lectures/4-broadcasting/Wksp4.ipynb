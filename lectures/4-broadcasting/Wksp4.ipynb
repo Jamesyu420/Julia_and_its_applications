{
 "cells": [
  {
   "cell_type": "markdown",
   "metadata": {},
   "source": [
    "# 广播和向量化"
   ]
  },
  {
   "cell_type": "code",
   "execution_count": 12,
   "metadata": {},
   "outputs": [],
   "source": [
    "using BenchmarkTools\n",
    "using Plots"
   ]
  },
  {
   "cell_type": "markdown",
   "metadata": {},
   "source": [
    "## 绘制二维曲面"
   ]
  },
  {
   "cell_type": "code",
   "execution_count": 1,
   "metadata": {},
   "outputs": [
    {
     "data": {
      "text/plain": [
       "f (generic function with 1 method)"
      ]
     },
     "execution_count": 1,
     "metadata": {},
     "output_type": "execute_result"
    }
   ],
   "source": [
    "f(x, y) = x * exp(-x^2-y^2)"
   ]
  },
  {
   "cell_type": "markdown",
   "metadata": {},
   "source": [
    "## Julia里的广播\n",
    "广播不会让Julia变得更快，它只是把for循环藏起来了。"
   ]
  },
  {
   "cell_type": "code",
   "execution_count": 4,
   "metadata": {},
   "outputs": [
    {
     "data": {
      "text/plain": [
       "g (generic function with 1 method)"
      ]
     },
     "execution_count": 4,
     "metadata": {},
     "output_type": "execute_result"
    }
   ],
   "source": [
    "g(x, y) = x + y"
   ]
  },
  {
   "cell_type": "code",
   "execution_count": 5,
   "metadata": {},
   "outputs": [
    {
     "data": {
      "text/plain": [
       "2-element Vector{Int64}:\n",
       " 4\n",
       " 6"
      ]
     },
     "execution_count": 5,
     "metadata": {},
     "output_type": "execute_result"
    }
   ],
   "source": [
    "g.([1,2], [3,4])"
   ]
  },
  {
   "cell_type": "code",
   "execution_count": 6,
   "metadata": {},
   "outputs": [
    {
     "data": {
      "text/plain": [
       "2-element Vector{Int64}:\n",
       " 4\n",
       " 5"
      ]
     },
     "execution_count": 6,
     "metadata": {},
     "output_type": "execute_result"
    }
   ],
   "source": [
    "g.([1,2],3)"
   ]
  },
  {
   "cell_type": "code",
   "execution_count": 17,
   "metadata": {},
   "outputs": [
    {
     "data": {
      "text/plain": [
       "4×2 Matrix{Int64}:\n",
       "  3   5\n",
       "  5   7\n",
       "  8  10\n",
       " 11  13"
      ]
     },
     "execution_count": 17,
     "metadata": {},
     "output_type": "execute_result"
    }
   ],
   "source": [
    "X1 = reshape([1,2,3,4,3,4,5,6], (4, 2))\n",
    "Y1 = [2,3,5,7]\n",
    "g.(X1,Y1)"
   ]
  },
  {
   "cell_type": "markdown",
   "metadata": {},
   "source": [
    "在内存中的不同排列方式会影响代码的写法，进而影响计算效率。"
   ]
  },
  {
   "cell_type": "code",
   "execution_count": 19,
   "metadata": {},
   "outputs": [
    {
     "data": {
      "text/plain": [
       "2×3×2 reshape(::UnitRange{Int64}, 2, 3, 2) with eltype Int64:\n",
       "[:, :, 1] =\n",
       " 1  3  5\n",
       " 2  4  6\n",
       "\n",
       "[:, :, 2] =\n",
       " 7   9  11\n",
       " 8  10  12"
      ]
     },
     "execution_count": 19,
     "metadata": {},
     "output_type": "execute_result"
    }
   ],
   "source": [
    "x6 = reshape(1:12,2,3,2)"
   ]
  },
  {
   "cell_type": "code",
   "execution_count": 20,
   "metadata": {},
   "outputs": [
    {
     "data": {
      "text/plain": [
       "2×2×3 Array{Int64, 3}:\n",
       "[:, :, 1] =\n",
       " 1  2\n",
       " 7  8\n",
       "\n",
       "[:, :, 2] =\n",
       " 3   4\n",
       " 9  10\n",
       "\n",
       "[:, :, 3] =\n",
       "  5   6\n",
       " 11  12"
      ]
     },
     "execution_count": 20,
     "metadata": {},
     "output_type": "execute_result"
    }
   ],
   "source": [
    "y6 = permutedims(x6, (3,1,2))"
   ]
  },
  {
   "cell_type": "markdown",
   "metadata": {},
   "source": [
    "## 向量化"
   ]
  },
  {
   "cell_type": "markdown",
   "metadata": {},
   "source": [
    "- f(x::Real, y::Real) = x * y\n",
    "- f(X::AbstractArray, y::AbstractArray) = X .* Y"
   ]
  },
  {
   "cell_type": "markdown",
   "metadata": {},
   "source": [
    "Julia不推荐向量化编程，这是因为：~~~"
   ]
  },
  {
   "cell_type": "code",
   "execution_count": 21,
   "metadata": {},
   "outputs": [
    {
     "data": {
      "text/plain": [
       "muladd (generic function with 21 methods)"
      ]
     },
     "execution_count": 21,
     "metadata": {},
     "output_type": "execute_result"
    }
   ],
   "source": [
    "muladd"
   ]
  },
  {
   "cell_type": "code",
   "execution_count": 22,
   "metadata": {},
   "outputs": [
    {
     "data": {
      "text/plain": [
       "3-element Vector{Int64}:\n",
       "  3\n",
       "  8\n",
       " 15"
      ]
     },
     "execution_count": 22,
     "metadata": {},
     "output_type": "execute_result"
    }
   ],
   "source": [
    "muladd.([1,2,3],[2,3,4],[1,2,3])"
   ]
  },
  {
   "cell_type": "code",
   "execution_count": 23,
   "metadata": {},
   "outputs": [
    {
     "data": {
      "text/plain": [
       "muladd_broadcast (generic function with 1 method)"
      ]
     },
     "execution_count": 23,
     "metadata": {},
     "output_type": "execute_result"
    }
   ],
   "source": [
    "muladd_vec(A::AbstractArray, B, C) = A .* B + C\n",
    "muladd_temp(a::Number, b, c) = a * b + c\n",
    "muladd_broadcast(A::AbstractArray, B, C) = muladd_temp.(A, B, C)"
   ]
  },
  {
   "cell_type": "code",
   "execution_count": 26,
   "metadata": {},
   "outputs": [
    {
     "name": "stdout",
     "output_type": "stream",
     "text": [
      "  61.633 ns (1 allocation: 144 bytes)\n",
      "  122.591 ns (2 allocations: 288 bytes)\n",
      "  66.904 ns (1 allocation: 144 bytes)\n"
     ]
    },
    {
     "data": {
      "text/plain": [
       "4×2 Matrix{Float64}:\n",
       " 0.246729  0.847313\n",
       " 0.261622  1.03784\n",
       " 1.25908   0.225348\n",
       " 0.373756  0.692663"
      ]
     },
     "execution_count": 26,
     "metadata": {},
     "output_type": "execute_result"
    }
   ],
   "source": [
    "A = rand(4,2)\n",
    "B = rand(4,2)\n",
    "C = rand(4,2)\n",
    "\n",
    "@btime muladd.($A,$B,$C)\n",
    "@btime muladd_vec($A,$B,$C)\n",
    "@btime muladd_broadcast($A,$B,$C)"
   ]
  },
  {
   "cell_type": "markdown",
   "metadata": {},
   "source": [
    "上面的例子表明向量化不仅占用了更多内存，而且还慢了很多。"
   ]
  },
  {
   "cell_type": "markdown",
   "metadata": {},
   "source": [
    "## View 和 Copy"
   ]
  },
  {
   "cell_type": "code",
   "execution_count": 28,
   "metadata": {},
   "outputs": [
    {
     "name": "stdout",
     "output_type": "stream",
     "text": [
      "(X, Y) = ([1, 2, 3, 4], [0, 2, 3, 4])\n"
     ]
    }
   ],
   "source": [
    "X = [1,2,3,4]\n",
    "Y = X[1:4]\n",
    "Y[1] = 0\n",
    "@show X,Y;"
   ]
  },
  {
   "cell_type": "code",
   "execution_count": 29,
   "metadata": {},
   "outputs": [
    {
     "name": "stdout",
     "output_type": "stream",
     "text": [
      "(X, Y) = ([0, 2, 3, 4], [0, 2, 3, 4])\n"
     ]
    }
   ],
   "source": [
    "X = [1,2,3,4]\n",
    "Y = @view X[1:4]\n",
    "Y[1] = 0\n",
    "@show X,Y;"
   ]
  },
  {
   "cell_type": "markdown",
   "metadata": {},
   "source": [
    "## Ex. MNIST数据集"
   ]
  },
  {
   "cell_type": "markdown",
   "metadata": {},
   "source": [
    "## 向量化对并行计算是很有用的"
   ]
  },
  {
   "cell_type": "code",
   "execution_count": 8,
   "metadata": {},
   "outputs": [
    {
     "data": {
      "text/plain": [
       "g_kernel (generic function with 1 method)"
      ]
     },
     "execution_count": 8,
     "metadata": {},
     "output_type": "execute_result"
    }
   ],
   "source": [
    "function g_kernel(x)\n",
    "    sleep(0.01)\n",
    "    return x\n",
    "end"
   ]
  },
  {
   "cell_type": "code",
   "execution_count": 9,
   "metadata": {},
   "outputs": [
    {
     "data": {
      "text/plain": [
       "g_seq (generic function with 1 method)"
      ]
     },
     "execution_count": 9,
     "metadata": {},
     "output_type": "execute_result"
    }
   ],
   "source": [
    "function g_seq(X)\n",
    "    out = similar(X)\n",
    "    for i in eachindex(X)\n",
    "        out[i] = g_kernel(X[i])\n",
    "    end\n",
    "    return out\n",
    "end"
   ]
  },
  {
   "cell_type": "code",
   "execution_count": 10,
   "metadata": {},
   "outputs": [
    {
     "data": {
      "text/plain": [
       "g_threads (generic function with 1 method)"
      ]
     },
     "execution_count": 10,
     "metadata": {},
     "output_type": "execute_result"
    }
   ],
   "source": [
    "function g_threads(X)\n",
    "    out = similar(X)\n",
    "    Threads.@threads for i in eachindex(X)\n",
    "        out[i] = g_kernel(X[i])\n",
    "    end\n",
    "    return out\n",
    "end"
   ]
  },
  {
   "cell_type": "code",
   "execution_count": 13,
   "metadata": {},
   "outputs": [
    {
     "name": "stdout",
     "output_type": "stream",
     "text": [
      "  243.121 ms (85 allocations: 2.52 KiB)\n",
      "  241.295 ms (91 allocations: 3.11 KiB)\n"
     ]
    },
    {
     "data": {
      "text/plain": [
       "4×4 Matrix{Float64}:\n",
       " 0.406844  0.184595  0.448362   0.101233\n",
       " 0.411754  0.895952  0.93337    0.0554428\n",
       " 0.864226  0.717108  0.0495627  0.98938\n",
       " 0.240794  0.482872  0.504993   0.908991"
      ]
     },
     "execution_count": 13,
     "metadata": {},
     "output_type": "execute_result"
    }
   ],
   "source": [
    "X = rand(4,4)\n",
    "@btime g_seq($X)\n",
    "@btime g_threads($X)"
   ]
  }
 ],
 "metadata": {
  "kernelspec": {
   "display_name": "Julia 1.6.2",
   "language": "julia",
   "name": "julia-1.6"
  },
  "language_info": {
   "file_extension": ".jl",
   "mimetype": "application/julia",
   "name": "julia",
   "version": "1.6.2"
  },
  "orig_nbformat": 4
 },
 "nbformat": 4,
 "nbformat_minor": 2
}
