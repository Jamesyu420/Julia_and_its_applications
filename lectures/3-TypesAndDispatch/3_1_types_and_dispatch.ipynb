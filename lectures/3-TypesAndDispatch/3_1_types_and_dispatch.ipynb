{
 "cells": [
  {
   "cell_type": "markdown",
   "id": "e508142f",
   "metadata": {},
   "source": [
    "# 类型与方法\n",
    "日期：2021.10.24\n",
    "\n",
    "作者：陈久宁\n",
    "\n",
    "大纲：\n",
    "\n",
    "- 基本概念：覆盖一些关于类型和方法常用的基本语法\n",
    "- 设计思路：在具体实践中的一些典型设计模式\n",
    "\n",
    "更多的内容可以参考文档的以下几节内容：\n",
    "\n",
    "- [类型](https://docs.julialang.org/en/v1/manual/types/)\n",
    "- [方法](https://docs.julialang.org/en/v1/manual/methods/)\n",
    "- [性能建议](https://docs.julialang.org/en/v1/manual/performance-tips/)\n",
    "- [风格建议](https://docs.julialang.org/en/v1/manual/style-guide/)"
   ]
  },
  {
   "cell_type": "code",
   "execution_count": 1,
   "id": "4155fd69",
   "metadata": {},
   "outputs": [],
   "source": [
    "using BenchmarkTools\n",
    "using LinearAlgebra"
   ]
  },
  {
   "cell_type": "code",
   "execution_count": 2,
   "id": "a831fdd8-7959-44b3-a64e-cfeaf09d5728",
   "metadata": {},
   "outputs": [
    {
     "data": {
      "text/plain": [
       "my_add (generic function with 2 methods)"
      ]
     },
     "execution_count": 2,
     "metadata": {},
     "output_type": "execute_result"
    }
   ],
   "source": [
    "my_add(x, y) = x * y\n",
    "my_add(x::Number, y::Number) = x + y"
   ]
  },
  {
   "cell_type": "markdown",
   "id": "ba92a2c4",
   "metadata": {},
   "source": [
    "## 1. 基本概念"
   ]
  },
  {
   "cell_type": "markdown",
   "id": "d9f8b271",
   "metadata": {},
   "source": [
    "## 1.1. 类型的声明和实例化"
   ]
  },
  {
   "cell_type": "markdown",
   "id": "0aa374ce",
   "metadata": {},
   "source": [
    "Julia 下类型是一个简单的结构体，通过 `struct` 进行声明"
   ]
  },
  {
   "cell_type": "code",
   "execution_count": 3,
   "id": "8342b3c6",
   "metadata": {},
   "outputs": [],
   "source": [
    "# 定义了一个 Point2D 类型，其中有两个元素 `x`, `y` 均为 `Float64` (64位浮点数) 类型\n",
    "struct Point2D <: Any\n",
    "    x::Float64\n",
    "    y::Float64\n",
    "end"
   ]
  },
  {
   "cell_type": "markdown",
   "id": "90d51823",
   "metadata": {},
   "source": [
    "Julia 使用 `<:` 来表示一个类型是另一个类型的子集，例如在 Julia 下，所有类型都是 `Any` 的子集。"
   ]
  },
  {
   "cell_type": "code",
   "execution_count": 4,
   "id": "f4a76823",
   "metadata": {
    "scrolled": true
   },
   "outputs": [
    {
     "data": {
      "text/plain": [
       "true"
      ]
     },
     "execution_count": 4,
     "metadata": {},
     "output_type": "execute_result"
    }
   ],
   "source": [
    "Point2D <: Any"
   ]
  },
  {
   "cell_type": "markdown",
   "id": "85572f6b",
   "metadata": {},
   "source": [
    "创建一个对象所调用的函数被称为__构造函数__.\n",
    "Julia 会提供一个默认的构造函数，从而允许我们通过指定全部数据的形式来构造实例："
   ]
  },
  {
   "cell_type": "code",
   "execution_count": 5,
   "id": "88aac049",
   "metadata": {},
   "outputs": [
    {
     "data": {
      "text/plain": [
       "Point2D(3.0, 4.0)"
      ]
     },
     "execution_count": 5,
     "metadata": {},
     "output_type": "execute_result"
    }
   ],
   "source": [
    "p = Point2D(3.0, 4.0)"
   ]
  },
  {
   "cell_type": "markdown",
   "id": "f5a3c988",
   "metadata": {},
   "source": [
    "实际上也允许隐式的类型转换"
   ]
  },
  {
   "cell_type": "code",
   "execution_count": 6,
   "id": "e09b10d0",
   "metadata": {
    "scrolled": true
   },
   "outputs": [
    {
     "data": {
      "text/plain": [
       "Point2D(3.0, 4.0)"
      ]
     },
     "execution_count": 6,
     "metadata": {},
     "output_type": "execute_result"
    }
   ],
   "source": [
    "p = Point2D(3, 4) # Int -> Float64"
   ]
  },
  {
   "cell_type": "markdown",
   "id": "00b05731",
   "metadata": {},
   "source": [
    "这是因为 Julia 默认情况下提供了两个构造函数"
   ]
  },
  {
   "cell_type": "code",
   "execution_count": 7,
   "id": "aa321740",
   "metadata": {},
   "outputs": [
    {
     "data": {
      "text/html": [
       "# 2 methods for type constructor:<ul><li> Point2D(x::<b>Float64</b>, y::<b>Float64</b>) in Main at In[3]:3</li> <li> Point2D(x, y) in Main at In[3]:3</li> </ul>"
      ],
      "text/plain": [
       "# 2 methods for type constructor:\n",
       "[1] Point2D(x::Float64, y::Float64) in Main at In[3]:3\n",
       "[2] Point2D(x, y) in Main at In[3]:3"
      ]
     },
     "execution_count": 7,
     "metadata": {},
     "output_type": "execute_result"
    }
   ],
   "source": [
    "methods(Point2D) # methods 用来查询一个函数的不同的方法"
   ]
  },
  {
   "cell_type": "markdown",
   "id": "7a7694f8",
   "metadata": {},
   "source": [
    "这背后完整的写法实际是\n",
    "\n",
    "```julia\n",
    "struct Point2D\n",
    "    x::Float64\n",
    "    y::Float64\n",
    "    #内置构造函数：即放在结构体的定义内部实现的构造函数\n",
    "    # 下面是 Julia 提供的默认构造函数，大多数时候使用这个默认的方法就可以了\n",
    "    function Point2D(x::Float64, y::Float64)\n",
    "        # new 是一个只在内置构造函数里可以使用的函数，大概意思是这个类型实例的构造到此为止完成了\n",
    "        new(x, y)\n",
    "    end\n",
    "    # 构造函数也是函数，所以也可以使用单行定义的形式\n",
    "    Point2D(x, y) = Point2D(Float64(x), Float64(y))\n",
    "end\n",
    "```"
   ]
  },
  {
   "cell_type": "markdown",
   "id": "3afa338b",
   "metadata": {},
   "source": [
    "更多的时候，如果需要更多的构造方式的话，是直接提供外置构造函数"
   ]
  },
  {
   "cell_type": "code",
   "execution_count": 8,
   "id": "87c06d7f",
   "metadata": {
    "scrolled": true
   },
   "outputs": [
    {
     "data": {
      "text/plain": [
       "Point2D"
      ]
     },
     "execution_count": 8,
     "metadata": {},
     "output_type": "execute_result"
    }
   ],
   "source": [
    "Point2D(x) = Point2D(x, zero(x)) # zero(x) 返回与 x 类型相同的“零”"
   ]
  },
  {
   "cell_type": "code",
   "execution_count": 9,
   "id": "cc2f21cc",
   "metadata": {
    "scrolled": false
   },
   "outputs": [
    {
     "data": {
      "text/html": [
       "# 3 methods for type constructor:<ul><li> Point2D(x::<b>Float64</b>, y::<b>Float64</b>) in Main at In[3]:3</li> <li> Point2D(x) in Main at In[8]:1</li> <li> Point2D(x, y) in Main at In[3]:3</li> </ul>"
      ],
      "text/plain": [
       "# 3 methods for type constructor:\n",
       "[1] Point2D(x::Float64, y::Float64) in Main at In[3]:3\n",
       "[2] Point2D(x) in Main at In[8]:1\n",
       "[3] Point2D(x, y) in Main at In[3]:3"
      ]
     },
     "execution_count": 9,
     "metadata": {},
     "output_type": "execute_result"
    }
   ],
   "source": [
    "methods(Point2D) # 构造函数现在多了一个方法!"
   ]
  },
  {
   "cell_type": "code",
   "execution_count": 10,
   "id": "6f8526a9",
   "metadata": {
    "scrolled": true
   },
   "outputs": [
    {
     "data": {
      "text/plain": [
       "Point2D(3.0, 0.0)"
      ]
     },
     "execution_count": 10,
     "metadata": {},
     "output_type": "execute_result"
    }
   ],
   "source": [
    "p = Point2D(3)"
   ]
  },
  {
   "cell_type": "markdown",
   "id": "065ee4e6",
   "metadata": {},
   "source": [
    "获取结构体的内部的数据使用点号 (e.g., `p.x`) 来得到"
   ]
  },
  {
   "cell_type": "code",
   "execution_count": 11,
   "id": "9e9bfc72",
   "metadata": {},
   "outputs": [
    {
     "data": {
      "text/plain": [
       "3.0"
      ]
     },
     "execution_count": 11,
     "metadata": {},
     "output_type": "execute_result"
    }
   ],
   "source": [
    "p.x # 背后调用的是 `getfield(p, :x)`"
   ]
  },
  {
   "cell_type": "code",
   "execution_count": 12,
   "id": "023be25b",
   "metadata": {},
   "outputs": [
    {
     "data": {
      "text/plain": [
       "(3.0, 0.0)"
      ]
     },
     "execution_count": 12,
     "metadata": {},
     "output_type": "execute_result"
    }
   ],
   "source": [
    "# （这一条并不重要）\n",
    "# 有时候会在其他的代码里看到类似于这样的小技巧：\n",
    "# 在不知道具体的元素名称的时候，通过 `fieldnames` 来得到，然后再以 `getfield` 来调用\n",
    "map(x->getfield(p, x), fieldnames(typeof(p)))"
   ]
  },
  {
   "cell_type": "markdown",
   "id": "d2d0e51b",
   "metadata": {},
   "source": [
    "## 1.2. 抽象类型、继承与类型树"
   ]
  },
  {
   "cell_type": "markdown",
   "id": "c036572c",
   "metadata": {},
   "source": [
    "Julia 下有两种类型：\n",
    "- 具体类型\n",
    "- 抽象类型\n",
    "\n",
    "Julia 采用以下语法定义类和类的继承"
   ]
  },
  {
   "cell_type": "code",
   "execution_count": 13,
   "id": "4a035920",
   "metadata": {},
   "outputs": [],
   "source": [
    "# 定义一个抽象类型 `AbstractPoint`，为 `Any` 类型的子类\n",
    "abstract type AbstractPoint <: Any end\n",
    "# 当继承于 Any 的时候，也可以省略\n",
    "abstract type AbstractPoint end\n",
    "\n",
    "struct NewPoint2D <: AbstractPoint\n",
    "    x::Float64\n",
    "    y::Float64\n",
    "end"
   ]
  },
  {
   "cell_type": "code",
   "execution_count": 14,
   "id": "da6c599c",
   "metadata": {
    "scrolled": true
   },
   "outputs": [
    {
     "name": "stdout",
     "output_type": "stream",
     "text": [
      "isabstracttype(AbstractPoint) = true\n",
      "isconcretetype(AbstractPoint) = false\n",
      "isabstracttype(NewPoint2D) = false\n",
      "isconcretetype(NewPoint2D) = true\n"
     ]
    },
    {
     "data": {
      "text/plain": [
       "true"
      ]
     },
     "execution_count": 14,
     "metadata": {},
     "output_type": "execute_result"
    }
   ],
   "source": [
    "# 可以用 `isabstracttype` 和 `isconcretetype` 来验证\n",
    "# 除此之外还有 `supertypes`, `supertype`, `subtypes` 等方法\n",
    "@show isabstracttype(AbstractPoint)\n",
    "@show isconcretetype(AbstractPoint)\n",
    "@show isabstracttype(NewPoint2D)\n",
    "@show isconcretetype(NewPoint2D)"
   ]
  },
  {
   "cell_type": "code",
   "execution_count": 15,
   "id": "7b32473f-9b75-4bdf-9bb8-c2a605f2d37f",
   "metadata": {},
   "outputs": [
    {
     "ename": "LoadError",
     "evalue": "MethodError: no constructors have been defined for AbstractPoint",
     "output_type": "error",
     "traceback": [
      "MethodError: no constructors have been defined for AbstractPoint",
      "",
      "Stacktrace:",
      " [1] top-level scope",
      "   @ In[15]:1",
      " [2] eval",
      "   @ ./boot.jl:360 [inlined]",
      " [3] include_string(mapexpr::typeof(REPL.softscope), mod::Module, code::String, filename::String)",
      "   @ Base ./loading.jl:1116"
     ]
    }
   ],
   "source": [
    "AbstractPoint(3, 4)"
   ]
  },
  {
   "cell_type": "code",
   "execution_count": 16,
   "id": "090fb9aa-2f6d-4e59-a8bd-71155b2c0245",
   "metadata": {},
   "outputs": [
    {
     "data": {
      "text/plain": [
       "AbstractPoint"
      ]
     },
     "execution_count": 16,
     "metadata": {},
     "output_type": "execute_result"
    }
   ],
   "source": [
    "AbstractPoint(x, y) = NewPoint2D(x, y)"
   ]
  },
  {
   "cell_type": "code",
   "execution_count": 17,
   "id": "04b2cdab-9f82-4abc-8447-177a1d1c0d32",
   "metadata": {},
   "outputs": [
    {
     "data": {
      "text/plain": [
       "NewPoint2D(3.0, 4.0)"
      ]
     },
     "execution_count": 17,
     "metadata": {},
     "output_type": "execute_result"
    }
   ],
   "source": [
    "AbstractPoint(3, 4)"
   ]
  },
  {
   "cell_type": "markdown",
   "id": "94b19c49",
   "metadata": {},
   "source": [
    "关于类型存在以下一些规则：\n",
    "\n",
    "- 抽象类型不能被实例化: ❌ `AbstractPoint(3, 4)`\n",
    "- 具体类型一定是某个抽象类型的子集: Point <: Any\n",
    "- 具体类型不能是其他类型的超集: ❌ `struct NewNewPoint <: NewPoint end`\n",
    "- 抽象类型不存在元素:\n",
    "\n",
    "```julia\n",
    "# 抽象类型不能定义具体的元素\n",
    "abstract type AbstractPoint # ❌\n",
    "    x\n",
    "    y\n",
    "end\n",
    "\n",
    "# 抽象类型也不能被实例化\n",
    "AbstractPoint(3, 4) # ❌ \n",
    "\n",
    "# 具体类型不能继承于另一个类型\n",
    "struct NewNewPoint <: NewPoint # ❌ \n",
    "    z::Float64\n",
    "end\n",
    "\n",
    "# 所有的具体类型一定继承于某个抽象类型 (Any)\n",
    "Point <: Any # true\n",
    "```"
   ]
  },
  {
   "attachments": {
    "image.png": {
     "image/png": "[encoded data removed]"
    }
   },
   "cell_type": "markdown",
   "id": "3e1da7b9",
   "metadata": {},
   "source": [
    "这背后实际上构造了一个树状结构：其中具体类型只存在叶子结点（橙色）上\n",
    "\n",
    "![image.png](attachment:image.png)"
   ]
  },
  {
   "cell_type": "markdown",
   "id": "777e632f",
   "metadata": {},
   "source": [
    "## 1.3. 可变类型 (mutable type)"
   ]
  },
  {
   "cell_type": "markdown",
   "id": "671e70e8",
   "metadata": {},
   "source": [
    "默认情况下，Julia 结构体类型是不能被修改的 (immutable)"
   ]
  },
  {
   "cell_type": "code",
   "execution_count": 18,
   "id": "3f4337a7",
   "metadata": {},
   "outputs": [
    {
     "ename": "LoadError",
     "evalue": "setfield! immutable struct of type Point2D cannot be changed",
     "output_type": "error",
     "traceback": [
      "setfield! immutable struct of type Point2D cannot be changed",
      "",
      "Stacktrace:",
      " [1] setproperty!(x::Point2D, f::Symbol, v::Int64)",
      "   @ Base ./Base.jl:34",
      " [2] top-level scope",
      "   @ In[18]:2",
      " [3] eval",
      "   @ ./boot.jl:360 [inlined]",
      " [4] include_string(mapexpr::typeof(REPL.softscope), mod::Module, code::String, filename::String)",
      "   @ Base ./loading.jl:1116"
     ]
    }
   ],
   "source": [
    "p = Point2D(1, 3)\n",
    "p.x = 0"
   ]
  },
  {
   "cell_type": "markdown",
   "id": "f292e85a",
   "metadata": {},
   "source": [
    "如果需要修改的话，可以手动加上 `mutable` 关键字"
   ]
  },
  {
   "cell_type": "code",
   "execution_count": 19,
   "id": "e530630b",
   "metadata": {},
   "outputs": [],
   "source": [
    "mutable struct MPoint2D\n",
    "    x::Float64\n",
    "    y::Float64\n",
    "end"
   ]
  },
  {
   "cell_type": "code",
   "execution_count": 20,
   "id": "b7b8b73a",
   "metadata": {
    "scrolled": true
   },
   "outputs": [
    {
     "data": {
      "text/plain": [
       "MPoint2D(0.0, 1.0)"
      ]
     },
     "execution_count": 20,
     "metadata": {},
     "output_type": "execute_result"
    }
   ],
   "source": [
    "p = MPoint2D(2.0, 1.0)\n",
    "p.x = 0\n",
    "p"
   ]
  },
  {
   "cell_type": "markdown",
   "id": "5ffc46a7",
   "metadata": {},
   "source": [
    "注：为了保证正确性，可变的数据不能直接存放在寄存器和栈中，所以 mutable 会让让代码的性能变得更慢. 后面会更具体介绍这一点."
   ]
  },
  {
   "cell_type": "markdown",
   "id": "3853e48a",
   "metadata": {},
   "source": [
    "## 1.4. 参数化类型"
   ]
  },
  {
   "cell_type": "markdown",
   "id": "fdd67bb0",
   "metadata": {},
   "source": [
    "让我们的 `Point` 类型中的 `x`, `y` 固定使用 `Float64` 也许能够满足需求，但很自然的一个想法是：能否引入参数化/模版的概念，来允许更多的类型可能性？ Julia 通过 `{}` 语法提供了这样一种模式"
   ]
  },
  {
   "cell_type": "code",
   "execution_count": 21,
   "id": "722978b1",
   "metadata": {},
   "outputs": [],
   "source": [
    "struct Point{T<:Real} <: AbstractPoint\n",
    "    x::T\n",
    "    y::T\n",
    "    \n",
    "    function Point{T}(x::T, y::T) where T <: Real\n",
    "        new{T}(x, y)\n",
    "    end\n",
    "    function Point(x::T, y::T) where T <: Real\n",
    "        Point{T}(x, y)\n",
    "    end\n",
    "end"
   ]
  },
  {
   "cell_type": "code",
   "execution_count": 22,
   "id": "4bc1d60d-d924-4924-8715-40e7ed373956",
   "metadata": {},
   "outputs": [
    {
     "data": {
      "text/plain": [
       "Point{Float64}(1.0, 2.0)"
      ]
     },
     "execution_count": 22,
     "metadata": {},
     "output_type": "execute_result"
    }
   ],
   "source": [
    "Point(1.0, 2.0)"
   ]
  },
  {
   "cell_type": "code",
   "execution_count": 23,
   "id": "95650046-b4fe-4520-a3f2-d8ca8b8fe297",
   "metadata": {},
   "outputs": [
    {
     "data": {
      "text/plain": [
       "Point{Float64}(1.0, 2.0)"
      ]
     },
     "execution_count": 23,
     "metadata": {},
     "output_type": "execute_result"
    }
   ],
   "source": [
    "Point{Float64}(1.0, 2.0)"
   ]
  },
  {
   "cell_type": "code",
   "execution_count": 24,
   "id": "999cd091",
   "metadata": {
    "scrolled": true
   },
   "outputs": [
    {
     "data": {
      "text/plain": [
       "Point{Float64}(1.0, 2.0)"
      ]
     },
     "execution_count": 24,
     "metadata": {},
     "output_type": "execute_result"
    }
   ],
   "source": [
    "p_f64 = Point(1.0, 2.0)"
   ]
  },
  {
   "cell_type": "code",
   "execution_count": 25,
   "id": "75a87d30",
   "metadata": {},
   "outputs": [
    {
     "data": {
      "text/plain": [
       "Point{Int64}(1, 2)"
      ]
     },
     "execution_count": 25,
     "metadata": {},
     "output_type": "execute_result"
    }
   ],
   "source": [
    "p_i64 = Point(1, 2)"
   ]
  },
  {
   "cell_type": "markdown",
   "id": "0b8b6afe",
   "metadata": {},
   "source": [
    "要注意的是：他们是不一样的类型，所以他们的结果也并不一样"
   ]
  },
  {
   "cell_type": "code",
   "execution_count": 26,
   "id": "ee925c3a",
   "metadata": {},
   "outputs": [
    {
     "name": "stdout",
     "output_type": "stream",
     "text": [
      "typeof(p_f64) == typeof(p_i64) = false\n",
      "p_f64 == p_i64 = false\n"
     ]
    }
   ],
   "source": [
    "@show typeof(p_f64) == typeof(p_i64)\n",
    "@show p_f64 == p_i64\n",
    "nothing # 因为@show已经打印了结果，所以这里用来抑制 REPL 重复的打印"
   ]
  },
  {
   "cell_type": "markdown",
   "id": "b25f05b6",
   "metadata": {},
   "source": [
    "当然需要的情况下，可以通过多重派发来修改默认的等号定义"
   ]
  },
  {
   "cell_type": "code",
   "execution_count": 27,
   "id": "5ed1ac62",
   "metadata": {
    "scrolled": true
   },
   "outputs": [
    {
     "data": {
      "text/plain": [
       "false"
      ]
     },
     "execution_count": 27,
     "metadata": {},
     "output_type": "execute_result"
    }
   ],
   "source": [
    "Base.:(==)(p_f64, p_i64) # 所有的运算符都是函数"
   ]
  },
  {
   "cell_type": "markdown",
   "id": "88a47aaf",
   "metadata": {},
   "source": [
    "这里我们只想要覆盖 `Point` 类型的等号定义，所以需要在方法的参数上写明类型"
   ]
  },
  {
   "cell_type": "code",
   "execution_count": 28,
   "id": "bfdf0027",
   "metadata": {},
   "outputs": [],
   "source": [
    "Base.:(==)(p::Point, q::Point) = p.x == q.x && p.y == q.y"
   ]
  },
  {
   "cell_type": "code",
   "execution_count": 29,
   "id": "c3755bf9",
   "metadata": {},
   "outputs": [
    {
     "data": {
      "text/plain": [
       "true"
      ]
     },
     "execution_count": 29,
     "metadata": {},
     "output_type": "execute_result"
    }
   ],
   "source": [
    "p_f64 == p_i64 # 🎉"
   ]
  },
  {
   "cell_type": "markdown",
   "id": "a2e58571",
   "metadata": {},
   "source": [
    "## 1.5. functor\n",
    "functor 指的是像函数一样工作的类型"
   ]
  },
  {
   "cell_type": "code",
   "execution_count": 30,
   "id": "8d8d1a7a",
   "metadata": {
    "scrolled": true
   },
   "outputs": [
    {
     "data": {
      "text/plain": [
       "my_clamp (generic function with 1 method)"
      ]
     },
     "execution_count": 30,
     "metadata": {},
     "output_type": "execute_result"
    }
   ],
   "source": [
    "my_clamp(x, lo, hi) = x < lo ? lo : x > hi ? hi : x"
   ]
  },
  {
   "cell_type": "code",
   "execution_count": 31,
   "id": "b0afda20",
   "metadata": {},
   "outputs": [
    {
     "data": {
      "text/plain": [
       "7-element Vector{Float64}:\n",
       " 0.0\n",
       " 0.0\n",
       " 0.1\n",
       " 0.4\n",
       " 0.7\n",
       " 1.0\n",
       " 1.0"
      ]
     },
     "execution_count": 31,
     "metadata": {},
     "output_type": "execute_result"
    }
   ],
   "source": [
    "my_clamp.(-0.5:0.3:1.5, 0.0, 1.0)"
   ]
  },
  {
   "cell_type": "markdown",
   "id": "8854daea",
   "metadata": {},
   "source": [
    "这件事情有时候会写成"
   ]
  },
  {
   "cell_type": "code",
   "execution_count": 32,
   "id": "9520e147",
   "metadata": {},
   "outputs": [],
   "source": [
    "struct Clamp{T}\n",
    "    lo::T\n",
    "    hi::T\n",
    "end\n",
    "# 定义了 Clamp 类型的实例作为函数使用。等价于 Python 中的 __call__ 方法\n",
    "(f::Clamp)(x) = x < f.lo ? f.lo : x > f.hi ? f.hi : x"
   ]
  },
  {
   "cell_type": "code",
   "execution_count": 33,
   "id": "9aeb7b33",
   "metadata": {
    "scrolled": false
   },
   "outputs": [
    {
     "data": {
      "text/plain": [
       "7-element Vector{Float64}:\n",
       " 0.0\n",
       " 0.0\n",
       " 0.1\n",
       " 0.4\n",
       " 0.7\n",
       " 1.0\n",
       " 1.0"
      ]
     },
     "execution_count": 33,
     "metadata": {},
     "output_type": "execute_result"
    }
   ],
   "source": [
    "f = Clamp(0.0, 1.0)\n",
    "f.(-0.5:0.3:1.5) # Clamp 类型的值作为函数使用"
   ]
  },
  {
   "cell_type": "markdown",
   "id": "59d87b73",
   "metadata": {},
   "source": [
    "## 1.6. 方法 (method)"
   ]
  },
  {
   "cell_type": "markdown",
   "id": "54170ccb",
   "metadata": {},
   "source": [
    "一个函数允许定义多个不同的方法，关于方法定义的最基本规则是：\n",
    "\n",
    "* Rule 1: 函数调用时调用类型“最具体”的方法\n",
    "* Rule 2: 存在多个匹配并且无法判断的时候直接报错\n",
    "* Rule 3: 关键词参数不参与多重派发"
   ]
  },
  {
   "cell_type": "code",
   "execution_count": 34,
   "id": "6862501f-fa08-4890-84fa-886d0b1a6da8",
   "metadata": {},
   "outputs": [
    {
     "data": {
      "text/plain": [
       "g (generic function with 2 methods)"
      ]
     },
     "execution_count": 34,
     "metadata": {},
     "output_type": "execute_result"
    }
   ],
   "source": [
    "g(x) = \"Any\"\n",
    "g(x::String) = \"String\""
   ]
  },
  {
   "cell_type": "code",
   "execution_count": 35,
   "id": "851c7bb4-1c95-486b-b675-64d3d689fc47",
   "metadata": {},
   "outputs": [
    {
     "data": {
      "text/plain": [
       "\"String\""
      ]
     },
     "execution_count": 35,
     "metadata": {},
     "output_type": "execute_result"
    }
   ],
   "source": [
    "g(\"hello\")"
   ]
  },
  {
   "cell_type": "code",
   "execution_count": 36,
   "id": "62532f5a",
   "metadata": {
    "scrolled": true
   },
   "outputs": [
    {
     "data": {
      "text/plain": [
       "h (generic function with 3 methods)"
      ]
     },
     "execution_count": 36,
     "metadata": {},
     "output_type": "execute_result"
    }
   ],
   "source": [
    "h(x, y) = \"h(x::Any, y::Any) is called\"\n",
    "h(x, y::Number) = \"h(x::Any, y::Number) is called\"\n",
    "h(x::Number, y) = \"h(x::Number, y::Any) is called\""
   ]
  },
  {
   "cell_type": "code",
   "execution_count": 37,
   "id": "d9d11994",
   "metadata": {
    "scrolled": true
   },
   "outputs": [
    {
     "ename": "LoadError",
     "evalue": "MethodError: h(::Int64, ::Float64) is ambiguous. Candidates:\n  h(x, y::Number) in Main at In[36]:2\n  h(x::Number, y) in Main at In[36]:3\nPossible fix, define\n  h(::\u001b[0mNumber, ::\u001b[0mNumber)",
     "output_type": "error",
     "traceback": [
      "MethodError: h(::Int64, ::Float64) is ambiguous. Candidates:\n  h(x, y::Number) in Main at In[36]:2\n  h(x::Number, y) in Main at In[36]:3\nPossible fix, define\n  h(::\u001b[0mNumber, ::\u001b[0mNumber)",
      "",
      "Stacktrace:",
      " [1] top-level scope",
      "   @ In[37]:1",
      " [2] eval",
      "   @ ./boot.jl:360 [inlined]",
      " [3] include_string(mapexpr::typeof(REPL.softscope), mod::Module, code::String, filename::String)",
      "   @ Base ./loading.jl:1116"
     ]
    }
   ],
   "source": [
    "h(1, 1.0)"
   ]
  },
  {
   "cell_type": "markdown",
   "id": "366b0a1c",
   "metadata": {},
   "source": [
    "出现歧义的时候，一般可以通过补充定义的方式来辅助 Julia 的类型系统"
   ]
  },
  {
   "cell_type": "code",
   "execution_count": 38,
   "id": "d2226a91",
   "metadata": {},
   "outputs": [
    {
     "data": {
      "text/plain": [
       "h (generic function with 4 methods)"
      ]
     },
     "execution_count": 38,
     "metadata": {},
     "output_type": "execute_result"
    }
   ],
   "source": [
    "h(x::Number, y::Number) = \"h(x::Number, y::Number) is called\""
   ]
  },
  {
   "cell_type": "code",
   "execution_count": 39,
   "id": "5ea2c846",
   "metadata": {},
   "outputs": [
    {
     "data": {
      "text/plain": [
       "\"h(x::Number, y::Number) is called\""
      ]
     },
     "execution_count": 39,
     "metadata": {},
     "output_type": "execute_result"
    }
   ],
   "source": [
    "h(1, 1.0)"
   ]
  },
  {
   "cell_type": "markdown",
   "id": "82f13d27",
   "metadata": {},
   "source": [
    "方法也有所谓的参数化方法"
   ]
  },
  {
   "cell_type": "code",
   "execution_count": 40,
   "id": "f83a1228",
   "metadata": {},
   "outputs": [
    {
     "data": {
      "text/plain": [
       "mysum (generic function with 1 method)"
      ]
     },
     "execution_count": 40,
     "metadata": {},
     "output_type": "execute_result"
    }
   ],
   "source": [
    "function mysum(A::AbstractArray{T}) where T<:Number\n",
    "    rst = zero(T)\n",
    "    for x in A\n",
    "        rst += x\n",
    "    end\n",
    "    return rst\n",
    "end"
   ]
  },
  {
   "cell_type": "markdown",
   "id": "1485119b",
   "metadata": {},
   "source": [
    "当不需要知道具体的参数值的时候，也可以省略它. 这与上面的写法是等价的"
   ]
  },
  {
   "cell_type": "code",
   "execution_count": 41,
   "id": "89bf052f",
   "metadata": {},
   "outputs": [
    {
     "data": {
      "text/plain": [
       "mysum (generic function with 1 method)"
      ]
     },
     "execution_count": 41,
     "metadata": {},
     "output_type": "execute_result"
    }
   ],
   "source": [
    "function mysum(A::AbstractArray{<:Number})\n",
    "    rst = zero(eltype(A))\n",
    "    for x in A\n",
    "        rst += x\n",
    "    end\n",
    "    return rst\n",
    "end"
   ]
  },
  {
   "cell_type": "markdown",
   "id": "5400670a",
   "metadata": {},
   "source": [
    "# 2. 典型设计模式\n",
    "\n",
    "这些典型设计模式在 Julia 标准库中随处可见。它们背后的核心思路是：\n",
    "\n",
    "- 如何设计更一般化的代码：优雅地设计代码来支持不同的使用（而不是复制黏贴）\n",
    "- 如何达到最佳性能\n",
    "\n",
    "大纲：\n",
    "\n",
    "- 代码设计：\n",
    "  - trait function 的设计：`ndims`, `eltype` 等\n",
    "  - 带默认值的位置参数（多重派发版本）：`zeros`, `ones`, `rand` 等\n",
    "  - trait-based dispatch\n",
    "  - iterated dispatch\n",
    "- 性能:\n",
    "  - 类型稳定\n",
    "  - 抽象类型\n",
    "  - 可变类型"
   ]
  },
  {
   "cell_type": "markdown",
   "id": "e5037d94",
   "metadata": {},
   "source": [
    "## 2.1. 代码设计"
   ]
  },
  {
   "cell_type": "markdown",
   "id": "6fca0423",
   "metadata": {},
   "source": [
    "### 2.1.1. Trait function\n",
    "\n",
    "`eltype`, `typeof`, `ndims` 等用来提取一些基本信息的函数在 Julia 下一般叫 trait function 或者 traits"
   ]
  },
  {
   "cell_type": "markdown",
   "id": "62f4a26f",
   "metadata": {},
   "source": [
    "`typeof`"
   ]
  },
  {
   "cell_type": "code",
   "execution_count": 42,
   "id": "a5342549",
   "metadata": {},
   "outputs": [
    {
     "data": {
      "text/plain": [
       "Int64"
      ]
     },
     "execution_count": 42,
     "metadata": {},
     "output_type": "execute_result"
    }
   ],
   "source": [
    "typeof(1)"
   ]
  },
  {
   "cell_type": "code",
   "execution_count": 43,
   "id": "cc4a3c66",
   "metadata": {
    "scrolled": true
   },
   "outputs": [
    {
     "data": {
      "text/plain": [
       "my_typeof (generic function with 1 method)"
      ]
     },
     "execution_count": 43,
     "metadata": {},
     "output_type": "execute_result"
    }
   ],
   "source": [
    "my_typeof(::T) where T = T"
   ]
  },
  {
   "cell_type": "code",
   "execution_count": 44,
   "id": "be0d23f8",
   "metadata": {},
   "outputs": [
    {
     "data": {
      "text/plain": [
       "Int64"
      ]
     },
     "execution_count": 44,
     "metadata": {},
     "output_type": "execute_result"
    }
   ],
   "source": [
    "my_typeof(1)"
   ]
  },
  {
   "cell_type": "markdown",
   "id": "eb0fb7c5",
   "metadata": {},
   "source": [
    "Julia 关于数组的接口是如下定义的\n",
    "\n",
    "```julia\n",
    "abstract type AbstractArray{T,N} end\n",
    "```\n",
    "\n",
    "其中 `T` 为元素类型，`N` 为维数."
   ]
  },
  {
   "cell_type": "markdown",
   "id": "62baeddd",
   "metadata": {},
   "source": [
    "`eltype`"
   ]
  },
  {
   "cell_type": "code",
   "execution_count": 45,
   "id": "4db78d9e",
   "metadata": {},
   "outputs": [
    {
     "data": {
      "text/plain": [
       "Int64"
      ]
     },
     "execution_count": 45,
     "metadata": {},
     "output_type": "execute_result"
    }
   ],
   "source": [
    "eltype([1, 2, 3])"
   ]
  },
  {
   "cell_type": "code",
   "execution_count": 46,
   "id": "961543f2",
   "metadata": {},
   "outputs": [
    {
     "data": {
      "text/plain": [
       "my_eltype (generic function with 1 method)"
      ]
     },
     "execution_count": 46,
     "metadata": {},
     "output_type": "execute_result"
    }
   ],
   "source": [
    "my_eltype(::AbstractArray{T}) where T = T"
   ]
  },
  {
   "cell_type": "code",
   "execution_count": 47,
   "id": "2a47d444",
   "metadata": {},
   "outputs": [
    {
     "data": {
      "text/plain": [
       "Int64"
      ]
     },
     "execution_count": 47,
     "metadata": {},
     "output_type": "execute_result"
    }
   ],
   "source": [
    "my_eltype([1, 2, 3])"
   ]
  },
  {
   "cell_type": "markdown",
   "id": "034875ab",
   "metadata": {},
   "source": [
    "`ndims`"
   ]
  },
  {
   "cell_type": "code",
   "execution_count": 48,
   "id": "55fe9723",
   "metadata": {},
   "outputs": [
    {
     "data": {
      "text/plain": [
       "my_ndims (generic function with 1 method)"
      ]
     },
     "execution_count": 48,
     "metadata": {},
     "output_type": "execute_result"
    }
   ],
   "source": [
    "my_ndims(::AbstractArray{T,N}) where {T,N} = N"
   ]
  },
  {
   "cell_type": "code",
   "execution_count": 49,
   "id": "c94feee2-8b5e-49f4-ba02-94f51f1e2dac",
   "metadata": {},
   "outputs": [
    {
     "data": {
      "text/plain": [
       "2"
      ]
     },
     "execution_count": 49,
     "metadata": {},
     "output_type": "execute_result"
    }
   ],
   "source": [
    "my_ndims(rand(4, 4))"
   ]
  },
  {
   "cell_type": "code",
   "execution_count": 50,
   "id": "f07fcf79-855b-40c1-9a89-bc283db59633",
   "metadata": {},
   "outputs": [
    {
     "name": "stdout",
     "output_type": "stream",
     "text": [
      "  0.038 ns (0 allocations: 0 bytes)\n"
     ]
    },
    {
     "data": {
      "text/plain": [
       "2"
      ]
     },
     "execution_count": 50,
     "metadata": {},
     "output_type": "execute_result"
    }
   ],
   "source": [
    "X = rand(4, 4)\n",
    "@btime my_ndims($X)"
   ]
  },
  {
   "cell_type": "markdown",
   "id": "4ad5f442",
   "metadata": {},
   "source": [
    "### 2.1.2 带默认值的位置参数 - 基于多重派发"
   ]
  },
  {
   "cell_type": "markdown",
   "id": "41f6ded0",
   "metadata": {},
   "source": [
    "`zeros` 的文档中的签名描述如下：\n",
    "\n",
    "```julia\n",
    "    zeros([T=Float64,] dims::Tuple)\n",
    "```\n",
    "\n",
    "其中 `T` 是可选位置参数"
   ]
  },
  {
   "cell_type": "code",
   "execution_count": 51,
   "id": "497dfce6",
   "metadata": {},
   "outputs": [
    {
     "data": {
      "text/plain": [
       "2×3 Matrix{Float64}:\n",
       " 0.0  0.0  0.0\n",
       " 0.0  0.0  0.0"
      ]
     },
     "execution_count": 51,
     "metadata": {},
     "output_type": "execute_result"
    }
   ],
   "source": [
    "zeros((2, 3))"
   ]
  },
  {
   "cell_type": "code",
   "execution_count": 52,
   "id": "b191583d",
   "metadata": {},
   "outputs": [
    {
     "data": {
      "text/plain": [
       "2×3 Matrix{Float32}:\n",
       " 0.0  0.0  0.0\n",
       " 0.0  0.0  0.0"
      ]
     },
     "execution_count": 52,
     "metadata": {},
     "output_type": "execute_result"
    }
   ],
   "source": [
    "zeros(Float32, (2, 3))"
   ]
  },
  {
   "cell_type": "markdown",
   "id": "ceefb2bb",
   "metadata": {},
   "source": [
    "Julia 的函数定义中，带默认值的位置参数一定要放在最后。例如以下写法是错误的："
   ]
  },
  {
   "cell_type": "code",
   "execution_count": 53,
   "id": "0122cb37",
   "metadata": {},
   "outputs": [
    {
     "ename": "LoadError",
     "evalue": "syntax: optional positional arguments must occur at end around In[53]:1",
     "output_type": "error",
     "traceback": [
      "syntax: optional positional arguments must occur at end around In[53]:1",
      "",
      "Stacktrace:",
      " [1] top-level scope",
      "   @ In[53]:1",
      " [2] eval",
      "   @ ./boot.jl:360 [inlined]",
      " [3] include_string(mapexpr::typeof(REPL.softscope), mod::Module, code::String, filename::String)",
      "   @ Base ./loading.jl:1116"
     ]
    }
   ],
   "source": [
    "function my_zeros(T=Float64, dims::Tuple)\n",
    "    out = Array{T,length(dims)}(undef, dims)\n",
    "    fill!(out, zero(T))\n",
    "end"
   ]
  },
  {
   "cell_type": "markdown",
   "id": "c2c1ac95",
   "metadata": {},
   "source": [
    "但是可以拆分成两个方法"
   ]
  },
  {
   "cell_type": "code",
   "execution_count": 54,
   "id": "7885e524",
   "metadata": {},
   "outputs": [
    {
     "data": {
      "text/plain": [
       "my_zeros (generic function with 2 methods)"
      ]
     },
     "execution_count": 54,
     "metadata": {},
     "output_type": "execute_result"
    }
   ],
   "source": [
    "my_zeros(dims) = my_zeros(Float64, dims)\n",
    "function my_zeros(::Type{T}, dims::Tuple) where T\n",
    "    out = Array{T,length(dims)}(undef, dims)\n",
    "    fill!(out, zero(T))\n",
    "end"
   ]
  },
  {
   "cell_type": "code",
   "execution_count": 55,
   "id": "35408054",
   "metadata": {},
   "outputs": [
    {
     "data": {
      "text/plain": [
       "2×3 Matrix{Float64}:\n",
       " 0.0  0.0  0.0\n",
       " 0.0  0.0  0.0"
      ]
     },
     "execution_count": 55,
     "metadata": {},
     "output_type": "execute_result"
    }
   ],
   "source": [
    "my_zeros((2, 3))"
   ]
  },
  {
   "cell_type": "code",
   "execution_count": 56,
   "id": "de7def86",
   "metadata": {},
   "outputs": [
    {
     "data": {
      "text/plain": [
       "2×3 Matrix{Float32}:\n",
       " 0.0  0.0  0.0\n",
       " 0.0  0.0  0.0"
      ]
     },
     "execution_count": 56,
     "metadata": {},
     "output_type": "execute_result"
    }
   ],
   "source": [
    "my_zeros(Float32, (2, 3))"
   ]
  },
  {
   "cell_type": "markdown",
   "id": "3b76cbb7",
   "metadata": {},
   "source": [
    "从而绕过了关于位置参数默认值的这一限制"
   ]
  },
  {
   "cell_type": "markdown",
   "id": "917996c1",
   "metadata": {},
   "source": [
    "### 2.1.3. Trait-based dispatch\n",
    "\n",
    "这个方法的思路是构造一个空的数据类型来辅助 Julia 进行多重派发。这个方法有时又称为 Holy-trait （因为发明者叫 [tim holy](https://github.com/timholy)）\n",
    "\n",
    "Motivation: 因为 Julia 不允许一个跨越抽象类型的继承，换句话说，当 `B` 和 `C` 之间不存在继承关系时，不允许定义 `A <: B` 且 `A <: C`。例如：企鹅是鸟类但企鹅不会飞这件事情并不能直接写\n",
    "\n",
    "```julia\n",
    "abstract type Flyable end\n",
    "abstract type NotFlyable end\n",
    "\n",
    "abstract type Animal end\n",
    "abstract type Bird <: Animal end\n",
    "\n",
    "# 这在其他语言下属于多重继承\n",
    "struct Penguin <: {Flyable, Bird}\n",
    "    name\n",
    "end\n",
    "```"
   ]
  },
  {
   "cell_type": "markdown",
   "id": "af00db1e",
   "metadata": {},
   "source": [
    "在 Julia 下，可以通过构造 trait type 来实现"
   ]
  },
  {
   "cell_type": "code",
   "execution_count": 57,
   "id": "25ef6fd6",
   "metadata": {},
   "outputs": [
    {
     "data": {
      "text/plain": [
       "fly (generic function with 3 methods)"
      ]
     },
     "execution_count": 57,
     "metadata": {},
     "output_type": "execute_result"
    }
   ],
   "source": [
    "struct Flyable end\n",
    "struct NotFlyable end\n",
    "abstract type Animal end\n",
    "abstract type Bird <: Animal end\n",
    "\n",
    "struct Parrot <: Bird\n",
    "    name\n",
    "end\n",
    "struct Penguin <: Bird\n",
    "    name\n",
    "end\n",
    "\n",
    "is_flyable(x::Penguin) = NotFlyable()\n",
    "is_flyable(x::Bird) = Flyable()\n",
    "\n",
    "fly(x) = fly(is_flyable(x), x)\n",
    "fly(::Flyable, x) = \"$(x.name) flys\"\n",
    "fly(::NotFlyable, x) = \"$(x.name) can't fly\""
   ]
  },
  {
   "cell_type": "code",
   "execution_count": 58,
   "id": "8dd812ff",
   "metadata": {},
   "outputs": [
    {
     "data": {
      "text/plain": [
       "\"Jane can't fly\""
      ]
     },
     "execution_count": 58,
     "metadata": {},
     "output_type": "execute_result"
    }
   ],
   "source": [
    "fly(Penguin(\"Jane\"))"
   ]
  },
  {
   "cell_type": "code",
   "execution_count": 59,
   "id": "cecaa69a",
   "metadata": {},
   "outputs": [
    {
     "data": {
      "text/plain": [
       "\"Doe flys\""
      ]
     },
     "execution_count": 59,
     "metadata": {},
     "output_type": "execute_result"
    }
   ],
   "source": [
    "fly(Parrot(\"Doe\"))"
   ]
  },
  {
   "cell_type": "markdown",
   "id": "ef774c79",
   "metadata": {},
   "source": [
    "这在某些场景下非常有用，例如在矩阵的下标计算这件事情上，存在不同的索引方式:\n",
    "\n",
    "- 有些矩阵类型支持线性下标索引\n",
    "- 有些矩阵类型仅支持多重下标索引 (CartesianIndex)\n",
    "\n",
    "这里面有几个关键点：\n",
    "\n",
    "- 线性下标索引允许更高效的内存操作\n",
    "- 我们不能在代码运行的时候才通过 `if` 来检查给定的矩阵类型是否支持线性下标索引，因为这会浪费很多计算量，并且也很容易导致编译器无法给出高效的代码优化（例如 SIMD）\n",
    "\n",
    "注：当然，从一个用户的角度来说，绝大部分时候你并不需要亲自去思考这些特别基础的东西。但是如果想要进一步提升编程的认知并且成为一个开发者的话，则是需要了解这些的。"
   ]
  },
  {
   "cell_type": "code",
   "execution_count": 67,
   "id": "a2889d86",
   "metadata": {
    "scrolled": true
   },
   "outputs": [
    {
     "data": {
      "text/plain": [
       "3×3 adjoint(::Matrix{Float64}) with eltype Float64:\n",
       " 0.727683  0.618231  0.616776\n",
       " 0.674304  0.302966  0.784589\n",
       " 0.29834   0.516675  0.371359"
      ]
     },
     "execution_count": 67,
     "metadata": {},
     "output_type": "execute_result"
    }
   ],
   "source": [
    "X = rand(3)\n",
    "Y = rand(3, 3)' # 转置矩阵"
   ]
  },
  {
   "cell_type": "code",
   "execution_count": 68,
   "id": "4caacbdb",
   "metadata": {
    "scrolled": true
   },
   "outputs": [
    {
     "data": {
      "text/plain": [
       "(IndexLinear(), IndexCartesian())"
      ]
     },
     "execution_count": 68,
     "metadata": {},
     "output_type": "execute_result"
    }
   ],
   "source": [
    "IndexStyle(X), IndexStyle(Y)"
   ]
  },
  {
   "cell_type": "code",
   "execution_count": 69,
   "id": "d20c9f25",
   "metadata": {},
   "outputs": [
    {
     "data": {
      "text/plain": [
       "(1, CartesianIndex(1, 1))"
      ]
     },
     "execution_count": 69,
     "metadata": {},
     "output_type": "execute_result"
    }
   ],
   "source": [
    "first(eachindex(X)), first(eachindex(Y))"
   ]
  },
  {
   "cell_type": "markdown",
   "id": "3e815694",
   "metadata": {},
   "source": [
    "这里 `eachindex` 的构造方式就和 `fly` 类似：\n",
    "\n",
    "```julia\n",
    "struct IndexCartesian end\n",
    "struct IndexLinear end\n",
    "\n",
    "eachindex(X) = eachindex(IndexType(X), X)\n",
    "eachindex(::IndexCartesian, X) = CartesianIndices(X)\n",
    "eachindex(::IndexLinear, X) = LinearIndices(X)\n",
    "```"
   ]
  },
  {
   "cell_type": "markdown",
   "id": "f9363b08",
   "metadata": {},
   "source": [
    "### 2.1.4. 正交化代码设计"
   ]
  },
  {
   "cell_type": "markdown",
   "id": "fc332654",
   "metadata": {},
   "source": [
    "一个设计的好的多重派发可以写的很短并且避免各种歧义的产生，在设计多重派发的时候，一般来说会将代码设计正交化，这样做有两个好处：\n",
    "\n",
    "- 减少代码冗余\n",
    "- 避免多重派发的歧义\n",
    "\n",
    "关于正交化代码设计最典型的场景是本质上为标量运算的矩阵函数，例如 `+`\n",
    "\n",
    "```julia\n",
    "# 第一步将矩阵运算直接拆分成标量运算\n",
    "+(a::Matrix, b::Matrix) = map(+, a, b)\n",
    "# 第二步将标量运算的数据类型转换成一致的\n",
    "+(a, b) = +(promote(a, b)...)\n",
    "# 最后才调用核心计算方法\n",
    "+(a::Float64, b::Float64) = Core.add(a, b)\n",
    "```"
   ]
  },
  {
   "cell_type": "markdown",
   "id": "11656355",
   "metadata": {},
   "source": [
    "## 2.2. 关于性能"
   ]
  },
  {
   "cell_type": "markdown",
   "id": "4d11458e",
   "metadata": {},
   "source": [
    "不考虑算法层面的问题的话，在 Julia 下想要得到好的性能的核心思路就是：传递更多的类型信息给编译器"
   ]
  },
  {
   "cell_type": "code",
   "execution_count": 70,
   "id": "e5ad9318",
   "metadata": {},
   "outputs": [
    {
     "data": {
      "text/plain": [
       "my_sum (generic function with 1 method)"
      ]
     },
     "execution_count": 70,
     "metadata": {},
     "output_type": "execute_result"
    }
   ],
   "source": [
    "function my_sum(X)\n",
    "    rst = zero(eltype(X))\n",
    "    @inbounds @simd for x in X\n",
    "        rst += x\n",
    "    end\n",
    "    return rst\n",
    "end"
   ]
  },
  {
   "cell_type": "markdown",
   "id": "f27c6c29",
   "metadata": {},
   "source": [
    "### 2.2.1 类型稳定"
   ]
  },
  {
   "cell_type": "code",
   "execution_count": 71,
   "id": "b5b29bd6-6ac1-4068-9cab-75961c75c331",
   "metadata": {},
   "outputs": [
    {
     "data": {
      "text/plain": [
       "0.851217969715389"
      ]
     },
     "execution_count": 71,
     "metadata": {},
     "output_type": "execute_result"
    }
   ],
   "source": [
    "if rand() > 0.5\n",
    "    rand(Int)\n",
    "else\n",
    "    rand(Float64)\n",
    "end"
   ]
  },
  {
   "cell_type": "code",
   "execution_count": 72,
   "id": "a027d924-dca4-436b-9b1e-ec3be24fdf99",
   "metadata": {},
   "outputs": [
    {
     "ename": "LoadError",
     "evalue": "UndefVarError: rand_unstable not defined",
     "output_type": "error",
     "traceback": [
      "UndefVarError: rand_unstable not defined",
      "",
      "Stacktrace:",
      " [1] top-level scope",
      "   @ In[72]:1",
      " [2] eval",
      "   @ ./boot.jl:360 [inlined]",
      " [3] include_string(mapexpr::typeof(REPL.softscope), mod::Module, code::String, filename::String)",
      "   @ Base ./loading.jl:1116"
     ]
    }
   ],
   "source": [
    "@code_warntype rand_unstable()"
   ]
  },
  {
   "cell_type": "code",
   "execution_count": 73,
   "id": "8ff4eb89",
   "metadata": {
    "scrolled": true
   },
   "outputs": [
    {
     "ename": "LoadError",
     "evalue": "syntax: space required before colon in \"?\" expression",
     "output_type": "error",
     "traceback": [
      "syntax: space required before colon in \"?\" expression",
      "",
      "Stacktrace:",
      " [1] top-level scope",
      "   @ In[73]:2",
      " [2] eval",
      "   @ ./boot.jl:360 [inlined]",
      " [3] include_string(mapexpr::typeof(REPL.softscope), mod::Module, code::String, filename::String)",
      "   @ Base ./loading.jl:1116"
     ]
    }
   ],
   "source": [
    "rand_unstable() = rand() > 0.5 ? rand(Int) : rand(Float64)\n",
    "rand_stable() = rand() > 0.5 ? rand(Float64): rand(Float64)\n",
    "\n",
    "X = @btime [rand_unstable() for _ in 1:1001]\n",
    "@btime my_sum($X)\n",
    "\n",
    "Y = @btime [rand_stable() for _ in 1:1001]\n",
    "@btime my_sum($Y)"
   ]
  },
  {
   "cell_type": "markdown",
   "id": "b1699937",
   "metadata": {},
   "source": [
    "## 2.2.2 抽象类型"
   ]
  },
  {
   "cell_type": "code",
   "execution_count": 74,
   "id": "4037a02b",
   "metadata": {},
   "outputs": [],
   "source": [
    "struct MyNumber <: Real\n",
    "    x\n",
    "end\n",
    "Base.:(+)(a::MyNumber, b::MyNumber) = MyNumber(a.x + b.x)\n",
    "Base.zero(a::MyNumber) = MyNumber(0)\n",
    "\n",
    "struct MyNumberT{T} <: Real\n",
    "    x::T\n",
    "end\n",
    "Base.:(+)(a::MyNumberT, b::MyNumberT) = MyNumberT(a.x + b.x)\n",
    "Base.zero(a::MyNumberT{T}) where T = MyNumberT(zero(T))"
   ]
  },
  {
   "cell_type": "markdown",
   "id": "9e0709ec",
   "metadata": {},
   "source": [
    "这两个类型表面上没有任何差别：他们都能存储任意的类型。但是差别在于前者传递给 Julia 编译器的类型信息是 Any 而后者是一个具体的模版类型 T"
   ]
  },
  {
   "cell_type": "code",
   "execution_count": 75,
   "id": "7ac4aa6d",
   "metadata": {},
   "outputs": [
    {
     "name": "stdout",
     "output_type": "stream",
     "text": [
      "  6.726 μs (1002 allocations: 23.64 KiB)\n",
      "  111.353 μs (3003 allocations: 46.92 KiB)\n",
      "  2.811 μs (1 allocation: 8.00 KiB)\n",
      "  60.471 ns (0 allocations: 0 bytes)\n"
     ]
    },
    {
     "data": {
      "text/plain": [
       "MyNumberT{Float64}(497.7013685381756)"
      ]
     },
     "execution_count": 75,
     "metadata": {},
     "output_type": "execute_result"
    }
   ],
   "source": [
    "X = @btime [MyNumber(rand()) for _ in 1:1001]\n",
    "@btime my_sum($X)\n",
    "\n",
    "Y = @btime [MyNumberT(rand()) for _ in 1:1001]\n",
    "@btime my_sum($Y)"
   ]
  },
  {
   "cell_type": "markdown",
   "id": "1158a9ad",
   "metadata": {},
   "source": [
    "### 2.2.3 可变类型"
   ]
  },
  {
   "cell_type": "markdown",
   "id": "4ebf3f5e",
   "metadata": {},
   "source": [
    "可变这件事情会让编译器放弃一些优化策略，因此从性能的角度来说，很多时候我们需要使用不可变的数据结构"
   ]
  },
  {
   "cell_type": "code",
   "execution_count": 76,
   "id": "f35e6ec0",
   "metadata": {},
   "outputs": [],
   "source": [
    "mutable struct MNumber{T} <: Real\n",
    "   x::T\n",
    "end\n",
    "Base.:(+)(a::MNumber, b::MNumber) = MNumber(a.x + b.x)\n",
    "Base.zero(a::MNumber) = MNumber(0)"
   ]
  },
  {
   "cell_type": "code",
   "execution_count": 77,
   "id": "9b3f5d56-0faa-4d46-8569-ca258026b268",
   "metadata": {
    "scrolled": true
   },
   "outputs": [
    {
     "name": "stdout",
     "output_type": "stream",
     "text": [
      "  7.382 μs (1002 allocations: 23.64 KiB)\n",
      "  3.667 μs (1002 allocations: 15.66 KiB)\n",
      "  3.052 μs (1 allocation: 8.00 KiB)\n",
      "  61.745 ns (0 allocations: 0 bytes)\n"
     ]
    },
    {
     "data": {
      "text/plain": [
       "MyNumberT{Float64}(478.92337658477805)"
      ]
     },
     "execution_count": 77,
     "metadata": {},
     "output_type": "execute_result"
    }
   ],
   "source": [
    "X = @btime [MNumber(rand()) for _ in 1:1001]\n",
    "@btime my_sum($X)\n",
    "\n",
    "Y = @btime [MyNumberT(rand()) for _ in 1:1001]\n",
    "@btime my_sum($Y)"
   ]
  },
  {
   "cell_type": "markdown",
   "id": "607b9224",
   "metadata": {},
   "source": [
    "当然要注意的是，一个不可变的数据在某种意义上依然可以做到可变的（只要依然还是同一个对象）"
   ]
  },
  {
   "cell_type": "code",
   "execution_count": 78,
   "id": "56ca1248-253a-4e96-a917-d68dd04228ce",
   "metadata": {},
   "outputs": [],
   "source": [
    "struct Data{AT<:AbstractArray}\n",
    "    data::AT\n",
    "end"
   ]
  },
  {
   "cell_type": "code",
   "execution_count": 79,
   "id": "1418d183",
   "metadata": {
    "scrolled": true
   },
   "outputs": [
    {
     "data": {
      "text/plain": [
       "Data{Matrix{Float64}}([0.09001197287653917 0.16745869469938102 0.4887072681371949 0.8092234313083664; 0.4349864912709671 0.7100796276819663 0.40219492834551973 0.8346028431216066; 0.001760367400819307 0.11906747146564545 0.012824490964280066 0.18833065480288336; 0.8250581334897422 0.49371484585640624 0.07757687757373244 0.5526427594134511])"
      ]
     },
     "execution_count": 79,
     "metadata": {},
     "output_type": "execute_result"
    }
   ],
   "source": [
    "X = Data(rand(4, 4))"
   ]
  },
  {
   "cell_type": "markdown",
   "id": "f75dc2bc",
   "metadata": {},
   "source": [
    "可以修改 `X.data` 的值"
   ]
  },
  {
   "cell_type": "code",
   "execution_count": 80,
   "id": "81cec366",
   "metadata": {},
   "outputs": [
    {
     "data": {
      "text/plain": [
       "Data{Matrix{Float64}}([0.0 0.0 0.0 0.0; 0.0 0.0 0.0 0.0; 0.0 0.0 0.0 0.0; 0.0 0.0 0.0 0.0])"
      ]
     },
     "execution_count": 80,
     "metadata": {},
     "output_type": "execute_result"
    }
   ],
   "source": [
    "fill!(X.data, 0)\n",
    "X"
   ]
  },
  {
   "cell_type": "markdown",
   "id": "d073b3aa",
   "metadata": {},
   "source": [
    "但是不能修改 `x.data`"
   ]
  },
  {
   "cell_type": "code",
   "execution_count": 81,
   "id": "2550d9be",
   "metadata": {},
   "outputs": [
    {
     "ename": "LoadError",
     "evalue": "setfield! immutable struct of type Data cannot be changed",
     "output_type": "error",
     "traceback": [
      "setfield! immutable struct of type Data cannot be changed",
      "",
      "Stacktrace:",
      " [1] setproperty!(x::Data{Matrix{Float64}}, f::Symbol, v::Matrix{Float64})",
      "   @ Base ./Base.jl:34",
      " [2] top-level scope",
      "   @ In[81]:1",
      " [3] eval",
      "   @ ./boot.jl:360 [inlined]",
      " [4] include_string(mapexpr::typeof(REPL.softscope), mod::Module, code::String, filename::String)",
      "   @ Base ./loading.jl:1116"
     ]
    }
   ],
   "source": [
    "X.data = rand(4, 4)"
   ]
  },
  {
   "cell_type": "code",
   "execution_count": null,
   "id": "524c0a34",
   "metadata": {},
   "outputs": [],
   "source": []
  }
 ],
 "metadata": {
  "@webio": {
   "lastCommId": null,
   "lastKernelId": null
  },
  "kernelspec": {
   "display_name": "Julia 1.6.3",
   "language": "julia",
   "name": "julia-1.6"
  },
  "language_info": {
   "file_extension": ".jl",
   "mimetype": "application/julia",
   "name": "julia",
   "version": "1.6.3"
  }
 },
 "nbformat": 4,
 "nbformat_minor": 5
}
